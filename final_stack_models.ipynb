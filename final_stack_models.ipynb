{
 "cells": [
  {
   "cell_type": "code",
   "execution_count": 1,
   "metadata": {
    "collapsed": true
   },
   "outputs": [],
   "source": [
    "from zipfile import ZipFile\n",
    "import pandas as pd\n",
    "import numpy as np\n",
    "import pickle\n",
    "import re"
   ]
  },
  {
   "cell_type": "code",
   "execution_count": 2,
   "metadata": {
    "collapsed": true
   },
   "outputs": [],
   "source": [
    "%matplotlib inline\n",
    "import matplotlib.pyplot as plt"
   ]
  },
  {
   "cell_type": "markdown",
   "metadata": {},
   "source": [
    "# Загрузка данных"
   ]
  },
  {
   "cell_type": "code",
   "execution_count": 3,
   "metadata": {
    "collapsed": true
   },
   "outputs": [],
   "source": [
    "def gen_parcer(f):\n",
    "    for line in f.readlines():\n",
    "        yield line.decode().strip().split(\"\\t\")"
   ]
  },
  {
   "cell_type": "code",
   "execution_count": 4,
   "metadata": {
    "collapsed": true
   },
   "outputs": [],
   "source": [
    "with ZipFile('data2.zip') as datazip:\n",
    "    with datazip.open('train.tsv') as f:\n",
    "        pd_train = pd.DataFrame(gen_parcer(f),\n",
    "                                columns=[\"context_id\", \"context_2\", \"context_1\", \"context_0\", \"reply_id\", \"reply\",\n",
    "                                         \"label\", \"confidence\"])\n",
    "    with datazip.open('final.tsv') as f:\n",
    "         pd_public = pd.DataFrame(gen_parcer(f),\n",
    "                                  columns=[\"context_id\", \"context_2\", \"context_1\", \"context_0\", \"reply_id\", \"reply\"])"
   ]
  },
  {
   "cell_type": "code",
   "execution_count": 5,
   "metadata": {},
   "outputs": [
    {
     "data": {
      "text/html": [
       "<div>\n",
       "<style scoped>\n",
       "    .dataframe tbody tr th:only-of-type {\n",
       "        vertical-align: middle;\n",
       "    }\n",
       "\n",
       "    .dataframe tbody tr th {\n",
       "        vertical-align: top;\n",
       "    }\n",
       "\n",
       "    .dataframe thead th {\n",
       "        text-align: right;\n",
       "    }\n",
       "</style>\n",
       "<table border=\"1\" class=\"dataframe\">\n",
       "  <thead>\n",
       "    <tr style=\"text-align: right;\">\n",
       "      <th></th>\n",
       "      <th>context_id</th>\n",
       "      <th>context_2</th>\n",
       "      <th>context_1</th>\n",
       "      <th>context_0</th>\n",
       "      <th>reply_id</th>\n",
       "      <th>reply</th>\n",
       "      <th>label</th>\n",
       "      <th>confidence</th>\n",
       "    </tr>\n",
       "  </thead>\n",
       "  <tbody>\n",
       "    <tr>\n",
       "      <th>0</th>\n",
       "      <td>22579918886</td>\n",
       "      <td>кликни на меня а потом на надпись \" видео - зв...</td>\n",
       "      <td>о , я тебя вижу .</td>\n",
       "      <td>ладно , повесь трубку .</td>\n",
       "      <td>0</td>\n",
       "      <td>не могу .</td>\n",
       "      <td>good</td>\n",
       "      <td>0.8753516175</td>\n",
       "    </tr>\n",
       "    <tr>\n",
       "      <th>1</th>\n",
       "      <td>22579918886</td>\n",
       "      <td>кликни на меня а потом на надпись \" видео - зв...</td>\n",
       "      <td>о , я тебя вижу .</td>\n",
       "      <td>ладно , повесь трубку .</td>\n",
       "      <td>1</td>\n",
       "      <td>нет , звонить буду я .</td>\n",
       "      <td>neutral</td>\n",
       "      <td>0.9009682113</td>\n",
       "    </tr>\n",
       "    <tr>\n",
       "      <th>2</th>\n",
       "      <td>22579918886</td>\n",
       "      <td>кликни на меня а потом на надпись \" видео - зв...</td>\n",
       "      <td>о , я тебя вижу .</td>\n",
       "      <td>ладно , повесь трубку .</td>\n",
       "      <td>2</td>\n",
       "      <td>слушай , я не мог уйти .</td>\n",
       "      <td>bad</td>\n",
       "      <td>0.8843202145</td>\n",
       "    </tr>\n",
       "    <tr>\n",
       "      <th>3</th>\n",
       "      <td>22579918886</td>\n",
       "      <td>кликни на меня а потом на надпись \" видео - зв...</td>\n",
       "      <td>о , я тебя вижу .</td>\n",
       "      <td>ладно , повесь трубку .</td>\n",
       "      <td>3</td>\n",
       "      <td>я не прекращу звонить .</td>\n",
       "      <td>good</td>\n",
       "      <td>0.9825304673</td>\n",
       "    </tr>\n",
       "    <tr>\n",
       "      <th>4</th>\n",
       "      <td>22579918886</td>\n",
       "      <td>кликни на меня а потом на надпись \" видео - зв...</td>\n",
       "      <td>о , я тебя вижу .</td>\n",
       "      <td>ладно , повесь трубку .</td>\n",
       "      <td>4</td>\n",
       "      <td>я звоню им .</td>\n",
       "      <td>good</td>\n",
       "      <td>0.8380535096</td>\n",
       "    </tr>\n",
       "  </tbody>\n",
       "</table>\n",
       "</div>"
      ],
      "text/plain": [
       "    context_id                                          context_2  \\\n",
       "0  22579918886  кликни на меня а потом на надпись \" видео - зв...   \n",
       "1  22579918886  кликни на меня а потом на надпись \" видео - зв...   \n",
       "2  22579918886  кликни на меня а потом на надпись \" видео - зв...   \n",
       "3  22579918886  кликни на меня а потом на надпись \" видео - зв...   \n",
       "4  22579918886  кликни на меня а потом на надпись \" видео - зв...   \n",
       "\n",
       "           context_1                context_0 reply_id  \\\n",
       "0  о , я тебя вижу .  ладно , повесь трубку .        0   \n",
       "1  о , я тебя вижу .  ладно , повесь трубку .        1   \n",
       "2  о , я тебя вижу .  ладно , повесь трубку .        2   \n",
       "3  о , я тебя вижу .  ладно , повесь трубку .        3   \n",
       "4  о , я тебя вижу .  ладно , повесь трубку .        4   \n",
       "\n",
       "                      reply    label    confidence  \n",
       "0                 не могу .     good  0.8753516175  \n",
       "1    нет , звонить буду я .  neutral  0.9009682113  \n",
       "2  слушай , я не мог уйти .      bad  0.8843202145  \n",
       "3   я не прекращу звонить .     good  0.9825304673  \n",
       "4              я звоню им .     good  0.8380535096  "
      ]
     },
     "execution_count": 5,
     "metadata": {},
     "output_type": "execute_result"
    }
   ],
   "source": [
    "pd_train.head()"
   ]
  },
  {
   "cell_type": "code",
   "execution_count": 6,
   "metadata": {},
   "outputs": [
    {
     "data": {
      "text/html": [
       "<div>\n",
       "<style scoped>\n",
       "    .dataframe tbody tr th:only-of-type {\n",
       "        vertical-align: middle;\n",
       "    }\n",
       "\n",
       "    .dataframe tbody tr th {\n",
       "        vertical-align: top;\n",
       "    }\n",
       "\n",
       "    .dataframe thead th {\n",
       "        text-align: right;\n",
       "    }\n",
       "</style>\n",
       "<table border=\"1\" class=\"dataframe\">\n",
       "  <thead>\n",
       "    <tr style=\"text-align: right;\">\n",
       "      <th></th>\n",
       "      <th>context_id</th>\n",
       "      <th>context_2</th>\n",
       "      <th>context_1</th>\n",
       "      <th>context_0</th>\n",
       "      <th>reply_id</th>\n",
       "      <th>reply</th>\n",
       "    </tr>\n",
       "  </thead>\n",
       "  <tbody>\n",
       "    <tr>\n",
       "      <th>0</th>\n",
       "      <td>4909294510</td>\n",
       "      <td></td>\n",
       "      <td></td>\n",
       "      <td>нет . . . у тебя на лице написано - нет .</td>\n",
       "      <td>0</td>\n",
       "      <td>тогда я попытался с двумя другими женщинами и ...</td>\n",
       "    </tr>\n",
       "    <tr>\n",
       "      <th>1</th>\n",
       "      <td>4909294510</td>\n",
       "      <td></td>\n",
       "      <td></td>\n",
       "      <td>нет . . . у тебя на лице написано - нет .</td>\n",
       "      <td>1</td>\n",
       "      <td>я улыбаюсь потому . . . потому что , описывая ...</td>\n",
       "    </tr>\n",
       "    <tr>\n",
       "      <th>2</th>\n",
       "      <td>4909294510</td>\n",
       "      <td></td>\n",
       "      <td></td>\n",
       "      <td>нет . . . у тебя на лице написано - нет .</td>\n",
       "      <td>2</td>\n",
       "      <td>это , так сказать , соответствует уровню моей ...</td>\n",
       "    </tr>\n",
       "    <tr>\n",
       "      <th>3</th>\n",
       "      <td>4909294510</td>\n",
       "      <td></td>\n",
       "      <td></td>\n",
       "      <td>нет . . . у тебя на лице написано - нет .</td>\n",
       "      <td>3</td>\n",
       "      <td>я врач .</td>\n",
       "    </tr>\n",
       "    <tr>\n",
       "      <th>4</th>\n",
       "      <td>4909294510</td>\n",
       "      <td></td>\n",
       "      <td></td>\n",
       "      <td>нет . . . у тебя на лице написано - нет .</td>\n",
       "      <td>4</td>\n",
       "      <td>не обращайте на меня внимания !</td>\n",
       "    </tr>\n",
       "  </tbody>\n",
       "</table>\n",
       "</div>"
      ],
      "text/plain": [
       "   context_id context_2 context_1                                  context_0  \\\n",
       "0  4909294510                      нет . . . у тебя на лице написано - нет .   \n",
       "1  4909294510                      нет . . . у тебя на лице написано - нет .   \n",
       "2  4909294510                      нет . . . у тебя на лице написано - нет .   \n",
       "3  4909294510                      нет . . . у тебя на лице написано - нет .   \n",
       "4  4909294510                      нет . . . у тебя на лице написано - нет .   \n",
       "\n",
       "  reply_id                                              reply  \n",
       "0        0  тогда я попытался с двумя другими женщинами и ...  \n",
       "1        1  я улыбаюсь потому . . . потому что , описывая ...  \n",
       "2        2  это , так сказать , соответствует уровню моей ...  \n",
       "3        3                                           я врач .  \n",
       "4        4                    не обращайте на меня внимания !  "
      ]
     },
     "execution_count": 6,
     "metadata": {},
     "output_type": "execute_result"
    }
   ],
   "source": [
    "pd_public.head()"
   ]
  },
  {
   "cell_type": "code",
   "execution_count": 7,
   "metadata": {},
   "outputs": [
    {
     "data": {
      "text/plain": [
       "context_id    97533\n",
       "context_2     97533\n",
       "context_1     97533\n",
       "context_0     97533\n",
       "reply_id      97533\n",
       "reply         97533\n",
       "label         97533\n",
       "confidence    97533\n",
       "dtype: int64"
      ]
     },
     "execution_count": 7,
     "metadata": {},
     "output_type": "execute_result"
    }
   ],
   "source": [
    "pd_train.count()"
   ]
  },
  {
   "cell_type": "code",
   "execution_count": 8,
   "metadata": {},
   "outputs": [
    {
     "data": {
      "text/plain": [
       "context_id    104834\n",
       "context_2     104834\n",
       "context_1     104834\n",
       "context_0     104834\n",
       "reply_id      104834\n",
       "reply         104834\n",
       "dtype: int64"
      ]
     },
     "execution_count": 8,
     "metadata": {},
     "output_type": "execute_result"
    }
   ],
   "source": [
    "pd_public.count()"
   ]
  },
  {
   "cell_type": "code",
   "execution_count": 9,
   "metadata": {
    "collapsed": true
   },
   "outputs": [],
   "source": [
    "target_encoder = {'bad': 0, 'good': 2, 'neutral': 1}  \n",
    "pd_train.label = pd_train.label.map(target_encoder)"
   ]
  },
  {
   "cell_type": "code",
   "execution_count": 10,
   "metadata": {
    "collapsed": true
   },
   "outputs": [],
   "source": [
    "pd_train.confidence = pd_train.confidence.astype(float)"
   ]
  },
  {
   "cell_type": "code",
   "execution_count": 11,
   "metadata": {
    "collapsed": true
   },
   "outputs": [],
   "source": [
    "pd_data = pd.concat([pd_train, pd_public], axis=0).reset_index(drop=True)\n",
    "pd_data.label.fillna(-1, inplace=True)\n",
    "pd_data.confidence.fillna(0.0, inplace=True)"
   ]
  },
  {
   "cell_type": "markdown",
   "metadata": {},
   "source": [
    "# Что за данные"
   ]
  },
  {
   "cell_type": "code",
   "execution_count": 12,
   "metadata": {},
   "outputs": [
    {
     "data": {
      "text/plain": [
       "((97533, 8), (104834, 6), (202367, 8))"
      ]
     },
     "execution_count": 12,
     "metadata": {},
     "output_type": "execute_result"
    }
   ],
   "source": [
    "pd_train.shape, pd_public.shape, pd_data.shape"
   ]
  },
  {
   "cell_type": "code",
   "execution_count": 13,
   "metadata": {
    "scrolled": false
   },
   "outputs": [
    {
     "data": {
      "text/plain": [
       "label\n",
       "-1.0    0.518039\n",
       " 0.0    0.171817\n",
       " 1.0    0.055612\n",
       " 2.0    0.254533\n",
       "Name: context_id, dtype: float64"
      ]
     },
     "execution_count": 13,
     "metadata": {},
     "output_type": "execute_result"
    }
   ],
   "source": [
    "pd_data.groupby(\"label\")[\"context_id\"].count() / len(pd_data)"
   ]
  },
  {
   "cell_type": "markdown",
   "metadata": {},
   "source": [
    "# Простой бейзлайн"
   ]
  },
  {
   "cell_type": "markdown",
   "metadata": {},
   "source": [
    "## features"
   ]
  },
  {
   "cell_type": "markdown",
   "metadata": {},
   "source": [
    "### tfidf"
   ]
  },
  {
   "cell_type": "code",
   "execution_count": 14,
   "metadata": {
    "collapsed": true
   },
   "outputs": [],
   "source": [
    "from scipy import sparse"
   ]
  },
  {
   "cell_type": "code",
   "execution_count": 15,
   "metadata": {
    "collapsed": true
   },
   "outputs": [],
   "source": [
    "from sklearn.feature_extraction.text import TfidfVectorizer"
   ]
  },
  {
   "cell_type": "code",
   "execution_count": 16,
   "metadata": {
    "collapsed": true
   },
   "outputs": [],
   "source": [
    "s_words = pd_data[[\"context_2\", \"context_1\", \"context_0\", \"reply\"]].apply(lambda x: \" \".join(x), axis=1)"
   ]
  },
  {
   "cell_type": "code",
   "execution_count": 17,
   "metadata": {},
   "outputs": [
    {
     "data": {
      "text/plain": [
       "TfidfVectorizer(analyzer='word', binary=False, decode_error='strict',\n",
       "        dtype=<class 'numpy.int64'>, encoding='utf-8', input='content',\n",
       "        lowercase=True, max_df=1.0, max_features=None, min_df=1,\n",
       "        ngram_range=(1, 1), norm='l2', preprocessor=None, smooth_idf=True,\n",
       "        stop_words=None, strip_accents=None, sublinear_tf=False,\n",
       "        token_pattern='(?u)\\\\b\\\\w\\\\w+\\\\b', tokenizer=None, use_idf=True,\n",
       "        vocabulary=None)"
      ]
     },
     "execution_count": 17,
     "metadata": {},
     "output_type": "execute_result"
    }
   ],
   "source": [
    "tf_words = TfidfVectorizer()\n",
    "tf_words.fit(s_words)"
   ]
  },
  {
   "cell_type": "code",
   "execution_count": 18,
   "metadata": {},
   "outputs": [
    {
     "data": {
      "text/plain": [
       "TfidfVectorizer(analyzer='word', binary=False, decode_error='strict',\n",
       "        dtype=<class 'numpy.int64'>, encoding='utf-8', input='content',\n",
       "        lowercase=True, max_df=1.0, max_features=50000, min_df=1,\n",
       "        ngram_range=(2, 2), norm='l2', preprocessor=None, smooth_idf=True,\n",
       "        stop_words=None, strip_accents=None, sublinear_tf=False,\n",
       "        token_pattern='(?u)\\\\b\\\\w\\\\w+\\\\b', tokenizer=None, use_idf=True,\n",
       "        vocabulary=None)"
      ]
     },
     "execution_count": 18,
     "metadata": {},
     "output_type": "execute_result"
    }
   ],
   "source": [
    "tf_ngw = TfidfVectorizer(ngram_range=(2,2), max_features=50000)\n",
    "tf_ngw.fit(s_words)"
   ]
  },
  {
   "cell_type": "code",
   "execution_count": 19,
   "metadata": {},
   "outputs": [
    {
     "data": {
      "text/plain": [
       "TfidfVectorizer(analyzer='char', binary=False, decode_error='strict',\n",
       "        dtype=<class 'numpy.int64'>, encoding='utf-8', input='content',\n",
       "        lowercase=True, max_df=1.0, max_features=None, min_df=1,\n",
       "        ngram_range=(3, 4), norm='l2', preprocessor=None, smooth_idf=True,\n",
       "        stop_words=None, strip_accents=None, sublinear_tf=False,\n",
       "        token_pattern='(?u)\\\\b\\\\w\\\\w+\\\\b', tokenizer=None, use_idf=True,\n",
       "        vocabulary=None)"
      ]
     },
     "execution_count": 19,
     "metadata": {},
     "output_type": "execute_result"
    }
   ],
   "source": [
    "tf_chars = TfidfVectorizer(analyzer='char', ngram_range=(3,4))\n",
    "tf_chars.fit(s_words)"
   ]
  },
  {
   "cell_type": "code",
   "execution_count": 20,
   "metadata": {
    "collapsed": true
   },
   "outputs": [],
   "source": [
    "def to_features_words(df):\n",
    "    context = tf_words.transform(df[[\"context_2\", \"context_1\", \"context_0\"]].apply(lambda x: \" \".join(x), axis=1))\n",
    "    reply = tf_words.transform(df[\"reply\"])\n",
    "    features = sparse.hstack([context, reply])\n",
    "    return features"
   ]
  },
  {
   "cell_type": "code",
   "execution_count": 21,
   "metadata": {
    "collapsed": true
   },
   "outputs": [],
   "source": [
    "def to_features_ngw(df):\n",
    "    context = tf_ngw.transform(df[[\"context_2\", \"context_1\", \"context_0\"]].apply(lambda x: \" \".join(x), axis=1))\n",
    "    reply = tf_ngw.transform(df[\"reply\"])\n",
    "    features = sparse.hstack([context, reply])\n",
    "    return features"
   ]
  },
  {
   "cell_type": "code",
   "execution_count": 22,
   "metadata": {
    "collapsed": true
   },
   "outputs": [],
   "source": [
    "def to_features_chars(df):\n",
    "    context = tf_chars.transform(df[[\"context_2\", \"context_1\", \"context_0\"]].apply(lambda x: \" \".join(x), axis=1))\n",
    "    reply = tf_chars.transform(df[\"reply\"])\n",
    "    features = sparse.hstack([context, reply])\n",
    "    return features"
   ]
  },
  {
   "cell_type": "markdown",
   "metadata": {},
   "source": [
    "### w2v"
   ]
  },
  {
   "cell_type": "code",
   "execution_count": 23,
   "metadata": {
    "collapsed": true
   },
   "outputs": [],
   "source": [
    "w2v = pickle.load(open(\"w2v/w2vs.pickle\", \"rb\"))\n",
    "w2v_vector_size = 500"
   ]
  },
  {
   "cell_type": "code",
   "execution_count": 24,
   "metadata": {},
   "outputs": [
    {
     "data": {
      "text/plain": [
       "55571"
      ]
     },
     "execution_count": 24,
     "metadata": {},
     "output_type": "execute_result"
    }
   ],
   "source": [
    "len(w2v)"
   ]
  },
  {
   "cell_type": "code",
   "execution_count": 25,
   "metadata": {
    "collapsed": true
   },
   "outputs": [],
   "source": [
    "empty_vector = np.zeros(w2v_vector_size)\n",
    "def condext_to_vec(x):\n",
    "    words = re.findall(r\"\\b(\\w+)\\b\", x)\n",
    "    vectors = sum([w2v[word] for word in words if word in w2v])\n",
    "    return (empty_vector + vectors).reshape(1, -1)"
   ]
  },
  {
   "cell_type": "code",
   "execution_count": 26,
   "metadata": {
    "collapsed": true
   },
   "outputs": [],
   "source": [
    "def not_in_w2v_count(x):\n",
    "    words = re.findall(r\"\\b(\\w+)\\b\", x)\n",
    "    missed = sum([1 for word in words if word not in w2v])\n",
    "    return missed"
   ]
  },
  {
   "cell_type": "code",
   "execution_count": 27,
   "metadata": {
    "collapsed": true
   },
   "outputs": [],
   "source": [
    "def to_features_w2v(df):\n",
    "    s_words = df[[\"context_2\", \"context_1\", \"context_0\"]].apply(lambda x: \" \".join(x), axis=1)\n",
    "    context = np.concatenate(s_words.apply(condext_to_vec).tolist())\n",
    "    \n",
    "    s_words = df[\"reply\"]\n",
    "    reply = np.concatenate(s_words.apply(condext_to_vec).tolist())\n",
    "    \n",
    "    features = np.concatenate([context, reply], axis=1)\n",
    "    return features"
   ]
  },
  {
   "cell_type": "code",
   "execution_count": 28,
   "metadata": {
    "collapsed": true
   },
   "outputs": [],
   "source": [
    "def not_in_w2v(df):\n",
    "    s_words = df[[\"context_2\", \"context_1\", \"context_0\"]].apply(lambda x: \" \".join(x), axis=1)\n",
    "    context = s_words.apply(not_in_w2v_count).values.reshape(-1, 1)\n",
    "    \n",
    "    s_words = df[\"reply\"]\n",
    "    reply = s_words.apply(not_in_w2v_count).values.reshape(-1, 1)\n",
    "    \n",
    "    features = np.concatenate([context, reply], axis=1)\n",
    "    return features    "
   ]
  },
  {
   "cell_type": "code",
   "execution_count": 29,
   "metadata": {
    "collapsed": true
   },
   "outputs": [],
   "source": [
    "def to_features_w2v_cos(df):\n",
    "    context_2 = np.concatenate(df[\"context_2\"].apply(condext_to_vec).tolist())\n",
    "    context_1 = np.concatenate(df[\"context_1\"].apply(condext_to_vec).tolist())\n",
    "    context_0 = np.concatenate(df[\"context_0\"].apply(condext_to_vec).tolist())\n",
    "    reply = np.concatenate(df[\"reply\"].apply(condext_to_vec).tolist())\n",
    "    \n",
    "    features = np.concatenate([\n",
    "        ((reply * context_0) / ((reply ** 2 + context_0 ** 2 + 0.01) **0.5)).sum(axis=1).reshape(-1, 1),\n",
    "        ((reply * context_1) / ((reply ** 2 + context_1 ** 2 + 0.01) **0.5)).sum(axis=1).reshape(-1, 1),\n",
    "        ((reply * context_2) / ((reply ** 2 + context_2 ** 2 + 0.01) **0.5)).sum(axis=1).reshape(-1, 1),\n",
    "        ((context_2 * context_0) / ((context_2 ** 2 + context_0 ** 2 + 0.01) **0.5)).sum(axis=1).reshape(-1, 1),\n",
    "        ((context_1 * context_0) / ((context_1 ** 2 + context_0 ** 2 + 0.01) **0.5)).sum(axis=1).reshape(-1, 1),\n",
    "    ], axis=1)\n",
    "    return features"
   ]
  },
  {
   "cell_type": "markdown",
   "metadata": {},
   "source": [
    "# 1st level"
   ]
  },
  {
   "cell_type": "markdown",
   "metadata": {},
   "source": [
    "## 1st level crossval"
   ]
  },
  {
   "cell_type": "code",
   "execution_count": 30,
   "metadata": {
    "collapsed": true
   },
   "outputs": [],
   "source": [
    "from tqdm import tqdm_notebook"
   ]
  },
  {
   "cell_type": "code",
   "execution_count": 31,
   "metadata": {
    "collapsed": true
   },
   "outputs": [],
   "source": [
    "from sklearn.model_selection import StratifiedKFold"
   ]
  },
  {
   "cell_type": "code",
   "execution_count": 32,
   "metadata": {
    "collapsed": true
   },
   "outputs": [],
   "source": [
    "skf = StratifiedKFold(n_splits=3)"
   ]
  },
  {
   "cell_type": "code",
   "execution_count": 33,
   "metadata": {
    "collapsed": true
   },
   "outputs": [],
   "source": [
    "from sklearn.metrics import mean_absolute_error"
   ]
  },
  {
   "cell_type": "code",
   "execution_count": 34,
   "metadata": {
    "collapsed": true
   },
   "outputs": [],
   "source": [
    "def calc_ndcg_score(df, y_predict):\n",
    "    df = df.copy()\n",
    "    df[\"predict\"] = y_predict\n",
    "    #dcg\n",
    "    df.sort_values([\"context_id\", \"predict\"], ascending=[True, False], inplace=True)\n",
    "    df[\"row_count\"] = df.groupby(\"context_id\").cumcount()+1\n",
    "    df[\"dcg\"] = df[\"label\"] / np.log2(df[\"row_count\"] + 1)\n",
    "    #idcg\n",
    "    df.sort_values([\"context_id\", \"label\"], ascending=[True, False], inplace=True)\n",
    "    df[\"row_count\"] = df.groupby(\"context_id\").cumcount()+1\n",
    "    df[\"idcg\"] = df[\"label\"] / np.log2(df[\"row_count\"] + 1)\n",
    "    \n",
    "    df_context = df.groupby(\"context_id\").sum()\n",
    "    return (df_context[\"dcg\"] / df_context[\"idcg\"]).mean() * 100000"
   ]
  },
  {
   "cell_type": "code",
   "execution_count": 35,
   "metadata": {
    "collapsed": true
   },
   "outputs": [],
   "source": [
    "def do_simple_cross_val(model_reg, to_features, to_target, model_fit_params={}):\n",
    "    mae_errors = []\n",
    "    ndcg_scores = []\n",
    "\n",
    "    for _train, _test in tqdm_notebook(skf.split(pd_train.index, pd_train.label), total=3):\n",
    "        i_train = pd_train.iloc[_train]\n",
    "        i_test = pd_train.iloc[_test]\n",
    "\n",
    "        X_train = to_features(i_train)\n",
    "        X_test = to_features(i_test)\n",
    "        Y_train = to_target(i_train)\n",
    "        Y_test = to_target(i_test)\n",
    "\n",
    "        model_reg.fit(X_train, Y_train, **model_fit_params)\n",
    "        Y_predict = model_reg.predict(X_test)\n",
    "        mae_errors.append(mean_absolute_error(Y_test, Y_predict))\n",
    "        ndcg_scores.append(calc_ndcg_score(i_test, Y_predict))\n",
    "\n",
    "    print(min(mae_errors), max(mae_errors))\n",
    "    print(min(ndcg_scores), max(ndcg_scores))"
   ]
  },
  {
   "cell_type": "code",
   "execution_count": 36,
   "metadata": {
    "collapsed": true
   },
   "outputs": [],
   "source": [
    "to_target_label = lambda x: x.label.values\n",
    "to_target_label_confidence = lambda x: (x.label.values - 1) * x.confidence"
   ]
  },
  {
   "cell_type": "markdown",
   "metadata": {},
   "source": [
    "## 1st level models"
   ]
  },
  {
   "cell_type": "code",
   "execution_count": 37,
   "metadata": {
    "collapsed": true
   },
   "outputs": [],
   "source": [
    "from sklearn.linear_model import LinearRegression, Ridge, Lasso"
   ]
  },
  {
   "cell_type": "code",
   "execution_count": 38,
   "metadata": {},
   "outputs": [
    {
     "data": {
      "application/vnd.jupyter.widget-view+json": {
       "model_id": "18dcf69640ae4736b6bf349b0cb08ad5",
       "version_major": 2,
       "version_minor": 0
      },
      "text/plain": [
       "A Jupyter Widget"
      ]
     },
     "metadata": {},
     "output_type": "display_data"
    },
    {
     "name": "stdout",
     "output_type": "stream",
     "text": [
      "\n",
      "0.725952545023263 0.7269685936355287\n",
      "85407.60816608724 85854.8815283905\n"
     ]
    }
   ],
   "source": [
    "do_simple_cross_val(Ridge(alpha=20.0), to_features_words, to_target_label_confidence)"
   ]
  },
  {
   "cell_type": "code",
   "execution_count": 39,
   "metadata": {},
   "outputs": [
    {
     "data": {
      "application/vnd.jupyter.widget-view+json": {
       "model_id": "66f1faa1d6b24a9c9645830323b63c4e",
       "version_major": 2,
       "version_minor": 0
      },
      "text/plain": [
       "A Jupyter Widget"
      ]
     },
     "metadata": {},
     "output_type": "display_data"
    },
    {
     "name": "stdout",
     "output_type": "stream",
     "text": [
      "\n",
      "0.7100142468330998 0.710960559158833\n",
      "86254.55520686475 86629.70172929676\n"
     ]
    }
   ],
   "source": [
    "do_simple_cross_val(Ridge(alpha=20.0), to_features_chars, to_target_label_confidence)"
   ]
  },
  {
   "cell_type": "code",
   "execution_count": 40,
   "metadata": {},
   "outputs": [
    {
     "data": {
      "application/vnd.jupyter.widget-view+json": {
       "model_id": "82181b5fce794e95a0a01242bbf82158",
       "version_major": 2,
       "version_minor": 0
      },
      "text/plain": [
       "A Jupyter Widget"
      ]
     },
     "metadata": {},
     "output_type": "display_data"
    },
    {
     "name": "stdout",
     "output_type": "stream",
     "text": [
      "\n",
      "0.7408760092729827 0.7417038355117955\n",
      "84861.66758638002 85069.36345727855\n"
     ]
    }
   ],
   "source": [
    "do_simple_cross_val(Ridge(alpha=20.0), to_features_ngw, to_target_label_confidence)"
   ]
  },
  {
   "cell_type": "code",
   "execution_count": 41,
   "metadata": {
    "collapsed": true
   },
   "outputs": [],
   "source": [
    "import lightgbm"
   ]
  },
  {
   "cell_type": "code",
   "execution_count": 42,
   "metadata": {},
   "outputs": [
    {
     "data": {
      "application/vnd.jupyter.widget-view+json": {
       "model_id": "f8404aed51f34a2399fc535b7786b08c",
       "version_major": 2,
       "version_minor": 0
      },
      "text/plain": [
       "A Jupyter Widget"
      ]
     },
     "metadata": {},
     "output_type": "display_data"
    },
    {
     "name": "stdout",
     "output_type": "stream",
     "text": [
      "\n",
      "0.7029810601566159 0.7049474588551369\n",
      "86372.34330300207 86504.5433414166\n"
     ]
    }
   ],
   "source": [
    "do_simple_cross_val(lightgbm.LGBMRegressor(), to_features_w2v, to_target_label_confidence)"
   ]
  },
  {
   "cell_type": "markdown",
   "metadata": {},
   "source": [
    "## 1st level stack"
   ]
  },
  {
   "cell_type": "code",
   "execution_count": 43,
   "metadata": {
    "collapsed": true
   },
   "outputs": [],
   "source": [
    "skf_l1 = StratifiedKFold(n_splits=10)"
   ]
  },
  {
   "cell_type": "code",
   "execution_count": 44,
   "metadata": {
    "collapsed": true
   },
   "outputs": [],
   "source": [
    "def do_stack_1l(target_col_name, model_reg, to_features, to_target, model_fit_params={}):\n",
    "    mae_errors = []\n",
    "    ndcg_scores = []\n",
    "    for _train, _test in tqdm_notebook(skf_l1.split(pd_train.index, pd_train.label), total=10):\n",
    "        i_train = pd_train.iloc[_train]\n",
    "        i_test = pd_train.iloc[_test]\n",
    "\n",
    "        X_train = to_features(i_train)\n",
    "        X_test = to_features(i_test)\n",
    "        Y_train = to_target(i_train)\n",
    "        Y_test = to_target(i_test)\n",
    "\n",
    "        model_reg.fit(X_train, Y_train, **model_fit_params)\n",
    "        Y_predict = model_reg.predict(X_test)\n",
    "        mae_errors.append(mean_absolute_error(Y_test, Y_predict))\n",
    "        ndcg_scores.append(calc_ndcg_score(i_test, Y_predict))\n",
    "        \n",
    "        pd_train.loc[pd_train.index.isin(i_test.index), target_col_name] = Y_predict\n",
    "\n",
    "    print(min(mae_errors), max(mae_errors))\n",
    "    print(min(ndcg_scores), max(ndcg_scores))"
   ]
  },
  {
   "cell_type": "code",
   "execution_count": 45,
   "metadata": {
    "collapsed": true
   },
   "outputs": [],
   "source": [
    "def do_stack_1l_cls(target_col_names, model_cls, to_features, to_target, model_fit_params={}):\n",
    "    mae_errors = []\n",
    "    ndcg_scores = []\n",
    "    for _train, _test in tqdm_notebook(skf_l1.split(pd_train.index, pd_train.label), total=10):\n",
    "        i_train = pd_train.iloc[_train]\n",
    "        i_test = pd_train.iloc[_test]\n",
    "\n",
    "        X_train = to_features(i_train)\n",
    "        X_test = to_features(i_test)\n",
    "        Y_train = to_target(i_train)\n",
    "        Y_test = to_target(i_test)\n",
    "\n",
    "        model_cls.fit(X_train, Y_train, **model_fit_params)\n",
    "        Y_predict = model_cls.predict_proba(X_test)\n",
    "        # здесь пропущены метрики\n",
    "\n",
    "        pd_train.loc[pd_train.index.isin(i_test.index), target_col_names] = Y_predict"
   ]
  },
  {
   "cell_type": "code",
   "execution_count": 46,
   "metadata": {},
   "outputs": [
    {
     "data": {
      "application/vnd.jupyter.widget-view+json": {
       "model_id": "4398e6c9246e49bf81fe005af4099573",
       "version_major": 2,
       "version_minor": 0
      },
      "text/plain": [
       "A Jupyter Widget"
      ]
     },
     "metadata": {},
     "output_type": "display_data"
    },
    {
     "name": "stdout",
     "output_type": "stream",
     "text": [
      "\n",
      "0.7201961568394813 0.7284568300040093\n",
      "85938.40979973794 86693.43505088883\n"
     ]
    }
   ],
   "source": [
    "pd_train[\"f_lin_words\"] = 0.0\n",
    "do_stack_1l(\"f_lin_words\", Ridge(alpha=20.0), to_features_words, to_target_label_confidence)"
   ]
  },
  {
   "cell_type": "code",
   "execution_count": 47,
   "metadata": {},
   "outputs": [
    {
     "data": {
      "application/vnd.jupyter.widget-view+json": {
       "model_id": "7d10fba32a44429b9a72c454a05e52c5",
       "version_major": 2,
       "version_minor": 0
      },
      "text/plain": [
       "A Jupyter Widget"
      ]
     },
     "metadata": {},
     "output_type": "display_data"
    },
    {
     "name": "stdout",
     "output_type": "stream",
     "text": [
      "\n",
      "0.7023445465603463 0.7111639094109764\n",
      "86385.93610559647 87358.91882795333\n"
     ]
    }
   ],
   "source": [
    "pd_train[\"f_lin_chars\"] = 0.0\n",
    "do_stack_1l(\"f_lin_chars\", Ridge(alpha=20.0), to_features_chars, to_target_label_confidence)"
   ]
  },
  {
   "cell_type": "code",
   "execution_count": 48,
   "metadata": {},
   "outputs": [
    {
     "data": {
      "application/vnd.jupyter.widget-view+json": {
       "model_id": "9ac6d6a08b0b4bdebda3502e7cf0ef50",
       "version_major": 2,
       "version_minor": 0
      },
      "text/plain": [
       "A Jupyter Widget"
      ]
     },
     "metadata": {},
     "output_type": "display_data"
    },
    {
     "name": "stdout",
     "output_type": "stream",
     "text": [
      "\n",
      "0.7357742921512043 0.741940906214269\n",
      "84802.38496757999 85885.5843236888\n"
     ]
    }
   ],
   "source": [
    "pd_train[\"f_lin_ngw\"] = 0.0\n",
    "do_stack_1l(\"f_lin_ngw\", Ridge(alpha=20.0), to_features_ngw, to_target_label_confidence)"
   ]
  },
  {
   "cell_type": "code",
   "execution_count": 49,
   "metadata": {},
   "outputs": [
    {
     "data": {
      "application/vnd.jupyter.widget-view+json": {
       "model_id": "d4287b7538b84f21ac6b71137c8b723e",
       "version_major": 2,
       "version_minor": 0
      },
      "text/plain": [
       "A Jupyter Widget"
      ]
     },
     "metadata": {},
     "output_type": "display_data"
    },
    {
     "name": "stdout",
     "output_type": "stream",
     "text": [
      "\n",
      "0.6990510597284375 0.7061746444095842\n",
      "86115.36314449139 87283.55116177419\n"
     ]
    }
   ],
   "source": [
    "pd_train[\"f_lgbm_w2v\"] = 0.0\n",
    "do_stack_1l(\"f_lgbm_w2v\", lightgbm.LGBMRegressor(), to_features_w2v, to_target_label_confidence)"
   ]
  },
  {
   "cell_type": "code",
   "execution_count": 50,
   "metadata": {},
   "outputs": [
    {
     "data": {
      "application/vnd.jupyter.widget-view+json": {
       "model_id": "6d1ed2e96ec340e4807705c095791f97",
       "version_major": 2,
       "version_minor": 0
      },
      "text/plain": [
       "A Jupyter Widget"
      ]
     },
     "metadata": {},
     "output_type": "display_data"
    },
    {
     "name": "stdout",
     "output_type": "stream",
     "text": [
      "\n",
      "0.7096167922699115 0.7170108241534946\n",
      "86023.33662849318 87080.01343169232\n"
     ]
    }
   ],
   "source": [
    "pd_train[\"f_lin_w2v\"] = 0.0\n",
    "do_stack_1l(\"f_lin_w2v\", LinearRegression(), to_features_w2v, to_target_label_confidence)"
   ]
  },
  {
   "cell_type": "code",
   "execution_count": 51,
   "metadata": {},
   "outputs": [
    {
     "data": {
      "application/vnd.jupyter.widget-view+json": {
       "model_id": "83938541848544208b0b6a756ec0f144",
       "version_major": 2,
       "version_minor": 0
      },
      "text/plain": [
       "A Jupyter Widget"
      ]
     },
     "metadata": {},
     "output_type": "display_data"
    },
    {
     "name": "stdout",
     "output_type": "stream",
     "text": [
      "\n"
     ]
    }
   ],
   "source": [
    "pd_train[\"f_log0\"] = 0.0\n",
    "pd_train[\"f_log1\"] = 0.0\n",
    "pd_train[\"f_log2\"] = 0.0\n",
    "do_stack_1l_cls([\"f_log0\", \"f_log1\", \"f_log2\"],\n",
    "            lightgbm.LGBMClassifier(), to_features_w2v, to_target_label)"
   ]
  },
  {
   "cell_type": "markdown",
   "metadata": {},
   "source": [
    "## 1st level result"
   ]
  },
  {
   "cell_type": "code",
   "execution_count": 52,
   "metadata": {},
   "outputs": [
    {
     "data": {
      "text/html": [
       "<div>\n",
       "<style scoped>\n",
       "    .dataframe tbody tr th:only-of-type {\n",
       "        vertical-align: middle;\n",
       "    }\n",
       "\n",
       "    .dataframe tbody tr th {\n",
       "        vertical-align: top;\n",
       "    }\n",
       "\n",
       "    .dataframe thead th {\n",
       "        text-align: right;\n",
       "    }\n",
       "</style>\n",
       "<table border=\"1\" class=\"dataframe\">\n",
       "  <thead>\n",
       "    <tr style=\"text-align: right;\">\n",
       "      <th></th>\n",
       "      <th>context_id</th>\n",
       "      <th>context_2</th>\n",
       "      <th>context_1</th>\n",
       "      <th>context_0</th>\n",
       "      <th>reply_id</th>\n",
       "      <th>reply</th>\n",
       "      <th>label</th>\n",
       "      <th>confidence</th>\n",
       "      <th>f_lin_words</th>\n",
       "      <th>f_lin_chars</th>\n",
       "      <th>f_lin_ngw</th>\n",
       "      <th>f_lgbm_w2v</th>\n",
       "      <th>f_lin_w2v</th>\n",
       "      <th>f_log0</th>\n",
       "      <th>f_log1</th>\n",
       "      <th>f_log2</th>\n",
       "    </tr>\n",
       "  </thead>\n",
       "  <tbody>\n",
       "    <tr>\n",
       "      <th>0</th>\n",
       "      <td>22579918886</td>\n",
       "      <td>кликни на меня а потом на надпись \" видео - зв...</td>\n",
       "      <td>о , я тебя вижу .</td>\n",
       "      <td>ладно , повесь трубку .</td>\n",
       "      <td>0</td>\n",
       "      <td>не могу .</td>\n",
       "      <td>2</td>\n",
       "      <td>0.875352</td>\n",
       "      <td>0.241140</td>\n",
       "      <td>0.111582</td>\n",
       "      <td>0.263820</td>\n",
       "      <td>0.102650</td>\n",
       "      <td>-0.116829</td>\n",
       "      <td>0.171582</td>\n",
       "      <td>0.567251</td>\n",
       "      <td>0.261167</td>\n",
       "    </tr>\n",
       "    <tr>\n",
       "      <th>1</th>\n",
       "      <td>22579918886</td>\n",
       "      <td>кликни на меня а потом на надпись \" видео - зв...</td>\n",
       "      <td>о , я тебя вижу .</td>\n",
       "      <td>ладно , повесь трубку .</td>\n",
       "      <td>1</td>\n",
       "      <td>нет , звонить буду я .</td>\n",
       "      <td>1</td>\n",
       "      <td>0.900968</td>\n",
       "      <td>0.195557</td>\n",
       "      <td>0.179503</td>\n",
       "      <td>0.129253</td>\n",
       "      <td>0.230002</td>\n",
       "      <td>0.147002</td>\n",
       "      <td>0.387648</td>\n",
       "      <td>0.033850</td>\n",
       "      <td>0.578502</td>\n",
       "    </tr>\n",
       "    <tr>\n",
       "      <th>2</th>\n",
       "      <td>22579918886</td>\n",
       "      <td>кликни на меня а потом на надпись \" видео - зв...</td>\n",
       "      <td>о , я тебя вижу .</td>\n",
       "      <td>ладно , повесь трубку .</td>\n",
       "      <td>2</td>\n",
       "      <td>слушай , я не мог уйти .</td>\n",
       "      <td>0</td>\n",
       "      <td>0.884320</td>\n",
       "      <td>0.070286</td>\n",
       "      <td>0.148549</td>\n",
       "      <td>0.255393</td>\n",
       "      <td>0.285710</td>\n",
       "      <td>-0.108615</td>\n",
       "      <td>0.317707</td>\n",
       "      <td>0.054600</td>\n",
       "      <td>0.627693</td>\n",
       "    </tr>\n",
       "    <tr>\n",
       "      <th>3</th>\n",
       "      <td>22579918886</td>\n",
       "      <td>кликни на меня а потом на надпись \" видео - зв...</td>\n",
       "      <td>о , я тебя вижу .</td>\n",
       "      <td>ладно , повесь трубку .</td>\n",
       "      <td>3</td>\n",
       "      <td>я не прекращу звонить .</td>\n",
       "      <td>2</td>\n",
       "      <td>0.982530</td>\n",
       "      <td>0.119724</td>\n",
       "      <td>0.173890</td>\n",
       "      <td>0.303493</td>\n",
       "      <td>0.199607</td>\n",
       "      <td>-0.082134</td>\n",
       "      <td>0.413088</td>\n",
       "      <td>0.044963</td>\n",
       "      <td>0.541949</td>\n",
       "    </tr>\n",
       "    <tr>\n",
       "      <th>4</th>\n",
       "      <td>22579918886</td>\n",
       "      <td>кликни на меня а потом на надпись \" видео - зв...</td>\n",
       "      <td>о , я тебя вижу .</td>\n",
       "      <td>ладно , повесь трубку .</td>\n",
       "      <td>4</td>\n",
       "      <td>я звоню им .</td>\n",
       "      <td>2</td>\n",
       "      <td>0.838054</td>\n",
       "      <td>0.092593</td>\n",
       "      <td>0.090579</td>\n",
       "      <td>0.129253</td>\n",
       "      <td>0.165364</td>\n",
       "      <td>-0.051877</td>\n",
       "      <td>0.356858</td>\n",
       "      <td>0.077665</td>\n",
       "      <td>0.565476</td>\n",
       "    </tr>\n",
       "  </tbody>\n",
       "</table>\n",
       "</div>"
      ],
      "text/plain": [
       "    context_id                                          context_2  \\\n",
       "0  22579918886  кликни на меня а потом на надпись \" видео - зв...   \n",
       "1  22579918886  кликни на меня а потом на надпись \" видео - зв...   \n",
       "2  22579918886  кликни на меня а потом на надпись \" видео - зв...   \n",
       "3  22579918886  кликни на меня а потом на надпись \" видео - зв...   \n",
       "4  22579918886  кликни на меня а потом на надпись \" видео - зв...   \n",
       "\n",
       "           context_1                context_0 reply_id  \\\n",
       "0  о , я тебя вижу .  ладно , повесь трубку .        0   \n",
       "1  о , я тебя вижу .  ладно , повесь трубку .        1   \n",
       "2  о , я тебя вижу .  ладно , повесь трубку .        2   \n",
       "3  о , я тебя вижу .  ладно , повесь трубку .        3   \n",
       "4  о , я тебя вижу .  ладно , повесь трубку .        4   \n",
       "\n",
       "                      reply  label  confidence  f_lin_words  f_lin_chars  \\\n",
       "0                 не могу .      2    0.875352     0.241140     0.111582   \n",
       "1    нет , звонить буду я .      1    0.900968     0.195557     0.179503   \n",
       "2  слушай , я не мог уйти .      0    0.884320     0.070286     0.148549   \n",
       "3   я не прекращу звонить .      2    0.982530     0.119724     0.173890   \n",
       "4              я звоню им .      2    0.838054     0.092593     0.090579   \n",
       "\n",
       "   f_lin_ngw  f_lgbm_w2v  f_lin_w2v    f_log0    f_log1    f_log2  \n",
       "0   0.263820    0.102650  -0.116829  0.171582  0.567251  0.261167  \n",
       "1   0.129253    0.230002   0.147002  0.387648  0.033850  0.578502  \n",
       "2   0.255393    0.285710  -0.108615  0.317707  0.054600  0.627693  \n",
       "3   0.303493    0.199607  -0.082134  0.413088  0.044963  0.541949  \n",
       "4   0.129253    0.165364  -0.051877  0.356858  0.077665  0.565476  "
      ]
     },
     "execution_count": 52,
     "metadata": {},
     "output_type": "execute_result"
    }
   ],
   "source": [
    "pd_train.head()"
   ]
  },
  {
   "cell_type": "code",
   "execution_count": 53,
   "metadata": {},
   "outputs": [
    {
     "data": {
      "image/png": "[encoded data removed]",
      "text/plain": [
       "<matplotlib.figure.Figure at 0x2b801048240>"
      ]
     },
     "metadata": {},
     "output_type": "display_data"
    },
    {
     "data": {
      "image/png": "[encoded data removed]",
      "text/plain": [
       "<matplotlib.figure.Figure at 0x2b8039002b0>"
      ]
     },
     "metadata": {},
     "output_type": "display_data"
    },
    {
     "data": {
      "image/png": "[encoded data removed]",
      "text/plain": [
       "<matplotlib.figure.Figure at 0x2b804c8f4a8>"
      ]
     },
     "metadata": {},
     "output_type": "display_data"
    }
   ],
   "source": [
    "for l in [0, 1, 2]:\n",
    "    pd_train[pd_train[\"label\"] == l].confidence.hist()\n",
    "    plt.show()"
   ]
  },
  {
   "cell_type": "code",
   "execution_count": 54,
   "metadata": {
    "collapsed": true
   },
   "outputs": [],
   "source": [
    "features_l1 = [\"f_lin_words\", \"f_lin_chars\", \"f_lin_ngw\", \"f_lgbm_w2v\", \"f_lin_w2v\",\n",
    "               \"f_log0\", \"f_log1\", \"f_log2\"]"
   ]
  },
  {
   "cell_type": "code",
   "execution_count": 55,
   "metadata": {},
   "outputs": [
    {
     "data": {
      "text/plain": [
       "array([[<matplotlib.axes._subplots.AxesSubplot object at 0x000002B804CDD748>,\n",
       "        <matplotlib.axes._subplots.AxesSubplot object at 0x000002B8024EF550>,\n",
       "        <matplotlib.axes._subplots.AxesSubplot object at 0x000002B8063057B8>],\n",
       "       [<matplotlib.axes._subplots.AxesSubplot object at 0x000002B80269E908>,\n",
       "        <matplotlib.axes._subplots.AxesSubplot object at 0x000002B8066B6FD0>,\n",
       "        <matplotlib.axes._subplots.AxesSubplot object at 0x000002B8066BC048>],\n",
       "       [<matplotlib.axes._subplots.AxesSubplot object at 0x000002B8077F40F0>,\n",
       "        <matplotlib.axes._subplots.AxesSubplot object at 0x000002B80788B438>,\n",
       "        <matplotlib.axes._subplots.AxesSubplot object at 0x000002B8079455C0>]],\n",
       "      dtype=object)"
      ]
     },
     "execution_count": 55,
     "metadata": {},
     "output_type": "execute_result"
    },
    {
     "data": {
      "image/png": "[encoded data removed]",
      "text/plain": [
       "<matplotlib.figure.Figure at 0x2b804e585c0>"
      ]
     },
     "metadata": {},
     "output_type": "display_data"
    }
   ],
   "source": [
    "pd_train[features_l1].hist(figsize=(12,8))"
   ]
  },
  {
   "cell_type": "markdown",
   "metadata": {},
   "source": [
    "# 2nd level"
   ]
  },
  {
   "cell_type": "code",
   "execution_count": 56,
   "metadata": {
    "collapsed": true
   },
   "outputs": [],
   "source": [
    "def to_feature_l2(df):\n",
    "    def word_count(x):\n",
    "        return len(re.findall(r\"\\b\\w+\\b\", x))\n",
    "\n",
    "    def char_count(x, target):\n",
    "        return sum((1 for c in x if c == target))\n",
    " \n",
    "    phrases = [\"context_2\", \"context_1\", \"context_0\", \"reply\"]\n",
    "    return np.concatenate([df[features_l1].values, not_in_w2v(df), to_features_w2v_cos(df)] +\n",
    "        [df[field].apply(word_count).values.reshape(-1, 1) for field in phrases] +\n",
    "        [df[field].apply(lambda x: char_count(x, '\"')).values.reshape(-1, 1) for field in phrases] +\n",
    "        [df[field].apply(lambda x: char_count(x, ',')).values.reshape(-1, 1) for field in phrases] +\n",
    "        [df[field].apply(lambda x: char_count(x, '.')).values.reshape(-1, 1) for field in phrases] +\n",
    "        [df[field].apply(lambda x: char_count(x, '-')).values.reshape(-1, 1) for field in phrases] +\n",
    "        [df[field].apply(lambda x: char_count(x, '?')).values.reshape(-1, 1) for field in phrases] +\n",
    "        [df[field].apply(lambda x: char_count(x, '!')).values.reshape(-1, 1) for field in phrases]\n",
    "        , axis=1)"
   ]
  },
  {
   "cell_type": "code",
   "execution_count": 57,
   "metadata": {},
   "outputs": [
    {
     "data": {
      "application/vnd.jupyter.widget-view+json": {
       "model_id": "c9bfda0701d343da9b0f4b0890fcfac3",
       "version_major": 2,
       "version_minor": 0
      },
      "text/plain": [
       "A Jupyter Widget"
      ]
     },
     "metadata": {},
     "output_type": "display_data"
    },
    {
     "name": "stdout",
     "output_type": "stream",
     "text": [
      "\n",
      "0.6788334584035832 0.6807740823970534\n",
      "86882.26505486405 87297.11996443273\n"
     ]
    }
   ],
   "source": [
    "do_simple_cross_val(lightgbm.LGBMRegressor(), to_feature_l2, to_target_label_confidence)"
   ]
  },
  {
   "cell_type": "code",
   "execution_count": 58,
   "metadata": {},
   "outputs": [
    {
     "data": {
      "application/vnd.jupyter.widget-view+json": {
       "model_id": "8adef34b05d843ddb084af51d0c2eb68",
       "version_major": 2,
       "version_minor": 0
      },
      "text/plain": [
       "A Jupyter Widget"
      ]
     },
     "metadata": {},
     "output_type": "display_data"
    },
    {
     "name": "stdout",
     "output_type": "stream",
     "text": [
      "\n",
      "0.7875869974743234 0.791284292450915\n",
      "86847.5790292042 87278.21811320301\n"
     ]
    }
   ],
   "source": [
    "do_simple_cross_val(lightgbm.LGBMRegressor(), to_feature_l2, to_target_label)"
   ]
  },
  {
   "cell_type": "code",
   "execution_count": null,
   "metadata": {
    "collapsed": true
   },
   "outputs": [],
   "source": []
  },
  {
   "cell_type": "code",
   "execution_count": null,
   "metadata": {
    "collapsed": true
   },
   "outputs": [],
   "source": []
  },
  {
   "cell_type": "markdown",
   "metadata": {},
   "source": [
    "# Submit"
   ]
  },
  {
   "cell_type": "code",
   "execution_count": 59,
   "metadata": {
    "collapsed": true
   },
   "outputs": [],
   "source": [
    "def do_submit_1l(target_col_name, model_reg, to_features, to_target, model_fit_params={}):\n",
    "    i_train = pd_train\n",
    "    i_test = pd_public\n",
    "\n",
    "    X_train = to_features(i_train)\n",
    "    X_test = to_features(i_test)\n",
    "    Y_train = to_target(i_train)\n",
    "\n",
    "    model_reg.fit(X_train, Y_train, **model_fit_params)\n",
    "    Y_predict = model_reg.predict(X_test)\n",
    "\n",
    "    pd_public.loc[:, target_col_name] = Y_predict"
   ]
  },
  {
   "cell_type": "code",
   "execution_count": 60,
   "metadata": {
    "collapsed": true
   },
   "outputs": [],
   "source": [
    "def do_submit_1l_cls(target_col_names, model_cls, to_features, to_target, model_fit_params={}):\n",
    "    i_train = pd_train\n",
    "    i_test = pd_public\n",
    "\n",
    "    X_train = to_features(i_train)\n",
    "    X_test = to_features(i_test)\n",
    "    Y_train = to_target(i_train)\n",
    "\n",
    "    model_cls.fit(X_train, Y_train, **model_fit_params)\n",
    "    Y_predict = model_cls.predict_proba(X_test)\n",
    "\n",
    "    pd_public.loc[:, target_col_names] = Y_predict"
   ]
  },
  {
   "cell_type": "code",
   "execution_count": 61,
   "metadata": {
    "collapsed": true
   },
   "outputs": [],
   "source": [
    "pd_public[\"f_lin_words\"] = 0.0\n",
    "do_submit_1l(\"f_lin_words\", Ridge(alpha=20.0), to_features_words, to_target_label_confidence)"
   ]
  },
  {
   "cell_type": "code",
   "execution_count": 62,
   "metadata": {
    "collapsed": true
   },
   "outputs": [],
   "source": [
    "pd_public[\"f_lin_chars\"] = 0.0\n",
    "do_submit_1l(\"f_lin_chars\", Ridge(alpha=20.0), to_features_chars, to_target_label_confidence)"
   ]
  },
  {
   "cell_type": "code",
   "execution_count": 63,
   "metadata": {
    "collapsed": true
   },
   "outputs": [],
   "source": [
    "pd_public[\"f_lin_ngw\"] = 0.0\n",
    "do_submit_1l(\"f_lin_ngw\", Ridge(alpha=20.0), to_features_ngw, to_target_label_confidence)"
   ]
  },
  {
   "cell_type": "code",
   "execution_count": 64,
   "metadata": {
    "collapsed": true
   },
   "outputs": [],
   "source": [
    "pd_public[\"f_lgbm_w2v\"] = 0.0\n",
    "do_submit_1l(\"f_lgbm_w2v\", lightgbm.LGBMRegressor(), to_features_w2v, to_target_label_confidence)"
   ]
  },
  {
   "cell_type": "code",
   "execution_count": 65,
   "metadata": {
    "collapsed": true
   },
   "outputs": [],
   "source": [
    "pd_public[\"f_lin_w2v\"] = 0.0\n",
    "do_submit_1l(\"f_lin_w2v\", LinearRegression(), to_features_w2v, to_target_label_confidence)"
   ]
  },
  {
   "cell_type": "code",
   "execution_count": 66,
   "metadata": {
    "collapsed": true
   },
   "outputs": [],
   "source": [
    "pd_public[\"f_log0\"] = 0.0\n",
    "pd_public[\"f_log1\"] = 0.0\n",
    "pd_public[\"f_log2\"] = 0.0\n",
    "do_submit_1l_cls([\"f_log0\", \"f_log1\", \"f_log2\"],\n",
    "            lightgbm.LGBMClassifier(), to_features_w2v, to_target_label)"
   ]
  },
  {
   "cell_type": "code",
   "execution_count": null,
   "metadata": {
    "collapsed": true
   },
   "outputs": [],
   "source": []
  },
  {
   "cell_type": "code",
   "execution_count": 67,
   "metadata": {
    "collapsed": true
   },
   "outputs": [],
   "source": [
    "model_reg = lightgbm.LGBMRegressor()"
   ]
  },
  {
   "cell_type": "code",
   "execution_count": 68,
   "metadata": {
    "collapsed": true
   },
   "outputs": [],
   "source": [
    "i_train = pd_train\n",
    "i_test = pd_public.copy()\n",
    "\n",
    "X_train = to_feature_l2(i_train)\n",
    "X_test = to_feature_l2(i_test)\n",
    "Y_train = to_target_label_confidence(i_train)\n",
    "\n",
    "model_reg.fit(X_train, Y_train)\n",
    "Y_predict = model_reg.predict(X_test)"
   ]
  },
  {
   "cell_type": "code",
   "execution_count": 69,
   "metadata": {
    "collapsed": true
   },
   "outputs": [],
   "source": [
    "i_test[\"predict\"] = Y_predict\n",
    "i_test.sort_values([\"context_id\", \"predict\"], ascending=[True, False], inplace=True)"
   ]
  },
  {
   "cell_type": "code",
   "execution_count": 70,
   "metadata": {},
   "outputs": [
    {
     "data": {
      "text/html": [
       "<div>\n",
       "<style scoped>\n",
       "    .dataframe tbody tr th:only-of-type {\n",
       "        vertical-align: middle;\n",
       "    }\n",
       "\n",
       "    .dataframe tbody tr th {\n",
       "        vertical-align: top;\n",
       "    }\n",
       "\n",
       "    .dataframe thead th {\n",
       "        text-align: right;\n",
       "    }\n",
       "</style>\n",
       "<table border=\"1\" class=\"dataframe\">\n",
       "  <thead>\n",
       "    <tr style=\"text-align: right;\">\n",
       "      <th></th>\n",
       "      <th>context_id</th>\n",
       "      <th>context_2</th>\n",
       "      <th>context_1</th>\n",
       "      <th>context_0</th>\n",
       "      <th>reply_id</th>\n",
       "      <th>reply</th>\n",
       "      <th>f_lin_words</th>\n",
       "      <th>f_lin_chars</th>\n",
       "      <th>f_lin_ngw</th>\n",
       "      <th>f_lgbm_w2v</th>\n",
       "      <th>f_lin_w2v</th>\n",
       "      <th>f_log0</th>\n",
       "      <th>f_log1</th>\n",
       "      <th>f_log2</th>\n",
       "      <th>predict</th>\n",
       "    </tr>\n",
       "  </thead>\n",
       "  <tbody>\n",
       "    <tr>\n",
       "      <th>37415</th>\n",
       "      <td>100006523969204</td>\n",
       "      <td></td>\n",
       "      <td>угадай , куда мы направляемся ?</td>\n",
       "      <td>куда ?</td>\n",
       "      <td>5</td>\n",
       "      <td>в город , ведь ты всегда туда хотела .</td>\n",
       "      <td>0.580676</td>\n",
       "      <td>0.672737</td>\n",
       "      <td>0.214323</td>\n",
       "      <td>0.346976</td>\n",
       "      <td>0.481672</td>\n",
       "      <td>0.284732</td>\n",
       "      <td>0.014908</td>\n",
       "      <td>0.700360</td>\n",
       "      <td>0.603167</td>\n",
       "    </tr>\n",
       "    <tr>\n",
       "      <th>37411</th>\n",
       "      <td>100006523969204</td>\n",
       "      <td></td>\n",
       "      <td>угадай , куда мы направляемся ?</td>\n",
       "      <td>куда ?</td>\n",
       "      <td>1</td>\n",
       "      <td>на вокзал .</td>\n",
       "      <td>0.261248</td>\n",
       "      <td>0.203368</td>\n",
       "      <td>0.033066</td>\n",
       "      <td>0.148052</td>\n",
       "      <td>-0.025779</td>\n",
       "      <td>0.327724</td>\n",
       "      <td>0.068904</td>\n",
       "      <td>0.603372</td>\n",
       "      <td>0.553395</td>\n",
       "    </tr>\n",
       "    <tr>\n",
       "      <th>37413</th>\n",
       "      <td>100006523969204</td>\n",
       "      <td></td>\n",
       "      <td>угадай , куда мы направляемся ?</td>\n",
       "      <td>куда ?</td>\n",
       "      <td>3</td>\n",
       "      <td>подальше отсюда .</td>\n",
       "      <td>0.359158</td>\n",
       "      <td>0.349040</td>\n",
       "      <td>0.112601</td>\n",
       "      <td>0.245354</td>\n",
       "      <td>0.220058</td>\n",
       "      <td>0.339612</td>\n",
       "      <td>0.073593</td>\n",
       "      <td>0.586795</td>\n",
       "      <td>0.510178</td>\n",
       "    </tr>\n",
       "    <tr>\n",
       "      <th>37410</th>\n",
       "      <td>100006523969204</td>\n",
       "      <td></td>\n",
       "      <td>угадай , куда мы направляемся ?</td>\n",
       "      <td>куда ?</td>\n",
       "      <td>0</td>\n",
       "      <td>в музей .</td>\n",
       "      <td>0.254914</td>\n",
       "      <td>0.183122</td>\n",
       "      <td>0.033066</td>\n",
       "      <td>0.190548</td>\n",
       "      <td>-0.042190</td>\n",
       "      <td>0.409668</td>\n",
       "      <td>0.081864</td>\n",
       "      <td>0.508468</td>\n",
       "      <td>0.450425</td>\n",
       "    </tr>\n",
       "    <tr>\n",
       "      <th>37414</th>\n",
       "      <td>100006523969204</td>\n",
       "      <td></td>\n",
       "      <td>угадай , куда мы направляемся ?</td>\n",
       "      <td>куда ?</td>\n",
       "      <td>4</td>\n",
       "      <td>сюда , ко мне .</td>\n",
       "      <td>0.275952</td>\n",
       "      <td>0.317865</td>\n",
       "      <td>0.077303</td>\n",
       "      <td>0.471924</td>\n",
       "      <td>0.135752</td>\n",
       "      <td>0.326007</td>\n",
       "      <td>0.057246</td>\n",
       "      <td>0.616747</td>\n",
       "      <td>0.389142</td>\n",
       "    </tr>\n",
       "    <tr>\n",
       "      <th>37412</th>\n",
       "      <td>100006523969204</td>\n",
       "      <td></td>\n",
       "      <td>угадай , куда мы направляемся ?</td>\n",
       "      <td>куда ?</td>\n",
       "      <td>2</td>\n",
       "      <td>на остров .</td>\n",
       "      <td>0.030953</td>\n",
       "      <td>0.132676</td>\n",
       "      <td>0.015018</td>\n",
       "      <td>-0.212567</td>\n",
       "      <td>-0.108940</td>\n",
       "      <td>0.458302</td>\n",
       "      <td>0.085510</td>\n",
       "      <td>0.456188</td>\n",
       "      <td>0.161807</td>\n",
       "    </tr>\n",
       "    <tr>\n",
       "      <th>37418</th>\n",
       "      <td>100033735295025</td>\n",
       "      <td></td>\n",
       "      <td>я не ее подруга</td>\n",
       "      <td>она сказала мне , что подруга .</td>\n",
       "      <td>2</td>\n",
       "      <td>это &lt;CENSORED&gt; . мы встречались пару раз</td>\n",
       "      <td>0.197311</td>\n",
       "      <td>0.058518</td>\n",
       "      <td>0.088441</td>\n",
       "      <td>0.266907</td>\n",
       "      <td>0.222003</td>\n",
       "      <td>0.308028</td>\n",
       "      <td>0.022031</td>\n",
       "      <td>0.669941</td>\n",
       "      <td>0.275428</td>\n",
       "    </tr>\n",
       "    <tr>\n",
       "      <th>37420</th>\n",
       "      <td>100033735295025</td>\n",
       "      <td></td>\n",
       "      <td>я не ее подруга</td>\n",
       "      <td>она сказала мне , что подруга .</td>\n",
       "      <td>4</td>\n",
       "      <td>она ничего не видела .</td>\n",
       "      <td>0.257617</td>\n",
       "      <td>0.292657</td>\n",
       "      <td>0.307659</td>\n",
       "      <td>0.204813</td>\n",
       "      <td>0.300854</td>\n",
       "      <td>0.361386</td>\n",
       "      <td>0.050364</td>\n",
       "      <td>0.588250</td>\n",
       "      <td>0.270243</td>\n",
       "    </tr>\n",
       "    <tr>\n",
       "      <th>37419</th>\n",
       "      <td>100033735295025</td>\n",
       "      <td></td>\n",
       "      <td>я не ее подруга</td>\n",
       "      <td>она сказала мне , что подруга .</td>\n",
       "      <td>3</td>\n",
       "      <td>она . . она сказала , что сама все уладит .</td>\n",
       "      <td>0.292444</td>\n",
       "      <td>0.163782</td>\n",
       "      <td>0.209047</td>\n",
       "      <td>0.137468</td>\n",
       "      <td>0.381833</td>\n",
       "      <td>0.319363</td>\n",
       "      <td>0.011389</td>\n",
       "      <td>0.669248</td>\n",
       "      <td>0.231016</td>\n",
       "    </tr>\n",
       "    <tr>\n",
       "      <th>37417</th>\n",
       "      <td>100033735295025</td>\n",
       "      <td></td>\n",
       "      <td>я не ее подруга</td>\n",
       "      <td>она сказала мне , что подруга .</td>\n",
       "      <td>1</td>\n",
       "      <td>вот именно , она не врала .</td>\n",
       "      <td>0.202484</td>\n",
       "      <td>0.180175</td>\n",
       "      <td>0.190327</td>\n",
       "      <td>0.251467</td>\n",
       "      <td>0.222744</td>\n",
       "      <td>0.360915</td>\n",
       "      <td>0.032727</td>\n",
       "      <td>0.606358</td>\n",
       "      <td>0.210343</td>\n",
       "    </tr>\n",
       "    <tr>\n",
       "      <th>37421</th>\n",
       "      <td>100033735295025</td>\n",
       "      <td></td>\n",
       "      <td>я не ее подруга</td>\n",
       "      <td>она сказала мне , что подруга .</td>\n",
       "      <td>5</td>\n",
       "      <td>она такого не говорила .</td>\n",
       "      <td>0.227898</td>\n",
       "      <td>0.110459</td>\n",
       "      <td>0.208825</td>\n",
       "      <td>0.192077</td>\n",
       "      <td>0.093790</td>\n",
       "      <td>0.393239</td>\n",
       "      <td>0.046323</td>\n",
       "      <td>0.560438</td>\n",
       "      <td>0.156109</td>\n",
       "    </tr>\n",
       "    <tr>\n",
       "      <th>37416</th>\n",
       "      <td>100033735295025</td>\n",
       "      <td></td>\n",
       "      <td>я не ее подруга</td>\n",
       "      <td>она сказала мне , что подруга .</td>\n",
       "      <td>0</td>\n",
       "      <td>вот что она сказала</td>\n",
       "      <td>0.088037</td>\n",
       "      <td>0.131713</td>\n",
       "      <td>0.331859</td>\n",
       "      <td>0.074447</td>\n",
       "      <td>0.084328</td>\n",
       "      <td>0.450049</td>\n",
       "      <td>0.030172</td>\n",
       "      <td>0.519779</td>\n",
       "      <td>0.083821</td>\n",
       "    </tr>\n",
       "    <tr>\n",
       "      <th>37422</th>\n",
       "      <td>100033808584359</td>\n",
       "      <td></td>\n",
       "      <td></td>\n",
       "      <td>еще немного ?</td>\n",
       "      <td>0</td>\n",
       "      <td>нет , кое - что осталось .</td>\n",
       "      <td>0.163518</td>\n",
       "      <td>0.323353</td>\n",
       "      <td>0.059365</td>\n",
       "      <td>0.434491</td>\n",
       "      <td>0.291985</td>\n",
       "      <td>0.227141</td>\n",
       "      <td>0.111100</td>\n",
       "      <td>0.661759</td>\n",
       "      <td>0.489268</td>\n",
       "    </tr>\n",
       "    <tr>\n",
       "      <th>37424</th>\n",
       "      <td>100033808584359</td>\n",
       "      <td></td>\n",
       "      <td></td>\n",
       "      <td>еще немного ?</td>\n",
       "      <td>2</td>\n",
       "      <td>тяни , тяни . ещё , ещё . хватит ?</td>\n",
       "      <td>0.134319</td>\n",
       "      <td>0.253380</td>\n",
       "      <td>0.097077</td>\n",
       "      <td>0.339107</td>\n",
       "      <td>0.063867</td>\n",
       "      <td>0.245260</td>\n",
       "      <td>0.060910</td>\n",
       "      <td>0.693830</td>\n",
       "      <td>0.433661</td>\n",
       "    </tr>\n",
       "    <tr>\n",
       "      <th>37427</th>\n",
       "      <td>100033808584359</td>\n",
       "      <td></td>\n",
       "      <td></td>\n",
       "      <td>еще немного ?</td>\n",
       "      <td>5</td>\n",
       "      <td>конечно , и все !</td>\n",
       "      <td>0.547893</td>\n",
       "      <td>0.483697</td>\n",
       "      <td>0.133860</td>\n",
       "      <td>0.354029</td>\n",
       "      <td>0.222935</td>\n",
       "      <td>0.183304</td>\n",
       "      <td>0.293338</td>\n",
       "      <td>0.523358</td>\n",
       "      <td>0.424970</td>\n",
       "    </tr>\n",
       "  </tbody>\n",
       "</table>\n",
       "</div>"
      ],
      "text/plain": [
       "            context_id context_2                        context_1  \\\n",
       "37415  100006523969204            угадай , куда мы направляемся ?   \n",
       "37411  100006523969204            угадай , куда мы направляемся ?   \n",
       "37413  100006523969204            угадай , куда мы направляемся ?   \n",
       "37410  100006523969204            угадай , куда мы направляемся ?   \n",
       "37414  100006523969204            угадай , куда мы направляемся ?   \n",
       "37412  100006523969204            угадай , куда мы направляемся ?   \n",
       "37418  100033735295025                            я не ее подруга   \n",
       "37420  100033735295025                            я не ее подруга   \n",
       "37419  100033735295025                            я не ее подруга   \n",
       "37417  100033735295025                            я не ее подруга   \n",
       "37421  100033735295025                            я не ее подруга   \n",
       "37416  100033735295025                            я не ее подруга   \n",
       "37422  100033808584359                                              \n",
       "37424  100033808584359                                              \n",
       "37427  100033808584359                                              \n",
       "\n",
       "                             context_0 reply_id  \\\n",
       "37415                           куда ?        5   \n",
       "37411                           куда ?        1   \n",
       "37413                           куда ?        3   \n",
       "37410                           куда ?        0   \n",
       "37414                           куда ?        4   \n",
       "37412                           куда ?        2   \n",
       "37418  она сказала мне , что подруга .        2   \n",
       "37420  она сказала мне , что подруга .        4   \n",
       "37419  она сказала мне , что подруга .        3   \n",
       "37417  она сказала мне , что подруга .        1   \n",
       "37421  она сказала мне , что подруга .        5   \n",
       "37416  она сказала мне , что подруга .        0   \n",
       "37422                    еще немного ?        0   \n",
       "37424                    еще немного ?        2   \n",
       "37427                    еще немного ?        5   \n",
       "\n",
       "                                             reply  f_lin_words  f_lin_chars  \\\n",
       "37415       в город , ведь ты всегда туда хотела .     0.580676     0.672737   \n",
       "37411                                  на вокзал .     0.261248     0.203368   \n",
       "37413                            подальше отсюда .     0.359158     0.349040   \n",
       "37410                                    в музей .     0.254914     0.183122   \n",
       "37414                              сюда , ко мне .     0.275952     0.317865   \n",
       "37412                                  на остров .     0.030953     0.132676   \n",
       "37418     это <CENSORED> . мы встречались пару раз     0.197311     0.058518   \n",
       "37420                       она ничего не видела .     0.257617     0.292657   \n",
       "37419  она . . она сказала , что сама все уладит .     0.292444     0.163782   \n",
       "37417                  вот именно , она не врала .     0.202484     0.180175   \n",
       "37421                     она такого не говорила .     0.227898     0.110459   \n",
       "37416                          вот что она сказала     0.088037     0.131713   \n",
       "37422                   нет , кое - что осталось .     0.163518     0.323353   \n",
       "37424           тяни , тяни . ещё , ещё . хватит ?     0.134319     0.253380   \n",
       "37427                            конечно , и все !     0.547893     0.483697   \n",
       "\n",
       "       f_lin_ngw  f_lgbm_w2v  f_lin_w2v    f_log0    f_log1    f_log2  \\\n",
       "37415   0.214323    0.346976   0.481672  0.284732  0.014908  0.700360   \n",
       "37411   0.033066    0.148052  -0.025779  0.327724  0.068904  0.603372   \n",
       "37413   0.112601    0.245354   0.220058  0.339612  0.073593  0.586795   \n",
       "37410   0.033066    0.190548  -0.042190  0.409668  0.081864  0.508468   \n",
       "37414   0.077303    0.471924   0.135752  0.326007  0.057246  0.616747   \n",
       "37412   0.015018   -0.212567  -0.108940  0.458302  0.085510  0.456188   \n",
       "37418   0.088441    0.266907   0.222003  0.308028  0.022031  0.669941   \n",
       "37420   0.307659    0.204813   0.300854  0.361386  0.050364  0.588250   \n",
       "37419   0.209047    0.137468   0.381833  0.319363  0.011389  0.669248   \n",
       "37417   0.190327    0.251467   0.222744  0.360915  0.032727  0.606358   \n",
       "37421   0.208825    0.192077   0.093790  0.393239  0.046323  0.560438   \n",
       "37416   0.331859    0.074447   0.084328  0.450049  0.030172  0.519779   \n",
       "37422   0.059365    0.434491   0.291985  0.227141  0.111100  0.661759   \n",
       "37424   0.097077    0.339107   0.063867  0.245260  0.060910  0.693830   \n",
       "37427   0.133860    0.354029   0.222935  0.183304  0.293338  0.523358   \n",
       "\n",
       "        predict  \n",
       "37415  0.603167  \n",
       "37411  0.553395  \n",
       "37413  0.510178  \n",
       "37410  0.450425  \n",
       "37414  0.389142  \n",
       "37412  0.161807  \n",
       "37418  0.275428  \n",
       "37420  0.270243  \n",
       "37419  0.231016  \n",
       "37417  0.210343  \n",
       "37421  0.156109  \n",
       "37416  0.083821  \n",
       "37422  0.489268  \n",
       "37424  0.433661  \n",
       "37427  0.424970  "
      ]
     },
     "execution_count": 70,
     "metadata": {},
     "output_type": "execute_result"
    }
   ],
   "source": [
    "i_test.head(15)"
   ]
  },
  {
   "cell_type": "code",
   "execution_count": 71,
   "metadata": {
    "collapsed": true
   },
   "outputs": [],
   "source": [
    "submission_name = \"final_stack_lgbm.tsv\""
   ]
  },
  {
   "cell_type": "code",
   "execution_count": 72,
   "metadata": {
    "collapsed": true
   },
   "outputs": [],
   "source": [
    "i_test[[\"context_id\", \"reply_id\"]].to_csv(submission_name, index=False, header=False, sep=\"\\t\")"
   ]
  },
  {
   "cell_type": "code",
   "execution_count": null,
   "metadata": {
    "collapsed": true
   },
   "outputs": [],
   "source": []
  }
 ],
 "metadata": {
  "kernelspec": {
   "display_name": "Python 3",
   "language": "python",
   "name": "python3"
  },
  "language_info": {
   "codemirror_mode": {
    "name": "ipython",
    "version": 3
   },
   "file_extension": ".py",
   "mimetype": "text/x-python",
   "name": "python",
   "nbconvert_exporter": "python",
   "pygments_lexer": "ipython3",
   "version": "3.6.3"
  }
 },
 "nbformat": 4,
 "nbformat_minor": 2
}
