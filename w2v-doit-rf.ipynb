{
 "cells": [
  {
   "cell_type": "code",
   "execution_count": 1,
   "metadata": {
    "collapsed": true
   },
   "outputs": [],
   "source": [
    "from zipfile import ZipFile\n",
    "import pandas as pd\n",
    "import numpy as np"
   ]
  },
  {
   "cell_type": "markdown",
   "metadata": {},
   "source": [
    "# Загрузка данных"
   ]
  },
  {
   "cell_type": "code",
   "execution_count": 2,
   "metadata": {
    "collapsed": true
   },
   "outputs": [],
   "source": [
    "def gen_parcer(f):\n",
    "    for line in f.readlines():\n",
    "        yield line.decode().strip().split(\"\\t\")"
   ]
  },
  {
   "cell_type": "code",
   "execution_count": 3,
   "metadata": {
    "collapsed": true
   },
   "outputs": [],
   "source": [
    "with ZipFile('data.zip') as datazip:\n",
    "    with datazip.open('train.tsv') as f:\n",
    "        pd_train = pd.DataFrame(gen_parcer(f),\n",
    "                                columns=[\"context_id\", \"context_2\", \"context_1\", \"context_0\", \"reply_id\", \"reply\",\n",
    "                                         \"label\", \"confidence\"])\n",
    "    with datazip.open('public.tsv') as f:\n",
    "         pd_public = pd.DataFrame(gen_parcer(f),\n",
    "                                  columns=[\"context_id\", \"context_2\", \"context_1\", \"context_0\", \"reply_id\", \"reply\"])"
   ]
  },
  {
   "cell_type": "code",
   "execution_count": 4,
   "metadata": {},
   "outputs": [
    {
     "data": {
      "text/html": [
       "<div>\n",
       "<style scoped>\n",
       "    .dataframe tbody tr th:only-of-type {\n",
       "        vertical-align: middle;\n",
       "    }\n",
       "\n",
       "    .dataframe tbody tr th {\n",
       "        vertical-align: top;\n",
       "    }\n",
       "\n",
       "    .dataframe thead th {\n",
       "        text-align: right;\n",
       "    }\n",
       "</style>\n",
       "<table border=\"1\" class=\"dataframe\">\n",
       "  <thead>\n",
       "    <tr style=\"text-align: right;\">\n",
       "      <th></th>\n",
       "      <th>context_id</th>\n",
       "      <th>context_2</th>\n",
       "      <th>context_1</th>\n",
       "      <th>context_0</th>\n",
       "      <th>reply_id</th>\n",
       "      <th>reply</th>\n",
       "      <th>label</th>\n",
       "      <th>confidence</th>\n",
       "    </tr>\n",
       "  </thead>\n",
       "  <tbody>\n",
       "    <tr>\n",
       "      <th>0</th>\n",
       "      <td>22579918886</td>\n",
       "      <td>кликни на меня а потом на надпись \" видео - зв...</td>\n",
       "      <td>о , я тебя вижу .</td>\n",
       "      <td>ладно , повесь трубку .</td>\n",
       "      <td>0</td>\n",
       "      <td>не могу .</td>\n",
       "      <td>good</td>\n",
       "      <td>0.8753516175</td>\n",
       "    </tr>\n",
       "    <tr>\n",
       "      <th>1</th>\n",
       "      <td>22579918886</td>\n",
       "      <td>кликни на меня а потом на надпись \" видео - зв...</td>\n",
       "      <td>о , я тебя вижу .</td>\n",
       "      <td>ладно , повесь трубку .</td>\n",
       "      <td>1</td>\n",
       "      <td>нет , звонить буду я .</td>\n",
       "      <td>neutral</td>\n",
       "      <td>0.9009682113</td>\n",
       "    </tr>\n",
       "    <tr>\n",
       "      <th>2</th>\n",
       "      <td>22579918886</td>\n",
       "      <td>кликни на меня а потом на надпись \" видео - зв...</td>\n",
       "      <td>о , я тебя вижу .</td>\n",
       "      <td>ладно , повесь трубку .</td>\n",
       "      <td>2</td>\n",
       "      <td>слушай , я не мог уйти .</td>\n",
       "      <td>bad</td>\n",
       "      <td>0.8843202145</td>\n",
       "    </tr>\n",
       "    <tr>\n",
       "      <th>3</th>\n",
       "      <td>22579918886</td>\n",
       "      <td>кликни на меня а потом на надпись \" видео - зв...</td>\n",
       "      <td>о , я тебя вижу .</td>\n",
       "      <td>ладно , повесь трубку .</td>\n",
       "      <td>3</td>\n",
       "      <td>я не прекращу звонить .</td>\n",
       "      <td>good</td>\n",
       "      <td>0.9825304673</td>\n",
       "    </tr>\n",
       "    <tr>\n",
       "      <th>4</th>\n",
       "      <td>22579918886</td>\n",
       "      <td>кликни на меня а потом на надпись \" видео - зв...</td>\n",
       "      <td>о , я тебя вижу .</td>\n",
       "      <td>ладно , повесь трубку .</td>\n",
       "      <td>4</td>\n",
       "      <td>я звоню им .</td>\n",
       "      <td>good</td>\n",
       "      <td>0.8380535096</td>\n",
       "    </tr>\n",
       "  </tbody>\n",
       "</table>\n",
       "</div>"
      ],
      "text/plain": [
       "    context_id                                          context_2  \\\n",
       "0  22579918886  кликни на меня а потом на надпись \" видео - зв...   \n",
       "1  22579918886  кликни на меня а потом на надпись \" видео - зв...   \n",
       "2  22579918886  кликни на меня а потом на надпись \" видео - зв...   \n",
       "3  22579918886  кликни на меня а потом на надпись \" видео - зв...   \n",
       "4  22579918886  кликни на меня а потом на надпись \" видео - зв...   \n",
       "\n",
       "           context_1                context_0 reply_id  \\\n",
       "0  о , я тебя вижу .  ладно , повесь трубку .        0   \n",
       "1  о , я тебя вижу .  ладно , повесь трубку .        1   \n",
       "2  о , я тебя вижу .  ладно , повесь трубку .        2   \n",
       "3  о , я тебя вижу .  ладно , повесь трубку .        3   \n",
       "4  о , я тебя вижу .  ладно , повесь трубку .        4   \n",
       "\n",
       "                      reply    label    confidence  \n",
       "0                 не могу .     good  0.8753516175  \n",
       "1    нет , звонить буду я .  neutral  0.9009682113  \n",
       "2  слушай , я не мог уйти .      bad  0.8843202145  \n",
       "3   я не прекращу звонить .     good  0.9825304673  \n",
       "4              я звоню им .     good  0.8380535096  "
      ]
     },
     "execution_count": 4,
     "metadata": {},
     "output_type": "execute_result"
    }
   ],
   "source": [
    "pd_train.head()"
   ]
  },
  {
   "cell_type": "code",
   "execution_count": 5,
   "metadata": {},
   "outputs": [
    {
     "data": {
      "text/html": [
       "<div>\n",
       "<style scoped>\n",
       "    .dataframe tbody tr th:only-of-type {\n",
       "        vertical-align: middle;\n",
       "    }\n",
       "\n",
       "    .dataframe tbody tr th {\n",
       "        vertical-align: top;\n",
       "    }\n",
       "\n",
       "    .dataframe thead th {\n",
       "        text-align: right;\n",
       "    }\n",
       "</style>\n",
       "<table border=\"1\" class=\"dataframe\">\n",
       "  <thead>\n",
       "    <tr style=\"text-align: right;\">\n",
       "      <th></th>\n",
       "      <th>context_id</th>\n",
       "      <th>context_2</th>\n",
       "      <th>context_1</th>\n",
       "      <th>context_0</th>\n",
       "      <th>reply_id</th>\n",
       "      <th>reply</th>\n",
       "    </tr>\n",
       "  </thead>\n",
       "  <tbody>\n",
       "    <tr>\n",
       "      <th>0</th>\n",
       "      <td>138920940977</td>\n",
       "      <td>знаешь , я иногда подумываю , что тебе надо пр...</td>\n",
       "      <td>не - а .</td>\n",
       "      <td>нет ?</td>\n",
       "      <td>0</td>\n",
       "      <td>неа .</td>\n",
       "    </tr>\n",
       "    <tr>\n",
       "      <th>1</th>\n",
       "      <td>138920940977</td>\n",
       "      <td>знаешь , я иногда подумываю , что тебе надо пр...</td>\n",
       "      <td>не - а .</td>\n",
       "      <td>нет ?</td>\n",
       "      <td>1</td>\n",
       "      <td>нет , не хочу .</td>\n",
       "    </tr>\n",
       "    <tr>\n",
       "      <th>2</th>\n",
       "      <td>138920940977</td>\n",
       "      <td>знаешь , я иногда подумываю , что тебе надо пр...</td>\n",
       "      <td>не - а .</td>\n",
       "      <td>нет ?</td>\n",
       "      <td>2</td>\n",
       "      <td>нет .</td>\n",
       "    </tr>\n",
       "    <tr>\n",
       "      <th>3</th>\n",
       "      <td>138920940977</td>\n",
       "      <td>знаешь , я иногда подумываю , что тебе надо пр...</td>\n",
       "      <td>не - а .</td>\n",
       "      <td>нет ?</td>\n",
       "      <td>3</td>\n",
       "      <td>конечно , нет .</td>\n",
       "    </tr>\n",
       "    <tr>\n",
       "      <th>4</th>\n",
       "      <td>138920940977</td>\n",
       "      <td>знаешь , я иногда подумываю , что тебе надо пр...</td>\n",
       "      <td>не - а .</td>\n",
       "      <td>нет ?</td>\n",
       "      <td>4</td>\n",
       "      <td>разумеется , нет .</td>\n",
       "    </tr>\n",
       "  </tbody>\n",
       "</table>\n",
       "</div>"
      ],
      "text/plain": [
       "     context_id                                          context_2 context_1  \\\n",
       "0  138920940977  знаешь , я иногда подумываю , что тебе надо пр...  не - а .   \n",
       "1  138920940977  знаешь , я иногда подумываю , что тебе надо пр...  не - а .   \n",
       "2  138920940977  знаешь , я иногда подумываю , что тебе надо пр...  не - а .   \n",
       "3  138920940977  знаешь , я иногда подумываю , что тебе надо пр...  не - а .   \n",
       "4  138920940977  знаешь , я иногда подумываю , что тебе надо пр...  не - а .   \n",
       "\n",
       "  context_0 reply_id               reply  \n",
       "0     нет ?        0               неа .  \n",
       "1     нет ?        1     нет , не хочу .  \n",
       "2     нет ?        2               нет .  \n",
       "3     нет ?        3     конечно , нет .  \n",
       "4     нет ?        4  разумеется , нет .  "
      ]
     },
     "execution_count": 5,
     "metadata": {},
     "output_type": "execute_result"
    }
   ],
   "source": [
    "pd_public.head()"
   ]
  },
  {
   "cell_type": "code",
   "execution_count": 6,
   "metadata": {},
   "outputs": [
    {
     "data": {
      "text/plain": [
       "context_id    97533\n",
       "context_2     97533\n",
       "context_1     97533\n",
       "context_0     97533\n",
       "reply_id      97533\n",
       "reply         97533\n",
       "label         97533\n",
       "confidence    97533\n",
       "dtype: int64"
      ]
     },
     "execution_count": 6,
     "metadata": {},
     "output_type": "execute_result"
    }
   ],
   "source": [
    "pd_train.count()"
   ]
  },
  {
   "cell_type": "code",
   "execution_count": 7,
   "metadata": {},
   "outputs": [
    {
     "data": {
      "text/plain": [
       "context_id    9968\n",
       "context_2     9968\n",
       "context_1     9968\n",
       "context_0     9968\n",
       "reply_id      9968\n",
       "reply         9968\n",
       "dtype: int64"
      ]
     },
     "execution_count": 7,
     "metadata": {},
     "output_type": "execute_result"
    }
   ],
   "source": [
    "pd_public.count()"
   ]
  },
  {
   "cell_type": "code",
   "execution_count": 8,
   "metadata": {
    "collapsed": true
   },
   "outputs": [],
   "source": [
    "target_encoder = {'bad': 0, 'good': 2, 'neutral': 1}  \n",
    "pd_train.label = pd_train.label.map(target_encoder)"
   ]
  },
  {
   "cell_type": "code",
   "execution_count": 9,
   "metadata": {
    "collapsed": true
   },
   "outputs": [],
   "source": [
    "pd_data = pd.concat([pd_train, pd_public], axis=0).reset_index(drop=True)\n",
    "pd_data.label.fillna(-1, inplace=True)\n",
    "pd_data.confidence.fillna(0.0, inplace=True)"
   ]
  },
  {
   "cell_type": "markdown",
   "metadata": {},
   "source": [
    "# Что за данные"
   ]
  },
  {
   "cell_type": "code",
   "execution_count": 10,
   "metadata": {},
   "outputs": [
    {
     "data": {
      "text/plain": [
       "((97533, 8), (9968, 6), (107501, 8))"
      ]
     },
     "execution_count": 10,
     "metadata": {},
     "output_type": "execute_result"
    }
   ],
   "source": [
    "pd_train.shape, pd_public.shape, pd_data.shape"
   ]
  },
  {
   "cell_type": "code",
   "execution_count": 11,
   "metadata": {
    "scrolled": false
   },
   "outputs": [
    {
     "data": {
      "text/plain": [
       "label\n",
       "-1.0    0.092725\n",
       " 0.0    0.323439\n",
       " 1.0    0.104687\n",
       " 2.0    0.479149\n",
       "Name: context_id, dtype: float64"
      ]
     },
     "execution_count": 11,
     "metadata": {},
     "output_type": "execute_result"
    }
   ],
   "source": [
    "pd_data.groupby(\"label\")[\"context_id\"].count() / len(pd_data)"
   ]
  },
  {
   "cell_type": "markdown",
   "metadata": {},
   "source": [
    "# Простой бейзлайн"
   ]
  },
  {
   "cell_type": "code",
   "execution_count": 13,
   "metadata": {},
   "outputs": [
    {
     "name": "stderr",
     "output_type": "stream",
     "text": [
      "C:\\ProgramData\\Anaconda3\\lib\\site-packages\\gensim\\utils.py:1197: UserWarning: detected Windows; aliasing chunkize to chunkize_serial\n",
      "  warnings.warn(\"detected Windows; aliasing chunkize to chunkize_serial\")\n"
     ]
    }
   ],
   "source": [
    "import gensim"
   ]
  },
  {
   "cell_type": "code",
   "execution_count": 73,
   "metadata": {
    "collapsed": true
   },
   "outputs": [],
   "source": [
    "import re"
   ]
  },
  {
   "cell_type": "code",
   "execution_count": 15,
   "metadata": {},
   "outputs": [],
   "source": [
    "w2v_fpath = \"w2v/all.norm-sz100-w10-cb0-it1-min100.w2v\"\n",
    "w2v = gensim.models.KeyedVectors.load_word2vec_format(w2v_fpath, binary=True, unicode_errors='ignore')\n",
    "w2v.init_sims(replace=True)"
   ]
  },
  {
   "cell_type": "code",
   "execution_count": 63,
   "metadata": {},
   "outputs": [
    {
     "name": "stdout",
     "output_type": "stream",
     "text": [
      "позвони 0.9512766003608704\n",
      "позвонишь 0.9257874488830566\n",
      "позвоню 0.9001246690750122\n",
      "звякну 0.8846049308776855\n",
      "звони… 0.8844043016433716\n",
      "звякни 0.8841025233268738\n",
      "перезвонишь 0.8796979188919067\n",
      "перезвони 0.8790677189826965\n",
      "– звони 0.8747897148132324\n",
      "— звони 0.8705773949623108\n"
     ]
    }
   ],
   "source": [
    "for word, score in w2v.most_similar(u\"звони\"):\n",
    "    print (word, score)"
   ]
  },
  {
   "cell_type": "code",
   "execution_count": 20,
   "metadata": {},
   "outputs": [
    {
     "data": {
      "text/plain": [
       "1239964"
      ]
     },
     "execution_count": 20,
     "metadata": {},
     "output_type": "execute_result"
    }
   ],
   "source": [
    "len(w2v.vocab)"
   ]
  },
  {
   "cell_type": "code",
   "execution_count": 115,
   "metadata": {
    "collapsed": true
   },
   "outputs": [],
   "source": [
    "s_words = pd_data[[\"context_2\", \"context_1\", \"context_0\", \"reply\"]] \\\n",
    "    .apply(lambda x: \" \".join(x), axis=1)"
   ]
  },
  {
   "cell_type": "code",
   "execution_count": 120,
   "metadata": {
    "collapsed": true
   },
   "outputs": [],
   "source": [
    "empty_vector = np.zeros(w2v.vector_size)\n",
    "def condext_to_vec(x):\n",
    "    words = re.findall(r\"\\b(\\w+)\\b\", x)\n",
    "    vectors = sum([w2v[word] for word in words if word in w2v])\n",
    "    return (empty_vector + vectors).reshape(1, -1)"
   ]
  },
  {
   "cell_type": "code",
   "execution_count": null,
   "metadata": {
    "collapsed": true
   },
   "outputs": [],
   "source": []
  },
  {
   "cell_type": "code",
   "execution_count": 111,
   "metadata": {},
   "outputs": [
    {
     "data": {
      "text/plain": [
       "(97533, 200)"
      ]
     },
     "execution_count": 111,
     "metadata": {},
     "output_type": "execute_result"
    }
   ],
   "source": [
    "to_features_w2v(pd_train).shape"
   ]
  },
  {
   "cell_type": "code",
   "execution_count": 89,
   "metadata": {},
   "outputs": [
    {
     "data": {
      "text/plain": [
       "['сантанико', 'ƒрузь']"
      ]
     },
     "execution_count": 89,
     "metadata": {},
     "output_type": "execute_result"
    }
   ],
   "source": [
    "s_words.loc[40525]"
   ]
  },
  {
   "cell_type": "code",
   "execution_count": 92,
   "metadata": {},
   "outputs": [
    {
     "data": {
      "text/plain": [
       "array([-0.09578563,  0.01117561, -0.00880318,  0.21853253, -0.01243461,\n",
       "        0.03876792,  0.03949704, -0.04481348, -0.0351248 ,  0.04386365,\n",
       "        0.19681863, -0.01494529,  0.02093783, -0.04380528,  0.04432995,\n",
       "        0.0782617 ,  0.10176197,  0.02426261, -0.05605232, -0.07077625,\n",
       "       -0.00909789, -0.00149532,  0.16899835,  0.02694597, -0.12898546,\n",
       "        0.03377159, -0.09571755, -0.06270054,  0.03833026, -0.05506329,\n",
       "       -0.07291742, -0.11279436,  0.01631826,  0.06522804, -0.04545193,\n",
       "       -0.16640171, -0.16595216, -0.04210451,  0.06895226,  0.02163207,\n",
       "       -0.03472768,  0.00218695, -0.05143479, -0.00968446, -0.01106714,\n",
       "       -0.19546075, -0.06368793,  0.01404457, -0.0222574 , -0.02700514,\n",
       "        0.05644063,  0.08306466, -0.08505695, -0.04710397, -0.07799276,\n",
       "        0.00852956, -0.05083572, -0.02046217,  0.14465103,  0.08092348,\n",
       "        0.1001244 , -0.02005348,  0.04071897, -0.12408392, -0.00646024,\n",
       "        0.11262947,  0.00634297, -0.07659069,  0.17482547,  0.03513551,\n",
       "       -0.2493175 ,  0.18203115, -0.24429061,  0.04934103, -0.19057199,\n",
       "       -0.04295615,  0.10892861, -0.13917938, -0.03036119,  0.19367397,\n",
       "       -0.0123625 ,  0.22373606, -0.1958717 , -0.09741201, -0.00076604,\n",
       "       -0.04676966, -0.09027874, -0.01284088,  0.02660548,  0.03677992,\n",
       "       -0.00768762, -0.11181954, -0.07828745,  0.0233705 , -0.06529418,\n",
       "       -0.03090744, -0.09394401,  0.29555351,  0.05195154, -0.18260732], dtype=float32)"
      ]
     },
     "execution_count": 92,
     "metadata": {},
     "output_type": "execute_result"
    }
   ],
   "source": [
    "w2v['друзь']"
   ]
  },
  {
   "cell_type": "code",
   "execution_count": 123,
   "metadata": {},
   "outputs": [
    {
     "data": {
      "text/plain": [
       "array([[ 0.05916152, -0.64475715, -1.28002584, ...,  1.08181226,\n",
       "         0.10062046, -1.89331996],\n",
       "       [ 0.18127358, -0.57715333, -1.30805779, ...,  1.01000834,\n",
       "         0.21921341, -2.10133481],\n",
       "       [ 0.06556252, -0.66837418, -1.59541368, ...,  1.29882824,\n",
       "         0.18910089, -2.44109344],\n",
       "       ..., \n",
       "       [-0.33452025, -0.6943807 , -0.86757255, ...,  0.03578128,\n",
       "         0.05612306, -1.41522992],\n",
       "       [-0.34195346, -0.75255901, -0.96607566, ...,  0.13925795,\n",
       "         0.02872573, -1.5818764 ],\n",
       "       [-0.32940465, -0.77266765, -0.8980037 , ...,  0.01605068,\n",
       "         0.0777633 , -1.29312503]])"
      ]
     },
     "execution_count": 123,
     "metadata": {},
     "output_type": "execute_result"
    }
   ],
   "source": [
    "np.concatenate(s_words.apply(condext_to_vec).tolist())"
   ]
  },
  {
   "cell_type": "code",
   "execution_count": 94,
   "metadata": {},
   "outputs": [
    {
     "data": {
      "text/plain": [
       "array([[ 0.05916152, -0.64475715, -1.28002584, ...,  1.08181226,\n",
       "         0.10062046, -1.89331996],\n",
       "       [ 0.18127358, -0.57715333, -1.30805779, ...,  1.01000834,\n",
       "         0.21921341, -2.10133481],\n",
       "       [ 0.06556252, -0.66837418, -1.59541368, ...,  1.29882824,\n",
       "         0.18910089, -2.44109344],\n",
       "       ..., \n",
       "       [-0.33452025, -0.6943807 , -0.86757255, ...,  0.03578128,\n",
       "         0.05612306, -1.41522992],\n",
       "       [-0.34195346, -0.75255901, -0.96607566, ...,  0.13925795,\n",
       "         0.02872573, -1.5818764 ],\n",
       "       [-0.32940465, -0.77266765, -0.8980037 , ...,  0.01605068,\n",
       "         0.0777633 , -1.29312503]])"
      ]
     },
     "execution_count": 94,
     "metadata": {},
     "output_type": "execute_result"
    }
   ],
   "source": [
    "np.concatenate(s_words.apply(lambda x: (np.zeros(100) + sum((w2v[word] for word in x if word in w2v))).reshape(1, -1)).tolist())"
   ]
  },
  {
   "cell_type": "code",
   "execution_count": null,
   "metadata": {
    "collapsed": true
   },
   "outputs": [],
   "source": []
  },
  {
   "cell_type": "markdown",
   "metadata": {},
   "source": [
    "## features"
   ]
  },
  {
   "cell_type": "code",
   "execution_count": 125,
   "metadata": {
    "collapsed": true
   },
   "outputs": [],
   "source": [
    "def to_features_w2v(df):\n",
    "    s_words = df[[\"context_2\", \"context_1\", \"context_0\"]].apply(lambda x: \" \".join(x), axis=1)\n",
    "    context = np.concatenate(s_words.apply(condext_to_vec).tolist())\n",
    "    \n",
    "    s_words = df[\"reply\"]\n",
    "    reply = np.concatenate(s_words.apply(condext_to_vec).tolist())\n",
    "    \n",
    "    features = np.concatenate([context, reply], axis=1)\n",
    "    return features"
   ]
  },
  {
   "cell_type": "markdown",
   "metadata": {},
   "source": [
    "## crossval"
   ]
  },
  {
   "cell_type": "code",
   "execution_count": 97,
   "metadata": {
    "collapsed": true
   },
   "outputs": [],
   "source": [
    "from tqdm import tqdm_notebook"
   ]
  },
  {
   "cell_type": "code",
   "execution_count": 98,
   "metadata": {
    "collapsed": true
   },
   "outputs": [],
   "source": [
    "from sklearn.model_selection import StratifiedKFold"
   ]
  },
  {
   "cell_type": "code",
   "execution_count": 99,
   "metadata": {
    "collapsed": true
   },
   "outputs": [],
   "source": [
    "skf = StratifiedKFold(n_splits=3)"
   ]
  },
  {
   "cell_type": "code",
   "execution_count": 100,
   "metadata": {
    "collapsed": true
   },
   "outputs": [],
   "source": [
    "from sklearn.linear_model import LinearRegression, Lasso\n",
    "from sklearn.ensemble import RandomForestRegressor"
   ]
  },
  {
   "cell_type": "code",
   "execution_count": 102,
   "metadata": {
    "collapsed": true
   },
   "outputs": [],
   "source": [
    "from sklearn.metrics import mean_absolute_error"
   ]
  },
  {
   "cell_type": "code",
   "execution_count": 103,
   "metadata": {
    "collapsed": true
   },
   "outputs": [],
   "source": [
    "def calc_ndcg_score(df, y_predict):\n",
    "    df = df.copy()\n",
    "    df[\"predict\"] = y_predict\n",
    "    #dcg\n",
    "    df.sort_values([\"context_id\", \"predict\"], ascending=[True, False], inplace=True)\n",
    "    df[\"row_count\"] = df.groupby(\"context_id\").cumcount()+1\n",
    "    df[\"dcg\"] = df[\"label\"] / np.log2(df[\"row_count\"] + 1)\n",
    "    #idcg\n",
    "    df.sort_values([\"context_id\", \"label\"], ascending=[True, False], inplace=True)\n",
    "    df[\"row_count\"] = df.groupby(\"context_id\").cumcount()+1\n",
    "    df[\"idcg\"] = df[\"label\"] / np.log2(df[\"row_count\"] + 1)\n",
    "    \n",
    "    df_context = df.groupby(\"context_id\").sum()\n",
    "    return (df_context[\"dcg\"] / df_context[\"idcg\"]).mean() * 100000"
   ]
  },
  {
   "cell_type": "code",
   "execution_count": 104,
   "metadata": {
    "collapsed": true
   },
   "outputs": [],
   "source": [
    "def do_cross_val(model_reg, to_features, to_target):\n",
    "    mae_errors = []\n",
    "    ndcg_scores = []\n",
    "\n",
    "    for _train, _test in tqdm_notebook(skf.split(pd_train.index, pd_train.label), total=3):\n",
    "        i_train = pd_train.iloc[_train]\n",
    "        i_test = pd_train.iloc[_test]\n",
    "\n",
    "        X_train = to_features(i_train)\n",
    "        X_test = to_features(i_test)\n",
    "        Y_train = to_target(i_train)\n",
    "        Y_test = to_target(i_test)\n",
    "\n",
    "        model_reg.fit(X_train, Y_train)\n",
    "        Y_predict = model_reg.predict(X_test)\n",
    "        mae_errors.append(mean_absolute_error(Y_test, Y_predict))\n",
    "        ndcg_scores.append(calc_ndcg_score(i_test, Y_predict))\n",
    "\n",
    "    print(mae_errors)\n",
    "    print(ndcg_scores)"
   ]
  },
  {
   "cell_type": "markdown",
   "metadata": {},
   "source": [
    "## target"
   ]
  },
  {
   "cell_type": "code",
   "execution_count": 105,
   "metadata": {
    "collapsed": true
   },
   "outputs": [],
   "source": [
    "trg_label = lambda x: x.label.values"
   ]
  },
  {
   "cell_type": "code",
   "execution_count": 106,
   "metadata": {
    "collapsed": true
   },
   "outputs": [],
   "source": [
    "trg_label_confidence = lambda x: (x.label.values - 1) * x.confidence.values.astype(np.float)"
   ]
  },
  {
   "cell_type": "markdown",
   "metadata": {},
   "source": [
    "## Нормальные варианты"
   ]
  },
  {
   "cell_type": "code",
   "execution_count": 127,
   "metadata": {},
   "outputs": [
    {
     "data": {
      "application/vnd.jupyter.widget-view+json": {
       "model_id": "b4fb1255c9ea41d5ac3c2162a4d45d7e",
       "version_major": 2,
       "version_minor": 0
      },
      "text/plain": [
       "A Jupyter Widget"
      ]
     },
     "metadata": {},
     "output_type": "display_data"
    },
    {
     "name": "stdout",
     "output_type": "stream",
     "text": [
      "\n",
      "[0.83633135814594051, 0.83542381754126749, 0.83530401366871465]\n",
      "[86155.36850112038, 85816.3105577912, 86051.75916060706]\n"
     ]
    }
   ],
   "source": [
    "do_cross_val(LinearRegression(), to_features_w2v, trg_label)"
   ]
  },
  {
   "cell_type": "code",
   "execution_count": 128,
   "metadata": {},
   "outputs": [
    {
     "data": {
      "application/vnd.jupyter.widget-view+json": {
       "model_id": "69d6ae96ca8c4d2d87023f84e40d283a",
       "version_major": 2,
       "version_minor": 0
      },
      "text/plain": [
       "A Jupyter Widget"
      ]
     },
     "metadata": {},
     "output_type": "display_data"
    },
    {
     "name": "stdout",
     "output_type": "stream",
     "text": [
      "\n",
      "[0.72349039337976706, 0.72178025925071621, 0.7209589339115503]\n",
      "[86169.43718925674, 85857.15289749001, 86071.59998169028]\n"
     ]
    }
   ],
   "source": [
    "do_cross_val(LinearRegression(), to_features_w2v, trg_label_confidence)"
   ]
  },
  {
   "cell_type": "markdown",
   "metadata": {},
   "source": [
    "## на проверке"
   ]
  },
  {
   "cell_type": "code",
   "execution_count": 134,
   "metadata": {},
   "outputs": [],
   "source": [
    "from sklearn.ensemble import RandomForestRegressor"
   ]
  },
  {
   "cell_type": "code",
   "execution_count": 136,
   "metadata": {},
   "outputs": [
    {
     "data": {
      "application/vnd.jupyter.widget-view+json": {
       "model_id": "26247996e2fc40b3887db531ea8dc12b",
       "version_major": 2,
       "version_minor": 0
      },
      "text/plain": [
       "A Jupyter Widget"
      ]
     },
     "metadata": {},
     "output_type": "display_data"
    },
    {
     "name": "stdout",
     "output_type": "stream",
     "text": [
      "\n",
      "[0.70617869210100848, 0.70500433760123726, 0.70573993031730142]\n",
      "[85845.51530003439, 85713.93863663572, 85771.36473734955]\n"
     ]
    }
   ],
   "source": [
    "do_cross_val(RandomForestRegressor(n_estimators=60, n_jobs=-1), to_features_w2v, trg_label_confidence)"
   ]
  },
  {
   "cell_type": "code",
   "execution_count": null,
   "metadata": {
    "collapsed": true
   },
   "outputs": [],
   "source": []
  },
  {
   "cell_type": "markdown",
   "metadata": {},
   "source": [
    "## Неудачные варианты"
   ]
  },
  {
   "cell_type": "code",
   "execution_count": null,
   "metadata": {
    "collapsed": true
   },
   "outputs": [],
   "source": []
  },
  {
   "cell_type": "markdown",
   "metadata": {},
   "source": [
    "# Submit"
   ]
  },
  {
   "cell_type": "code",
   "execution_count": 81,
   "metadata": {
    "collapsed": true
   },
   "outputs": [],
   "source": [
    "def do_submit(submission_name, model_reg, to_features, to_target):\n",
    "    i_train = pd_train\n",
    "    i_test = pd_public.copy()\n",
    "\n",
    "    X_train = to_features(i_train)\n",
    "    X_test = to_features(i_test)\n",
    "    Y_train = to_target(i_train)\n",
    "\n",
    "    model_reg.fit(X_train, Y_train)\n",
    "    Y_predict = model_reg.predict(X_test)\n",
    "\n",
    "    i_test[\"predict\"] = Y_predict\n",
    "    i_test.sort_values([\"context_id\", \"predict\"], ascending=[True, False], inplace=True)\n",
    "\n",
    "    i_test.head(15)\n",
    "    i_test[[\"context_id\", \"reply_id\"]].to_csv(submission_name, index=False, header=False, sep=\"\\t\")\n",
    "    \n",
    "    return i_test"
   ]
  },
  {
   "cell_type": "code",
   "execution_count": 82,
   "metadata": {},
   "outputs": [
    {
     "data": {
      "text/html": [
       "<div>\n",
       "<style scoped>\n",
       "    .dataframe tbody tr th:only-of-type {\n",
       "        vertical-align: middle;\n",
       "    }\n",
       "\n",
       "    .dataframe tbody tr th {\n",
       "        vertical-align: top;\n",
       "    }\n",
       "\n",
       "    .dataframe thead th {\n",
       "        text-align: right;\n",
       "    }\n",
       "</style>\n",
       "<table border=\"1\" class=\"dataframe\">\n",
       "  <thead>\n",
       "    <tr style=\"text-align: right;\">\n",
       "      <th></th>\n",
       "      <th>context_id</th>\n",
       "      <th>context_2</th>\n",
       "      <th>context_1</th>\n",
       "      <th>context_0</th>\n",
       "      <th>reply_id</th>\n",
       "      <th>reply</th>\n",
       "      <th>predict</th>\n",
       "    </tr>\n",
       "  </thead>\n",
       "  <tbody>\n",
       "    <tr>\n",
       "      <th>3479</th>\n",
       "      <td>100097508986637</td>\n",
       "      <td></td>\n",
       "      <td></td>\n",
       "      <td>выключай их</td>\n",
       "      <td>4</td>\n",
       "      <td>пытаюсь , сэр .</td>\n",
       "      <td>0.345558</td>\n",
       "    </tr>\n",
       "    <tr>\n",
       "      <th>3478</th>\n",
       "      <td>100097508986637</td>\n",
       "      <td></td>\n",
       "      <td></td>\n",
       "      <td>выключай их</td>\n",
       "      <td>3</td>\n",
       "      <td>я пытаюсь !</td>\n",
       "      <td>0.162357</td>\n",
       "    </tr>\n",
       "    <tr>\n",
       "      <th>3476</th>\n",
       "      <td>100097508986637</td>\n",
       "      <td></td>\n",
       "      <td></td>\n",
       "      <td>выключай их</td>\n",
       "      <td>1</td>\n",
       "      <td>ты не выключишь , тогда € сам выключу</td>\n",
       "      <td>-0.021206</td>\n",
       "    </tr>\n",
       "    <tr>\n",
       "      <th>3480</th>\n",
       "      <td>100097508986637</td>\n",
       "      <td></td>\n",
       "      <td></td>\n",
       "      <td>выключай их</td>\n",
       "      <td>5</td>\n",
       "      <td>выключите</td>\n",
       "      <td>-0.270745</td>\n",
       "    </tr>\n",
       "    <tr>\n",
       "      <th>3475</th>\n",
       "      <td>100097508986637</td>\n",
       "      <td></td>\n",
       "      <td></td>\n",
       "      <td>выключай их</td>\n",
       "      <td>0</td>\n",
       "      <td>выключить что ?</td>\n",
       "      <td>-0.284118</td>\n",
       "    </tr>\n",
       "    <tr>\n",
       "      <th>3477</th>\n",
       "      <td>100097508986637</td>\n",
       "      <td></td>\n",
       "      <td></td>\n",
       "      <td>выключай их</td>\n",
       "      <td>2</td>\n",
       "      <td>выключить ?</td>\n",
       "      <td>-0.332019</td>\n",
       "    </tr>\n",
       "    <tr>\n",
       "      <th>3483</th>\n",
       "      <td>100149747456986</td>\n",
       "      <td></td>\n",
       "      <td>как вы здесь оказались ?</td>\n",
       "      <td>не надо меня тянуть !</td>\n",
       "      <td>2</td>\n",
       "      <td>я не могу позволить вам уйти .</td>\n",
       "      <td>0.304185</td>\n",
       "    </tr>\n",
       "    <tr>\n",
       "      <th>3482</th>\n",
       "      <td>100149747456986</td>\n",
       "      <td></td>\n",
       "      <td>как вы здесь оказались ?</td>\n",
       "      <td>не надо меня тянуть !</td>\n",
       "      <td>1</td>\n",
       "      <td>мне показалось , вы меня зовете .</td>\n",
       "      <td>0.258659</td>\n",
       "    </tr>\n",
       "    <tr>\n",
       "      <th>3484</th>\n",
       "      <td>100149747456986</td>\n",
       "      <td></td>\n",
       "      <td>как вы здесь оказались ?</td>\n",
       "      <td>не надо меня тянуть !</td>\n",
       "      <td>3</td>\n",
       "      <td>мне уже легче .</td>\n",
       "      <td>0.219066</td>\n",
       "    </tr>\n",
       "    <tr>\n",
       "      <th>3486</th>\n",
       "      <td>100149747456986</td>\n",
       "      <td></td>\n",
       "      <td>как вы здесь оказались ?</td>\n",
       "      <td>не надо меня тянуть !</td>\n",
       "      <td>5</td>\n",
       "      <td>что \" не надо \" ? не надо меня .</td>\n",
       "      <td>0.054430</td>\n",
       "    </tr>\n",
       "    <tr>\n",
       "      <th>3481</th>\n",
       "      <td>100149747456986</td>\n",
       "      <td></td>\n",
       "      <td>как вы здесь оказались ?</td>\n",
       "      <td>не надо меня тянуть !</td>\n",
       "      <td>0</td>\n",
       "      <td>ладно .</td>\n",
       "      <td>0.047574</td>\n",
       "    </tr>\n",
       "    <tr>\n",
       "      <th>3485</th>\n",
       "      <td>100149747456986</td>\n",
       "      <td></td>\n",
       "      <td>как вы здесь оказались ?</td>\n",
       "      <td>не надо меня тянуть !</td>\n",
       "      <td>4</td>\n",
       "      <td>извините .</td>\n",
       "      <td>-0.061571</td>\n",
       "    </tr>\n",
       "    <tr>\n",
       "      <th>3491</th>\n",
       "      <td>100441828256276</td>\n",
       "      <td>я чувствую !</td>\n",
       "      <td>по этой причине я здесь .</td>\n",
       "      <td>мой духовный путь !</td>\n",
       "      <td>4</td>\n",
       "      <td>мой повешенный .</td>\n",
       "      <td>0.260258</td>\n",
       "    </tr>\n",
       "    <tr>\n",
       "      <th>3489</th>\n",
       "      <td>100441828256276</td>\n",
       "      <td>я чувствую !</td>\n",
       "      <td>по этой причине я здесь .</td>\n",
       "      <td>мой духовный путь !</td>\n",
       "      <td>2</td>\n",
       "      <td>иным бог шепчет в уши . мне же он кричит в них !</td>\n",
       "      <td>0.243701</td>\n",
       "    </tr>\n",
       "    <tr>\n",
       "      <th>3492</th>\n",
       "      <td>100441828256276</td>\n",
       "      <td>я чувствую !</td>\n",
       "      <td>по этой причине я здесь .</td>\n",
       "      <td>мой духовный путь !</td>\n",
       "      <td>5</td>\n",
       "      <td>уильям , довольно .</td>\n",
       "      <td>0.146524</td>\n",
       "    </tr>\n",
       "    <tr>\n",
       "      <th>3490</th>\n",
       "      <td>100441828256276</td>\n",
       "      <td>я чувствую !</td>\n",
       "      <td>по этой причине я здесь .</td>\n",
       "      <td>мой духовный путь !</td>\n",
       "      <td>3</td>\n",
       "      <td>и мой .</td>\n",
       "      <td>0.120970</td>\n",
       "    </tr>\n",
       "    <tr>\n",
       "      <th>3487</th>\n",
       "      <td>100441828256276</td>\n",
       "      <td>я чувствую !</td>\n",
       "      <td>по этой причине я здесь .</td>\n",
       "      <td>мой духовный путь !</td>\n",
       "      <td>0</td>\n",
       "      <td>нет никакого бога .</td>\n",
       "      <td>0.068058</td>\n",
       "    </tr>\n",
       "    <tr>\n",
       "      <th>3488</th>\n",
       "      <td>100441828256276</td>\n",
       "      <td>я чувствую !</td>\n",
       "      <td>по этой причине я здесь .</td>\n",
       "      <td>мой духовный путь !</td>\n",
       "      <td>1</td>\n",
       "      <td>мой .</td>\n",
       "      <td>-0.069289</td>\n",
       "    </tr>\n",
       "    <tr>\n",
       "      <th>3497</th>\n",
       "      <td>100447631007679</td>\n",
       "      <td>просто прекрати !</td>\n",
       "      <td>прекрати спасать меня .</td>\n",
       "      <td>в чем , черт возьми , твоя проблема ?</td>\n",
       "      <td>4</td>\n",
       "      <td>ты знаешь , в чем моя проблема ?</td>\n",
       "      <td>0.349712</td>\n",
       "    </tr>\n",
       "    <tr>\n",
       "      <th>3493</th>\n",
       "      <td>100447631007679</td>\n",
       "      <td>просто прекрати !</td>\n",
       "      <td>прекрати спасать меня .</td>\n",
       "      <td>в чем , черт возьми , твоя проблема ?</td>\n",
       "      <td>0</td>\n",
       "      <td>у меня нет проблем .</td>\n",
       "      <td>0.313264</td>\n",
       "    </tr>\n",
       "    <tr>\n",
       "      <th>3498</th>\n",
       "      <td>100447631007679</td>\n",
       "      <td>просто прекрати !</td>\n",
       "      <td>прекрати спасать меня .</td>\n",
       "      <td>в чем , черт возьми , твоя проблема ?</td>\n",
       "      <td>5</td>\n",
       "      <td>ты должен быть дать мне это уладить .</td>\n",
       "      <td>0.296484</td>\n",
       "    </tr>\n",
       "    <tr>\n",
       "      <th>3495</th>\n",
       "      <td>100447631007679</td>\n",
       "      <td>просто прекрати !</td>\n",
       "      <td>прекрати спасать меня .</td>\n",
       "      <td>в чем , черт возьми , твоя проблема ?</td>\n",
       "      <td>2</td>\n",
       "      <td>у меня нет проблемы .</td>\n",
       "      <td>0.294143</td>\n",
       "    </tr>\n",
       "    <tr>\n",
       "      <th>3496</th>\n",
       "      <td>100447631007679</td>\n",
       "      <td>просто прекрати !</td>\n",
       "      <td>прекрати спасать меня .</td>\n",
       "      <td>в чем , черт возьми , твоя проблема ?</td>\n",
       "      <td>3</td>\n",
       "      <td>проблем нет .</td>\n",
       "      <td>0.245227</td>\n",
       "    </tr>\n",
       "    <tr>\n",
       "      <th>3494</th>\n",
       "      <td>100447631007679</td>\n",
       "      <td>просто прекрати !</td>\n",
       "      <td>прекрати спасать меня .</td>\n",
       "      <td>в чем , черт возьми , твоя проблема ?</td>\n",
       "      <td>1</td>\n",
       "      <td>в тебе .</td>\n",
       "      <td>0.121033</td>\n",
       "    </tr>\n",
       "    <tr>\n",
       "      <th>3500</th>\n",
       "      <td>100696807089944</td>\n",
       "      <td></td>\n",
       "      <td>дайсон любит тебя .</td>\n",
       "      <td>нет .</td>\n",
       "      <td>1</td>\n",
       "      <td>я знаю ты любишь его , и я знаю , ты скучаешь ...</td>\n",
       "      <td>0.310679</td>\n",
       "    </tr>\n",
       "    <tr>\n",
       "      <th>3499</th>\n",
       "      <td>100696807089944</td>\n",
       "      <td></td>\n",
       "      <td>дайсон любит тебя .</td>\n",
       "      <td>нет .</td>\n",
       "      <td>0</td>\n",
       "      <td>почему нет ?</td>\n",
       "      <td>0.186733</td>\n",
       "    </tr>\n",
       "    <tr>\n",
       "      <th>3502</th>\n",
       "      <td>100696807089944</td>\n",
       "      <td></td>\n",
       "      <td>дайсон любит тебя .</td>\n",
       "      <td>нет .</td>\n",
       "      <td>3</td>\n",
       "      <td>поверь мне .</td>\n",
       "      <td>0.050611</td>\n",
       "    </tr>\n",
       "    <tr>\n",
       "      <th>3501</th>\n",
       "      <td>100696807089944</td>\n",
       "      <td></td>\n",
       "      <td>дайсон любит тебя .</td>\n",
       "      <td>нет .</td>\n",
       "      <td>2</td>\n",
       "      <td>правда .</td>\n",
       "      <td>0.009082</td>\n",
       "    </tr>\n",
       "    <tr>\n",
       "      <th>3504</th>\n",
       "      <td>100696807089944</td>\n",
       "      <td></td>\n",
       "      <td>дайсон любит тебя .</td>\n",
       "      <td>нет .</td>\n",
       "      <td>5</td>\n",
       "      <td>а вот и да .</td>\n",
       "      <td>-0.057405</td>\n",
       "    </tr>\n",
       "    <tr>\n",
       "      <th>3503</th>\n",
       "      <td>100696807089944</td>\n",
       "      <td></td>\n",
       "      <td>дайсон любит тебя .</td>\n",
       "      <td>нет .</td>\n",
       "      <td>4</td>\n",
       "      <td>что нет ?</td>\n",
       "      <td>-0.240047</td>\n",
       "    </tr>\n",
       "    <tr>\n",
       "      <th>...</th>\n",
       "      <td>...</td>\n",
       "      <td>...</td>\n",
       "      <td>...</td>\n",
       "      <td>...</td>\n",
       "      <td>...</td>\n",
       "      <td>...</td>\n",
       "      <td>...</td>\n",
       "    </tr>\n",
       "    <tr>\n",
       "      <th>3449</th>\n",
       "      <td>99068729200925</td>\n",
       "      <td>мой князь зовет меня .</td>\n",
       "      <td>он движется через моря к своему дому .</td>\n",
       "      <td>там он снова обретет свою силу .</td>\n",
       "      <td>4</td>\n",
       "      <td>он может защитить нас , и я знаю , что марсель...</td>\n",
       "      <td>0.469623</td>\n",
       "    </tr>\n",
       "    <tr>\n",
       "      <th>3446</th>\n",
       "      <td>99068729200925</td>\n",
       "      <td>мой князь зовет меня .</td>\n",
       "      <td>он движется через моря к своему дому .</td>\n",
       "      <td>там он снова обретет свою силу .</td>\n",
       "      <td>1</td>\n",
       "      <td>за ним последуют еще трое и тогда он начнется .</td>\n",
       "      <td>0.371769</td>\n",
       "    </tr>\n",
       "    <tr>\n",
       "      <th>3447</th>\n",
       "      <td>99068729200925</td>\n",
       "      <td>мой князь зовет меня .</td>\n",
       "      <td>он движется через моря к своему дому .</td>\n",
       "      <td>там он снова обретет свою силу .</td>\n",
       "      <td>2</td>\n",
       "      <td>сперва такая милая , но в следующее мгновение ...</td>\n",
       "      <td>0.338255</td>\n",
       "    </tr>\n",
       "    <tr>\n",
       "      <th>3448</th>\n",
       "      <td>99068729200925</td>\n",
       "      <td>мой князь зовет меня .</td>\n",
       "      <td>он движется через моря к своему дому .</td>\n",
       "      <td>там он снова обретет свою силу .</td>\n",
       "      <td>3</td>\n",
       "      <td>но по самой природе вещей он не может не оказа...</td>\n",
       "      <td>0.271109</td>\n",
       "    </tr>\n",
       "    <tr>\n",
       "      <th>3445</th>\n",
       "      <td>99068729200925</td>\n",
       "      <td>мой князь зовет меня .</td>\n",
       "      <td>он движется через моря к своему дому .</td>\n",
       "      <td>там он снова обретет свою силу .</td>\n",
       "      <td>0</td>\n",
       "      <td>но его пистолет был пуст .</td>\n",
       "      <td>0.097722</td>\n",
       "    </tr>\n",
       "    <tr>\n",
       "      <th>3450</th>\n",
       "      <td>99068729200925</td>\n",
       "      <td>мой князь зовет меня .</td>\n",
       "      <td>он движется через моря к своему дому .</td>\n",
       "      <td>там он снова обретет свою силу .</td>\n",
       "      <td>5</td>\n",
       "      <td>бедному сердцу так говорил он .</td>\n",
       "      <td>0.063493</td>\n",
       "    </tr>\n",
       "    <tr>\n",
       "      <th>3453</th>\n",
       "      <td>99159608087191</td>\n",
       "      <td></td>\n",
       "      <td>я нахожу , что прогулка после приёма пищи помо...</td>\n",
       "      <td>кто со мной ?</td>\n",
       "      <td>2</td>\n",
       "      <td>да , конечно .</td>\n",
       "      <td>0.384324</td>\n",
       "    </tr>\n",
       "    <tr>\n",
       "      <th>3456</th>\n",
       "      <td>99159608087191</td>\n",
       "      <td></td>\n",
       "      <td>я нахожу , что прогулка после приёма пищи помо...</td>\n",
       "      <td>кто со мной ?</td>\n",
       "      <td>5</td>\n",
       "      <td>рассчитывай на меня .</td>\n",
       "      <td>0.237858</td>\n",
       "    </tr>\n",
       "    <tr>\n",
       "      <th>3451</th>\n",
       "      <td>99159608087191</td>\n",
       "      <td></td>\n",
       "      <td>я нахожу , что прогулка после приёма пищи помо...</td>\n",
       "      <td>кто со мной ?</td>\n",
       "      <td>0</td>\n",
       "      <td>никто .</td>\n",
       "      <td>-0.054465</td>\n",
       "    </tr>\n",
       "    <tr>\n",
       "      <th>3454</th>\n",
       "      <td>99159608087191</td>\n",
       "      <td></td>\n",
       "      <td>я нахожу , что прогулка после приёма пищи помо...</td>\n",
       "      <td>кто со мной ?</td>\n",
       "      <td>3</td>\n",
       "      <td>!</td>\n",
       "      <td>-0.138472</td>\n",
       "    </tr>\n",
       "    <tr>\n",
       "      <th>3452</th>\n",
       "      <td>99159608087191</td>\n",
       "      <td></td>\n",
       "      <td>я нахожу , что прогулка после приёма пищи помо...</td>\n",
       "      <td>кто со мной ?</td>\n",
       "      <td>1</td>\n",
       "      <td>мы !</td>\n",
       "      <td>-0.222396</td>\n",
       "    </tr>\n",
       "    <tr>\n",
       "      <th>3455</th>\n",
       "      <td>99159608087191</td>\n",
       "      <td></td>\n",
       "      <td>я нахожу , что прогулка после приёма пищи помо...</td>\n",
       "      <td>кто со мной ?</td>\n",
       "      <td>4</td>\n",
       "      <td>я !</td>\n",
       "      <td>-0.242453</td>\n",
       "    </tr>\n",
       "    <tr>\n",
       "      <th>3459</th>\n",
       "      <td>99269586001865</td>\n",
       "      <td>вы мне начали рассказывать , рядом с каким мус...</td>\n",
       "      <td>д - да , это сложно объяснить на пальцах .</td>\n",
       "      <td>хорошо , кевин , дело в том что . . . вы арест...</td>\n",
       "      <td>2</td>\n",
       "      <td>я знаю , в чем меня обвиняют , и я один несу о...</td>\n",
       "      <td>0.254739</td>\n",
       "    </tr>\n",
       "    <tr>\n",
       "      <th>3461</th>\n",
       "      <td>99269586001865</td>\n",
       "      <td>вы мне начали рассказывать , рядом с каким мус...</td>\n",
       "      <td>д - да , это сложно объяснить на пальцах .</td>\n",
       "      <td>хорошо , кевин , дело в том что . . . вы арест...</td>\n",
       "      <td>4</td>\n",
       "      <td>разговаривал со мной и другими ребятами в суде...</td>\n",
       "      <td>0.235786</td>\n",
       "    </tr>\n",
       "    <tr>\n",
       "      <th>3462</th>\n",
       "      <td>99269586001865</td>\n",
       "      <td>вы мне начали рассказывать , рядом с каким мус...</td>\n",
       "      <td>д - да , это сложно объяснить на пальцах .</td>\n",
       "      <td>хорошо , кевин , дело в том что . . . вы арест...</td>\n",
       "      <td>5</td>\n",
       "      <td>на прошлой неделе он был зачислен в международ...</td>\n",
       "      <td>0.234368</td>\n",
       "    </tr>\n",
       "    <tr>\n",
       "      <th>3458</th>\n",
       "      <td>99269586001865</td>\n",
       "      <td>вы мне начали рассказывать , рядом с каким мус...</td>\n",
       "      <td>д - да , это сложно объяснить на пальцах .</td>\n",
       "      <td>хорошо , кевин , дело в том что . . . вы арест...</td>\n",
       "      <td>1</td>\n",
       "      <td>однако свидетель обязан говорить правду .</td>\n",
       "      <td>0.174217</td>\n",
       "    </tr>\n",
       "    <tr>\n",
       "      <th>3457</th>\n",
       "      <td>99269586001865</td>\n",
       "      <td>вы мне начали рассказывать , рядом с каким мус...</td>\n",
       "      <td>д - да , это сложно объяснить на пальцах .</td>\n",
       "      <td>хорошо , кевин , дело в том что . . . вы арест...</td>\n",
       "      <td>0</td>\n",
       "      <td>я признаю , что доказательств против этих свид...</td>\n",
       "      <td>0.100274</td>\n",
       "    </tr>\n",
       "    <tr>\n",
       "      <th>3460</th>\n",
       "      <td>99269586001865</td>\n",
       "      <td>вы мне начали рассказывать , рядом с каким мус...</td>\n",
       "      <td>д - да , это сложно объяснить на пальцах .</td>\n",
       "      <td>хорошо , кевин , дело в том что . . . вы арест...</td>\n",
       "      <td>3</td>\n",
       "      <td>мы предоставили суду залог .</td>\n",
       "      <td>0.014412</td>\n",
       "    </tr>\n",
       "    <tr>\n",
       "      <th>3463</th>\n",
       "      <td>99555374975567</td>\n",
       "      <td>я и секретарь службы безопасности , обсудили ,...</td>\n",
       "      <td>ћы расскажем просто и пр€мо .</td>\n",
       "      <td>ћы расскажем о самой большой тайне в истории .</td>\n",
       "      <td>0</td>\n",
       "      <td>вы им всё расскажете , потому что вас будут пы...</td>\n",
       "      <td>0.449332</td>\n",
       "    </tr>\n",
       "    <tr>\n",
       "      <th>3465</th>\n",
       "      <td>99555374975567</td>\n",
       "      <td>я и секретарь службы безопасности , обсудили ,...</td>\n",
       "      <td>ћы расскажем просто и пр€мо .</td>\n",
       "      <td>ћы расскажем о самой большой тайне в истории .</td>\n",
       "      <td>2</td>\n",
       "      <td>расследование будет продолжаться до конца .</td>\n",
       "      <td>0.323794</td>\n",
       "    </tr>\n",
       "    <tr>\n",
       "      <th>3464</th>\n",
       "      <td>99555374975567</td>\n",
       "      <td>я и секретарь службы безопасности , обсудили ,...</td>\n",
       "      <td>ћы расскажем просто и пр€мо .</td>\n",
       "      <td>ћы расскажем о самой большой тайне в истории .</td>\n",
       "      <td>1</td>\n",
       "      <td>у отца всегда все засекречено .</td>\n",
       "      <td>0.075516</td>\n",
       "    </tr>\n",
       "    <tr>\n",
       "      <th>3466</th>\n",
       "      <td>99555374975567</td>\n",
       "      <td>я и секретарь службы безопасности , обсудили ,...</td>\n",
       "      <td>ћы расскажем просто и пр€мо .</td>\n",
       "      <td>ћы расскажем о самой большой тайне в истории .</td>\n",
       "      <td>3</td>\n",
       "      <td>ћы расскажем о самой большой тайне в истории .</td>\n",
       "      <td>0.065803</td>\n",
       "    </tr>\n",
       "    <tr>\n",
       "      <th>3468</th>\n",
       "      <td>99555374975567</td>\n",
       "      <td>я и секретарь службы безопасности , обсудили ,...</td>\n",
       "      <td>ћы расскажем просто и пр€мо .</td>\n",
       "      <td>ћы расскажем о самой большой тайне в истории .</td>\n",
       "      <td>5</td>\n",
       "      <td>и вы назначили меня в секретные материалы .</td>\n",
       "      <td>0.032561</td>\n",
       "    </tr>\n",
       "    <tr>\n",
       "      <th>3467</th>\n",
       "      <td>99555374975567</td>\n",
       "      <td>я и секретарь службы безопасности , обсудили ,...</td>\n",
       "      <td>ћы расскажем просто и пр€мо .</td>\n",
       "      <td>ћы расскажем о самой большой тайне в истории .</td>\n",
       "      <td>4</td>\n",
       "      <td>я не источник .</td>\n",
       "      <td>-0.046474</td>\n",
       "    </tr>\n",
       "    <tr>\n",
       "      <th>3473</th>\n",
       "      <td>99556658565013</td>\n",
       "      <td></td>\n",
       "      <td>да , хороший выбор .</td>\n",
       "      <td>что ?</td>\n",
       "      <td>4</td>\n",
       "      <td>ничего , забудь .</td>\n",
       "      <td>0.061452</td>\n",
       "    </tr>\n",
       "    <tr>\n",
       "      <th>3472</th>\n",
       "      <td>99556658565013</td>\n",
       "      <td></td>\n",
       "      <td>да , хороший выбор .</td>\n",
       "      <td>что ?</td>\n",
       "      <td>3</td>\n",
       "      <td>нет , ничего .</td>\n",
       "      <td>0.060133</td>\n",
       "    </tr>\n",
       "    <tr>\n",
       "      <th>3469</th>\n",
       "      <td>99556658565013</td>\n",
       "      <td></td>\n",
       "      <td>да , хороший выбор .</td>\n",
       "      <td>что ?</td>\n",
       "      <td>0</td>\n",
       "      <td>твоя фотография .</td>\n",
       "      <td>-0.133864</td>\n",
       "    </tr>\n",
       "    <tr>\n",
       "      <th>3474</th>\n",
       "      <td>99556658565013</td>\n",
       "      <td></td>\n",
       "      <td>да , хороший выбор .</td>\n",
       "      <td>что ?</td>\n",
       "      <td>5</td>\n",
       "      <td>ничего .</td>\n",
       "      <td>-0.136778</td>\n",
       "    </tr>\n",
       "    <tr>\n",
       "      <th>3471</th>\n",
       "      <td>99556658565013</td>\n",
       "      <td></td>\n",
       "      <td>да , хороший выбор .</td>\n",
       "      <td>что ?</td>\n",
       "      <td>2</td>\n",
       "      <td>твой кулон .</td>\n",
       "      <td>-0.181642</td>\n",
       "    </tr>\n",
       "    <tr>\n",
       "      <th>3470</th>\n",
       "      <td>99556658565013</td>\n",
       "      <td></td>\n",
       "      <td>да , хороший выбор .</td>\n",
       "      <td>что ?</td>\n",
       "      <td>1</td>\n",
       "      <td>это .</td>\n",
       "      <td>-0.199305</td>\n",
       "    </tr>\n",
       "  </tbody>\n",
       "</table>\n",
       "<p>9968 rows × 7 columns</p>\n",
       "</div>"
      ],
      "text/plain": [
       "           context_id                                          context_2  \\\n",
       "3479  100097508986637                                                      \n",
       "3478  100097508986637                                                      \n",
       "3476  100097508986637                                                      \n",
       "3480  100097508986637                                                      \n",
       "3475  100097508986637                                                      \n",
       "3477  100097508986637                                                      \n",
       "3483  100149747456986                                                      \n",
       "3482  100149747456986                                                      \n",
       "3484  100149747456986                                                      \n",
       "3486  100149747456986                                                      \n",
       "3481  100149747456986                                                      \n",
       "3485  100149747456986                                                      \n",
       "3491  100441828256276                                       я чувствую !   \n",
       "3489  100441828256276                                       я чувствую !   \n",
       "3492  100441828256276                                       я чувствую !   \n",
       "3490  100441828256276                                       я чувствую !   \n",
       "3487  100441828256276                                       я чувствую !   \n",
       "3488  100441828256276                                       я чувствую !   \n",
       "3497  100447631007679                                  просто прекрати !   \n",
       "3493  100447631007679                                  просто прекрати !   \n",
       "3498  100447631007679                                  просто прекрати !   \n",
       "3495  100447631007679                                  просто прекрати !   \n",
       "3496  100447631007679                                  просто прекрати !   \n",
       "3494  100447631007679                                  просто прекрати !   \n",
       "3500  100696807089944                                                      \n",
       "3499  100696807089944                                                      \n",
       "3502  100696807089944                                                      \n",
       "3501  100696807089944                                                      \n",
       "3504  100696807089944                                                      \n",
       "3503  100696807089944                                                      \n",
       "...               ...                                                ...   \n",
       "3449   99068729200925                             мой князь зовет меня .   \n",
       "3446   99068729200925                             мой князь зовет меня .   \n",
       "3447   99068729200925                             мой князь зовет меня .   \n",
       "3448   99068729200925                             мой князь зовет меня .   \n",
       "3445   99068729200925                             мой князь зовет меня .   \n",
       "3450   99068729200925                             мой князь зовет меня .   \n",
       "3453   99159608087191                                                      \n",
       "3456   99159608087191                                                      \n",
       "3451   99159608087191                                                      \n",
       "3454   99159608087191                                                      \n",
       "3452   99159608087191                                                      \n",
       "3455   99159608087191                                                      \n",
       "3459   99269586001865  вы мне начали рассказывать , рядом с каким мус...   \n",
       "3461   99269586001865  вы мне начали рассказывать , рядом с каким мус...   \n",
       "3462   99269586001865  вы мне начали рассказывать , рядом с каким мус...   \n",
       "3458   99269586001865  вы мне начали рассказывать , рядом с каким мус...   \n",
       "3457   99269586001865  вы мне начали рассказывать , рядом с каким мус...   \n",
       "3460   99269586001865  вы мне начали рассказывать , рядом с каким мус...   \n",
       "3463   99555374975567  я и секретарь службы безопасности , обсудили ,...   \n",
       "3465   99555374975567  я и секретарь службы безопасности , обсудили ,...   \n",
       "3464   99555374975567  я и секретарь службы безопасности , обсудили ,...   \n",
       "3466   99555374975567  я и секретарь службы безопасности , обсудили ,...   \n",
       "3468   99555374975567  я и секретарь службы безопасности , обсудили ,...   \n",
       "3467   99555374975567  я и секретарь службы безопасности , обсудили ,...   \n",
       "3473   99556658565013                                                      \n",
       "3472   99556658565013                                                      \n",
       "3469   99556658565013                                                      \n",
       "3474   99556658565013                                                      \n",
       "3471   99556658565013                                                      \n",
       "3470   99556658565013                                                      \n",
       "\n",
       "                                              context_1  \\\n",
       "3479                                                      \n",
       "3478                                                      \n",
       "3476                                                      \n",
       "3480                                                      \n",
       "3475                                                      \n",
       "3477                                                      \n",
       "3483                           как вы здесь оказались ?   \n",
       "3482                           как вы здесь оказались ?   \n",
       "3484                           как вы здесь оказались ?   \n",
       "3486                           как вы здесь оказались ?   \n",
       "3481                           как вы здесь оказались ?   \n",
       "3485                           как вы здесь оказались ?   \n",
       "3491                          по этой причине я здесь .   \n",
       "3489                          по этой причине я здесь .   \n",
       "3492                          по этой причине я здесь .   \n",
       "3490                          по этой причине я здесь .   \n",
       "3487                          по этой причине я здесь .   \n",
       "3488                          по этой причине я здесь .   \n",
       "3497                            прекрати спасать меня .   \n",
       "3493                            прекрати спасать меня .   \n",
       "3498                            прекрати спасать меня .   \n",
       "3495                            прекрати спасать меня .   \n",
       "3496                            прекрати спасать меня .   \n",
       "3494                            прекрати спасать меня .   \n",
       "3500                                дайсон любит тебя .   \n",
       "3499                                дайсон любит тебя .   \n",
       "3502                                дайсон любит тебя .   \n",
       "3501                                дайсон любит тебя .   \n",
       "3504                                дайсон любит тебя .   \n",
       "3503                                дайсон любит тебя .   \n",
       "...                                                 ...   \n",
       "3449             он движется через моря к своему дому .   \n",
       "3446             он движется через моря к своему дому .   \n",
       "3447             он движется через моря к своему дому .   \n",
       "3448             он движется через моря к своему дому .   \n",
       "3445             он движется через моря к своему дому .   \n",
       "3450             он движется через моря к своему дому .   \n",
       "3453  я нахожу , что прогулка после приёма пищи помо...   \n",
       "3456  я нахожу , что прогулка после приёма пищи помо...   \n",
       "3451  я нахожу , что прогулка после приёма пищи помо...   \n",
       "3454  я нахожу , что прогулка после приёма пищи помо...   \n",
       "3452  я нахожу , что прогулка после приёма пищи помо...   \n",
       "3455  я нахожу , что прогулка после приёма пищи помо...   \n",
       "3459         д - да , это сложно объяснить на пальцах .   \n",
       "3461         д - да , это сложно объяснить на пальцах .   \n",
       "3462         д - да , это сложно объяснить на пальцах .   \n",
       "3458         д - да , это сложно объяснить на пальцах .   \n",
       "3457         д - да , это сложно объяснить на пальцах .   \n",
       "3460         д - да , это сложно объяснить на пальцах .   \n",
       "3463                      ћы расскажем просто и пр€мо .   \n",
       "3465                      ћы расскажем просто и пр€мо .   \n",
       "3464                      ћы расскажем просто и пр€мо .   \n",
       "3466                      ћы расскажем просто и пр€мо .   \n",
       "3468                      ћы расскажем просто и пр€мо .   \n",
       "3467                      ћы расскажем просто и пр€мо .   \n",
       "3473                               да , хороший выбор .   \n",
       "3472                               да , хороший выбор .   \n",
       "3469                               да , хороший выбор .   \n",
       "3474                               да , хороший выбор .   \n",
       "3471                               да , хороший выбор .   \n",
       "3470                               да , хороший выбор .   \n",
       "\n",
       "                                              context_0 reply_id  \\\n",
       "3479                                        выключай их        4   \n",
       "3478                                        выключай их        3   \n",
       "3476                                        выключай их        1   \n",
       "3480                                        выключай их        5   \n",
       "3475                                        выключай их        0   \n",
       "3477                                        выключай их        2   \n",
       "3483                              не надо меня тянуть !        2   \n",
       "3482                              не надо меня тянуть !        1   \n",
       "3484                              не надо меня тянуть !        3   \n",
       "3486                              не надо меня тянуть !        5   \n",
       "3481                              не надо меня тянуть !        0   \n",
       "3485                              не надо меня тянуть !        4   \n",
       "3491                                мой духовный путь !        4   \n",
       "3489                                мой духовный путь !        2   \n",
       "3492                                мой духовный путь !        5   \n",
       "3490                                мой духовный путь !        3   \n",
       "3487                                мой духовный путь !        0   \n",
       "3488                                мой духовный путь !        1   \n",
       "3497              в чем , черт возьми , твоя проблема ?        4   \n",
       "3493              в чем , черт возьми , твоя проблема ?        0   \n",
       "3498              в чем , черт возьми , твоя проблема ?        5   \n",
       "3495              в чем , черт возьми , твоя проблема ?        2   \n",
       "3496              в чем , черт возьми , твоя проблема ?        3   \n",
       "3494              в чем , черт возьми , твоя проблема ?        1   \n",
       "3500                                              нет .        1   \n",
       "3499                                              нет .        0   \n",
       "3502                                              нет .        3   \n",
       "3501                                              нет .        2   \n",
       "3504                                              нет .        5   \n",
       "3503                                              нет .        4   \n",
       "...                                                 ...      ...   \n",
       "3449                   там он снова обретет свою силу .        4   \n",
       "3446                   там он снова обретет свою силу .        1   \n",
       "3447                   там он снова обретет свою силу .        2   \n",
       "3448                   там он снова обретет свою силу .        3   \n",
       "3445                   там он снова обретет свою силу .        0   \n",
       "3450                   там он снова обретет свою силу .        5   \n",
       "3453                                      кто со мной ?        2   \n",
       "3456                                      кто со мной ?        5   \n",
       "3451                                      кто со мной ?        0   \n",
       "3454                                      кто со мной ?        3   \n",
       "3452                                      кто со мной ?        1   \n",
       "3455                                      кто со мной ?        4   \n",
       "3459  хорошо , кевин , дело в том что . . . вы арест...        2   \n",
       "3461  хорошо , кевин , дело в том что . . . вы арест...        4   \n",
       "3462  хорошо , кевин , дело в том что . . . вы арест...        5   \n",
       "3458  хорошо , кевин , дело в том что . . . вы арест...        1   \n",
       "3457  хорошо , кевин , дело в том что . . . вы арест...        0   \n",
       "3460  хорошо , кевин , дело в том что . . . вы арест...        3   \n",
       "3463     ћы расскажем о самой большой тайне в истории .        0   \n",
       "3465     ћы расскажем о самой большой тайне в истории .        2   \n",
       "3464     ћы расскажем о самой большой тайне в истории .        1   \n",
       "3466     ћы расскажем о самой большой тайне в истории .        3   \n",
       "3468     ћы расскажем о самой большой тайне в истории .        5   \n",
       "3467     ћы расскажем о самой большой тайне в истории .        4   \n",
       "3473                                              что ?        4   \n",
       "3472                                              что ?        3   \n",
       "3469                                              что ?        0   \n",
       "3474                                              что ?        5   \n",
       "3471                                              что ?        2   \n",
       "3470                                              что ?        1   \n",
       "\n",
       "                                                  reply   predict  \n",
       "3479                                    пытаюсь , сэр .  0.345558  \n",
       "3478                                        я пытаюсь !  0.162357  \n",
       "3476              ты не выключишь , тогда € сам выключу -0.021206  \n",
       "3480                                          выключите -0.270745  \n",
       "3475                                    выключить что ? -0.284118  \n",
       "3477                                        выключить ? -0.332019  \n",
       "3483                     я не могу позволить вам уйти .  0.304185  \n",
       "3482                  мне показалось , вы меня зовете .  0.258659  \n",
       "3484                                    мне уже легче .  0.219066  \n",
       "3486                   что \" не надо \" ? не надо меня .  0.054430  \n",
       "3481                                            ладно .  0.047574  \n",
       "3485                                         извините . -0.061571  \n",
       "3491                                   мой повешенный .  0.260258  \n",
       "3489   иным бог шепчет в уши . мне же он кричит в них !  0.243701  \n",
       "3492                                уильям , довольно .  0.146524  \n",
       "3490                                            и мой .  0.120970  \n",
       "3487                                нет никакого бога .  0.068058  \n",
       "3488                                              мой . -0.069289  \n",
       "3497                   ты знаешь , в чем моя проблема ?  0.349712  \n",
       "3493                               у меня нет проблем .  0.313264  \n",
       "3498              ты должен быть дать мне это уладить .  0.296484  \n",
       "3495                              у меня нет проблемы .  0.294143  \n",
       "3496                                      проблем нет .  0.245227  \n",
       "3494                                           в тебе .  0.121033  \n",
       "3500  я знаю ты любишь его , и я знаю , ты скучаешь ...  0.310679  \n",
       "3499                                       почему нет ?  0.186733  \n",
       "3502                                       поверь мне .  0.050611  \n",
       "3501                                           правда .  0.009082  \n",
       "3504                                       а вот и да . -0.057405  \n",
       "3503                                          что нет ? -0.240047  \n",
       "...                                                 ...       ...  \n",
       "3449  он может защитить нас , и я знаю , что марсель...  0.469623  \n",
       "3446    за ним последуют еще трое и тогда он начнется .  0.371769  \n",
       "3447  сперва такая милая , но в следующее мгновение ...  0.338255  \n",
       "3448  но по самой природе вещей он не может не оказа...  0.271109  \n",
       "3445                         но его пистолет был пуст .  0.097722  \n",
       "3450                    бедному сердцу так говорил он .  0.063493  \n",
       "3453                                     да , конечно .  0.384324  \n",
       "3456                              рассчитывай на меня .  0.237858  \n",
       "3451                                            никто . -0.054465  \n",
       "3454                                                  ! -0.138472  \n",
       "3452                                               мы ! -0.222396  \n",
       "3455                                                я ! -0.242453  \n",
       "3459  я знаю , в чем меня обвиняют , и я один несу о...  0.254739  \n",
       "3461  разговаривал со мной и другими ребятами в суде...  0.235786  \n",
       "3462  на прошлой неделе он был зачислен в международ...  0.234368  \n",
       "3458          однако свидетель обязан говорить правду .  0.174217  \n",
       "3457  я признаю , что доказательств против этих свид...  0.100274  \n",
       "3460                       мы предоставили суду залог .  0.014412  \n",
       "3463  вы им всё расскажете , потому что вас будут пы...  0.449332  \n",
       "3465        расследование будет продолжаться до конца .  0.323794  \n",
       "3464                    у отца всегда все засекречено .  0.075516  \n",
       "3466     ћы расскажем о самой большой тайне в истории .  0.065803  \n",
       "3468        и вы назначили меня в секретные материалы .  0.032561  \n",
       "3467                                    я не источник . -0.046474  \n",
       "3473                                  ничего , забудь .  0.061452  \n",
       "3472                                     нет , ничего .  0.060133  \n",
       "3469                                  твоя фотография . -0.133864  \n",
       "3474                                           ничего . -0.136778  \n",
       "3471                                       твой кулон . -0.181642  \n",
       "3470                                              это . -0.199305  \n",
       "\n",
       "[9968 rows x 7 columns]"
      ]
     },
     "execution_count": 82,
     "metadata": {},
     "output_type": "execute_result"
    }
   ],
   "source": [
    "fit_tfidf(analyzer=\"char\", ngram_range=(3, 4))\n",
    "do_submit(\"linear_cv_opsion.tsv\", Ridge(alpha=20.0), to_features_tfidf, trg_label_confidence)"
   ]
  },
  {
   "cell_type": "code",
   "execution_count": null,
   "metadata": {
    "collapsed": true
   },
   "outputs": [],
   "source": []
  }
 ],
 "metadata": {
  "kernelspec": {
   "display_name": "Python 3",
   "language": "python",
   "name": "python3"
  },
  "language_info": {
   "codemirror_mode": {
    "name": "ipython",
    "version": 3
   },
   "file_extension": ".py",
   "mimetype": "text/x-python",
   "name": "python",
   "nbconvert_exporter": "python",
   "pygments_lexer": "ipython3",
   "version": "3.6.3"
  }
 },
 "nbformat": 4,
 "nbformat_minor": 2
}
