{
 "cells": [
  {
   "cell_type": "code",
   "execution_count": 1,
   "metadata": {
    "collapsed": true
   },
   "outputs": [],
   "source": [
    "from zipfile import ZipFile\n",
    "import pandas as pd\n",
    "import numpy as np"
   ]
  },
  {
   "cell_type": "markdown",
   "metadata": {},
   "source": [
    "# Загрузка данных"
   ]
  },
  {
   "cell_type": "code",
   "execution_count": 2,
   "metadata": {
    "collapsed": true
   },
   "outputs": [],
   "source": [
    "def gen_parcer(f):\n",
    "    for line in f.readlines():\n",
    "        yield line.decode().strip().split(\"\\t\")"
   ]
  },
  {
   "cell_type": "code",
   "execution_count": 3,
   "metadata": {},
   "outputs": [],
   "source": [
    "with ZipFile('data2.zip') as datazip:\n",
    "    with datazip.open('train.tsv') as f:\n",
    "        pd_train = pd.DataFrame(gen_parcer(f),\n",
    "                                columns=[\"context_id\", \"context_2\", \"context_1\", \"context_0\", \"reply_id\", \"reply\",\n",
    "                                         \"label\", \"confidence\"])\n",
    "    with datazip.open('final.tsv') as f:\n",
    "         pd_public = pd.DataFrame(gen_parcer(f),\n",
    "                                  columns=[\"context_id\", \"context_2\", \"context_1\", \"context_0\", \"reply_id\", \"reply\"])"
   ]
  },
  {
   "cell_type": "code",
   "execution_count": 4,
   "metadata": {},
   "outputs": [
    {
     "data": {
      "text/html": [
       "<div>\n",
       "<style scoped>\n",
       "    .dataframe tbody tr th:only-of-type {\n",
       "        vertical-align: middle;\n",
       "    }\n",
       "\n",
       "    .dataframe tbody tr th {\n",
       "        vertical-align: top;\n",
       "    }\n",
       "\n",
       "    .dataframe thead th {\n",
       "        text-align: right;\n",
       "    }\n",
       "</style>\n",
       "<table border=\"1\" class=\"dataframe\">\n",
       "  <thead>\n",
       "    <tr style=\"text-align: right;\">\n",
       "      <th></th>\n",
       "      <th>context_id</th>\n",
       "      <th>context_2</th>\n",
       "      <th>context_1</th>\n",
       "      <th>context_0</th>\n",
       "      <th>reply_id</th>\n",
       "      <th>reply</th>\n",
       "      <th>label</th>\n",
       "      <th>confidence</th>\n",
       "    </tr>\n",
       "  </thead>\n",
       "  <tbody>\n",
       "    <tr>\n",
       "      <th>0</th>\n",
       "      <td>22579918886</td>\n",
       "      <td>кликни на меня а потом на надпись \" видео - зв...</td>\n",
       "      <td>о , я тебя вижу .</td>\n",
       "      <td>ладно , повесь трубку .</td>\n",
       "      <td>0</td>\n",
       "      <td>не могу .</td>\n",
       "      <td>good</td>\n",
       "      <td>0.8753516175</td>\n",
       "    </tr>\n",
       "    <tr>\n",
       "      <th>1</th>\n",
       "      <td>22579918886</td>\n",
       "      <td>кликни на меня а потом на надпись \" видео - зв...</td>\n",
       "      <td>о , я тебя вижу .</td>\n",
       "      <td>ладно , повесь трубку .</td>\n",
       "      <td>1</td>\n",
       "      <td>нет , звонить буду я .</td>\n",
       "      <td>neutral</td>\n",
       "      <td>0.9009682113</td>\n",
       "    </tr>\n",
       "    <tr>\n",
       "      <th>2</th>\n",
       "      <td>22579918886</td>\n",
       "      <td>кликни на меня а потом на надпись \" видео - зв...</td>\n",
       "      <td>о , я тебя вижу .</td>\n",
       "      <td>ладно , повесь трубку .</td>\n",
       "      <td>2</td>\n",
       "      <td>слушай , я не мог уйти .</td>\n",
       "      <td>bad</td>\n",
       "      <td>0.8843202145</td>\n",
       "    </tr>\n",
       "    <tr>\n",
       "      <th>3</th>\n",
       "      <td>22579918886</td>\n",
       "      <td>кликни на меня а потом на надпись \" видео - зв...</td>\n",
       "      <td>о , я тебя вижу .</td>\n",
       "      <td>ладно , повесь трубку .</td>\n",
       "      <td>3</td>\n",
       "      <td>я не прекращу звонить .</td>\n",
       "      <td>good</td>\n",
       "      <td>0.9825304673</td>\n",
       "    </tr>\n",
       "    <tr>\n",
       "      <th>4</th>\n",
       "      <td>22579918886</td>\n",
       "      <td>кликни на меня а потом на надпись \" видео - зв...</td>\n",
       "      <td>о , я тебя вижу .</td>\n",
       "      <td>ладно , повесь трубку .</td>\n",
       "      <td>4</td>\n",
       "      <td>я звоню им .</td>\n",
       "      <td>good</td>\n",
       "      <td>0.8380535096</td>\n",
       "    </tr>\n",
       "  </tbody>\n",
       "</table>\n",
       "</div>"
      ],
      "text/plain": [
       "    context_id                                          context_2  \\\n",
       "0  22579918886  кликни на меня а потом на надпись \" видео - зв...   \n",
       "1  22579918886  кликни на меня а потом на надпись \" видео - зв...   \n",
       "2  22579918886  кликни на меня а потом на надпись \" видео - зв...   \n",
       "3  22579918886  кликни на меня а потом на надпись \" видео - зв...   \n",
       "4  22579918886  кликни на меня а потом на надпись \" видео - зв...   \n",
       "\n",
       "           context_1                context_0 reply_id  \\\n",
       "0  о , я тебя вижу .  ладно , повесь трубку .        0   \n",
       "1  о , я тебя вижу .  ладно , повесь трубку .        1   \n",
       "2  о , я тебя вижу .  ладно , повесь трубку .        2   \n",
       "3  о , я тебя вижу .  ладно , повесь трубку .        3   \n",
       "4  о , я тебя вижу .  ладно , повесь трубку .        4   \n",
       "\n",
       "                      reply    label    confidence  \n",
       "0                 не могу .     good  0.8753516175  \n",
       "1    нет , звонить буду я .  neutral  0.9009682113  \n",
       "2  слушай , я не мог уйти .      bad  0.8843202145  \n",
       "3   я не прекращу звонить .     good  0.9825304673  \n",
       "4              я звоню им .     good  0.8380535096  "
      ]
     },
     "execution_count": 4,
     "metadata": {},
     "output_type": "execute_result"
    }
   ],
   "source": [
    "pd_train.head()"
   ]
  },
  {
   "cell_type": "code",
   "execution_count": 5,
   "metadata": {},
   "outputs": [
    {
     "data": {
      "text/html": [
       "<div>\n",
       "<style scoped>\n",
       "    .dataframe tbody tr th:only-of-type {\n",
       "        vertical-align: middle;\n",
       "    }\n",
       "\n",
       "    .dataframe tbody tr th {\n",
       "        vertical-align: top;\n",
       "    }\n",
       "\n",
       "    .dataframe thead th {\n",
       "        text-align: right;\n",
       "    }\n",
       "</style>\n",
       "<table border=\"1\" class=\"dataframe\">\n",
       "  <thead>\n",
       "    <tr style=\"text-align: right;\">\n",
       "      <th></th>\n",
       "      <th>context_id</th>\n",
       "      <th>context_2</th>\n",
       "      <th>context_1</th>\n",
       "      <th>context_0</th>\n",
       "      <th>reply_id</th>\n",
       "      <th>reply</th>\n",
       "    </tr>\n",
       "  </thead>\n",
       "  <tbody>\n",
       "    <tr>\n",
       "      <th>0</th>\n",
       "      <td>4909294510</td>\n",
       "      <td></td>\n",
       "      <td></td>\n",
       "      <td>нет . . . у тебя на лице написано - нет .</td>\n",
       "      <td>0</td>\n",
       "      <td>тогда я попытался с двумя другими женщинами и ...</td>\n",
       "    </tr>\n",
       "    <tr>\n",
       "      <th>1</th>\n",
       "      <td>4909294510</td>\n",
       "      <td></td>\n",
       "      <td></td>\n",
       "      <td>нет . . . у тебя на лице написано - нет .</td>\n",
       "      <td>1</td>\n",
       "      <td>я улыбаюсь потому . . . потому что , описывая ...</td>\n",
       "    </tr>\n",
       "    <tr>\n",
       "      <th>2</th>\n",
       "      <td>4909294510</td>\n",
       "      <td></td>\n",
       "      <td></td>\n",
       "      <td>нет . . . у тебя на лице написано - нет .</td>\n",
       "      <td>2</td>\n",
       "      <td>это , так сказать , соответствует уровню моей ...</td>\n",
       "    </tr>\n",
       "    <tr>\n",
       "      <th>3</th>\n",
       "      <td>4909294510</td>\n",
       "      <td></td>\n",
       "      <td></td>\n",
       "      <td>нет . . . у тебя на лице написано - нет .</td>\n",
       "      <td>3</td>\n",
       "      <td>я врач .</td>\n",
       "    </tr>\n",
       "    <tr>\n",
       "      <th>4</th>\n",
       "      <td>4909294510</td>\n",
       "      <td></td>\n",
       "      <td></td>\n",
       "      <td>нет . . . у тебя на лице написано - нет .</td>\n",
       "      <td>4</td>\n",
       "      <td>не обращайте на меня внимания !</td>\n",
       "    </tr>\n",
       "  </tbody>\n",
       "</table>\n",
       "</div>"
      ],
      "text/plain": [
       "   context_id context_2 context_1                                  context_0  \\\n",
       "0  4909294510                      нет . . . у тебя на лице написано - нет .   \n",
       "1  4909294510                      нет . . . у тебя на лице написано - нет .   \n",
       "2  4909294510                      нет . . . у тебя на лице написано - нет .   \n",
       "3  4909294510                      нет . . . у тебя на лице написано - нет .   \n",
       "4  4909294510                      нет . . . у тебя на лице написано - нет .   \n",
       "\n",
       "  reply_id                                              reply  \n",
       "0        0  тогда я попытался с двумя другими женщинами и ...  \n",
       "1        1  я улыбаюсь потому . . . потому что , описывая ...  \n",
       "2        2  это , так сказать , соответствует уровню моей ...  \n",
       "3        3                                           я врач .  \n",
       "4        4                    не обращайте на меня внимания !  "
      ]
     },
     "execution_count": 5,
     "metadata": {},
     "output_type": "execute_result"
    }
   ],
   "source": [
    "pd_public.head()"
   ]
  },
  {
   "cell_type": "code",
   "execution_count": 6,
   "metadata": {},
   "outputs": [
    {
     "data": {
      "text/plain": [
       "context_id    97533\n",
       "context_2     97533\n",
       "context_1     97533\n",
       "context_0     97533\n",
       "reply_id      97533\n",
       "reply         97533\n",
       "label         97533\n",
       "confidence    97533\n",
       "dtype: int64"
      ]
     },
     "execution_count": 6,
     "metadata": {},
     "output_type": "execute_result"
    }
   ],
   "source": [
    "pd_train.count()"
   ]
  },
  {
   "cell_type": "code",
   "execution_count": 7,
   "metadata": {},
   "outputs": [
    {
     "data": {
      "text/plain": [
       "context_id    104834\n",
       "context_2     104834\n",
       "context_1     104834\n",
       "context_0     104834\n",
       "reply_id      104834\n",
       "reply         104834\n",
       "dtype: int64"
      ]
     },
     "execution_count": 7,
     "metadata": {},
     "output_type": "execute_result"
    }
   ],
   "source": [
    "pd_public.count()"
   ]
  },
  {
   "cell_type": "code",
   "execution_count": 8,
   "metadata": {
    "collapsed": true
   },
   "outputs": [],
   "source": [
    "target_encoder = {'bad': 0, 'good': 2, 'neutral': 1}  \n",
    "pd_train.label = pd_train.label.map(target_encoder)"
   ]
  },
  {
   "cell_type": "code",
   "execution_count": 9,
   "metadata": {
    "collapsed": true
   },
   "outputs": [],
   "source": [
    "pd_data = pd.concat([pd_train, pd_public], axis=0).reset_index(drop=True)\n",
    "pd_data.label.fillna(-1, inplace=True)\n",
    "pd_data.confidence.fillna(0.0, inplace=True)"
   ]
  },
  {
   "cell_type": "markdown",
   "metadata": {},
   "source": [
    "# Что за данные"
   ]
  },
  {
   "cell_type": "code",
   "execution_count": 10,
   "metadata": {},
   "outputs": [
    {
     "data": {
      "text/plain": [
       "((97533, 8), (104834, 6), (202367, 8))"
      ]
     },
     "execution_count": 10,
     "metadata": {},
     "output_type": "execute_result"
    }
   ],
   "source": [
    "pd_train.shape, pd_public.shape, pd_data.shape"
   ]
  },
  {
   "cell_type": "code",
   "execution_count": 11,
   "metadata": {
    "scrolled": false
   },
   "outputs": [
    {
     "data": {
      "text/plain": [
       "label\n",
       "-1.0    0.518039\n",
       " 0.0    0.171817\n",
       " 1.0    0.055612\n",
       " 2.0    0.254533\n",
       "Name: context_id, dtype: float64"
      ]
     },
     "execution_count": 11,
     "metadata": {},
     "output_type": "execute_result"
    }
   ],
   "source": [
    "pd_data.groupby(\"label\")[\"context_id\"].count() / len(pd_data)"
   ]
  },
  {
   "cell_type": "markdown",
   "metadata": {},
   "source": [
    "# Простой бейзлайн"
   ]
  },
  {
   "cell_type": "code",
   "execution_count": 12,
   "metadata": {},
   "outputs": [
    {
     "name": "stderr",
     "output_type": "stream",
     "text": [
      "C:\\ProgramData\\Anaconda3\\lib\\site-packages\\gensim\\utils.py:1197: UserWarning: detected Windows; aliasing chunkize to chunkize_serial\n",
      "  warnings.warn(\"detected Windows; aliasing chunkize to chunkize_serial\")\n"
     ]
    }
   ],
   "source": [
    "import gensim"
   ]
  },
  {
   "cell_type": "code",
   "execution_count": 13,
   "metadata": {
    "collapsed": true
   },
   "outputs": [],
   "source": [
    "import re"
   ]
  },
  {
   "cell_type": "code",
   "execution_count": 14,
   "metadata": {
    "collapsed": true
   },
   "outputs": [],
   "source": [
    "w2v_fpath = \"w2v/tenth.norm-sz500-w7-cb0-it5-min5.w2v\"\n",
    "w2v = gensim.models.KeyedVectors.load_word2vec_format(w2v_fpath, binary=True, unicode_errors='ignore')\n",
    "w2v.init_sims(replace=True)"
   ]
  },
  {
   "cell_type": "code",
   "execution_count": 15,
   "metadata": {},
   "outputs": [
    {
     "name": "stdout",
     "output_type": "stream",
     "text": [
      "позвони 0.844639778137207\n",
      "позвонишь 0.7767298221588135\n",
      "позвоню 0.7671072483062744\n",
      "звонить 0.7096108794212341\n",
      "звоните 0.7036464810371399\n",
      "— звони 0.6965322494506836\n",
      "перезвони 0.6919037103652954\n",
      "– звони 0.675399124622345\n",
      "приезжай 0.674954891204834\n",
      "позванивай 0.6720143556594849\n"
     ]
    }
   ],
   "source": [
    "for word, score in w2v.most_similar(u\"звони\"):\n",
    "    print (word, score)"
   ]
  },
  {
   "cell_type": "code",
   "execution_count": 16,
   "metadata": {},
   "outputs": [
    {
     "data": {
      "text/plain": [
       "2641862"
      ]
     },
     "execution_count": 16,
     "metadata": {},
     "output_type": "execute_result"
    }
   ],
   "source": [
    "len(w2v.vocab)"
   ]
  },
  {
   "cell_type": "code",
   "execution_count": 17,
   "metadata": {
    "collapsed": true
   },
   "outputs": [],
   "source": [
    "s_words = pd_data[[\"context_2\", \"context_1\", \"context_0\", \"reply\"]] \\\n",
    "    .apply(lambda x: \" \".join(x), axis=1)"
   ]
  },
  {
   "cell_type": "code",
   "execution_count": 18,
   "metadata": {
    "collapsed": true
   },
   "outputs": [],
   "source": [
    "def clean_text(x):\n",
    "    x = x.lower()\n",
    "    x = x.replace(\"ё\", \"е\")\n",
    "    return x"
   ]
  },
  {
   "cell_type": "code",
   "execution_count": 19,
   "metadata": {
    "collapsed": true
   },
   "outputs": [],
   "source": [
    "empty_vector = np.zeros(w2v.vector_size)\n",
    "def condext_to_vec(x):\n",
    "    words = re.findall(r\"\\b(\\w+)\\b\", clean_text(x))\n",
    "    vectors = sum([w2v[word] for word in words if word in w2v])\n",
    "    return (empty_vector + vectors).reshape(1, -1)"
   ]
  },
  {
   "cell_type": "code",
   "execution_count": 20,
   "metadata": {
    "collapsed": true
   },
   "outputs": [],
   "source": [
    "def not_in_vec(x):\n",
    "    words = re.findall(r\"\\b([a-zа-я]+)\\b\", clean_text(x))\n",
    "    words = [word for word in words if word not in w2v]\n",
    "    return \" \".join(words)"
   ]
  },
  {
   "cell_type": "code",
   "execution_count": 21,
   "metadata": {
    "collapsed": true
   },
   "outputs": [],
   "source": [
    "s_strange = s_words.apply(not_in_vec)"
   ]
  },
  {
   "cell_type": "code",
   "execution_count": 22,
   "metadata": {},
   "outputs": [
    {
     "data": {
      "text/plain": [
       "2146"
      ]
     },
     "execution_count": 22,
     "metadata": {},
     "output_type": "execute_result"
    }
   ],
   "source": [
    "len(s_strange[~s_strange.eq(\"\")])"
   ]
  },
  {
   "cell_type": "code",
   "execution_count": 23,
   "metadata": {},
   "outputs": [
    {
     "data": {
      "text/plain": [
       "'ќе шучу . \" ты разрешишь мне вернутьс€ в тюрьму ? я начинаю уставать , это так унизительно . когда я возбуждаюсь , я издаю такого рода звуки . раньше ты не лаял .'"
      ]
     },
     "execution_count": 23,
     "metadata": {},
     "output_type": "execute_result"
    }
   ],
   "source": [
    "s_words.loc[2600]"
   ]
  },
  {
   "cell_type": "code",
   "execution_count": 24,
   "metadata": {
    "scrolled": true
   },
   "outputs": [
    {
     "data": {
      "text/plain": [
       "193          вудхалл\n",
       "624           фабрей\n",
       "867            ворус\n",
       "868            ворус\n",
       "869            ворус\n",
       "870            ворус\n",
       "871            ворус\n",
       "872            ворус\n",
       "1109          волмов\n",
       "1110          волмов\n",
       "1111          волмов\n",
       "1112          волмов\n",
       "1113          волмов\n",
       "1114          волмов\n",
       "1952        эрствайл\n",
       "2166           дэнно\n",
       "2346          гендзи\n",
       "2549        оливерио\n",
       "3025         огустин\n",
       "3026         огустин\n",
       "3027         огустин\n",
       "3028         огустин\n",
       "3029         огустин\n",
       "3030         огустин\n",
       "3232          изобэл\n",
       "3301          тоетие\n",
       "3302          тоетие\n",
       "3303          тоетие\n",
       "3304          тоетие\n",
       "3305          тоетие\n",
       "             ...    \n",
       "200210      андреску\n",
       "200211      андреску\n",
       "200212      андреску\n",
       "200297         бичум\n",
       "200298         бичум\n",
       "200299         бичум\n",
       "200300         бичум\n",
       "200301         бичум\n",
       "200302         бичум\n",
       "200938       далеков\n",
       "200959          mама\n",
       "200960          mама\n",
       "200961          mама\n",
       "200962          mама\n",
       "200963          mама\n",
       "200964          mама\n",
       "201283      сморкалы\n",
       "201306          фезу\n",
       "201386        ейприл\n",
       "201521           мнт\n",
       "201522           мнт\n",
       "201523           мнт\n",
       "201524           мнт\n",
       "201525           мнт\n",
       "201526           мнт\n",
       "201618    барксдейла\n",
       "201995         хo хo\n",
       "202147           вьi\n",
       "202277        бэккет\n",
       "202352           тьi\n",
       "Length: 2146, dtype: object"
      ]
     },
     "execution_count": 24,
     "metadata": {},
     "output_type": "execute_result"
    }
   ],
   "source": [
    "s_strange[~s_strange.eq(\"\")]"
   ]
  },
  {
   "cell_type": "markdown",
   "metadata": {},
   "source": [
    "# Сокращаем набор векторов"
   ]
  },
  {
   "cell_type": "code",
   "execution_count": 25,
   "metadata": {
    "collapsed": true
   },
   "outputs": [],
   "source": [
    "from sklearn.feature_extraction.text import CountVectorizer"
   ]
  },
  {
   "cell_type": "code",
   "execution_count": 26,
   "metadata": {
    "collapsed": true
   },
   "outputs": [],
   "source": [
    "cv = CountVectorizer(token_pattern=r\"\\b([[a-zа-я]+|\\s])\\b\")"
   ]
  },
  {
   "cell_type": "code",
   "execution_count": 27,
   "metadata": {
    "collapsed": true
   },
   "outputs": [],
   "source": [
    "s_words = pd_data[[\"context_2\", \"context_1\", \"context_0\", \"reply\"]].apply(lambda x: clean_text(\" \".join(x)), axis=1)"
   ]
  },
  {
   "cell_type": "code",
   "execution_count": 28,
   "metadata": {},
   "outputs": [
    {
     "data": {
      "text/plain": [
       "CountVectorizer(analyzer='word', binary=False, decode_error='strict',\n",
       "        dtype=<class 'numpy.int64'>, encoding='utf-8', input='content',\n",
       "        lowercase=True, max_df=1.0, max_features=None, min_df=1,\n",
       "        ngram_range=(1, 1), preprocessor=None, stop_words=None,\n",
       "        strip_accents=None, token_pattern='\\\\b([[a-zа-я]+|\\\\s])\\\\b',\n",
       "        tokenizer=None, vocabulary=None)"
      ]
     },
     "execution_count": 28,
     "metadata": {},
     "output_type": "execute_result"
    }
   ],
   "source": [
    "cv.fit(s_words)"
   ]
  },
  {
   "cell_type": "code",
   "execution_count": 29,
   "metadata": {
    "collapsed": true
   },
   "outputs": [],
   "source": [
    "w2vs = dict(((word, w2v[word]) for word in cv.vocabulary_ if word in w2v))"
   ]
  },
  {
   "cell_type": "code",
   "execution_count": 30,
   "metadata": {
    "collapsed": true
   },
   "outputs": [],
   "source": [
    "import pickle"
   ]
  },
  {
   "cell_type": "code",
   "execution_count": 31,
   "metadata": {
    "collapsed": true
   },
   "outputs": [],
   "source": [
    "pickle.dump(w2vs, open(\"w2v/w2vs.pickle\", \"wb\"))"
   ]
  },
  {
   "cell_type": "code",
   "execution_count": 32,
   "metadata": {},
   "outputs": [
    {
     "data": {
      "text/plain": [
       "array([ 6.37970492e-03, -1.34650664e-02,  1.99430902e-03, -1.95421930e-02,\n",
       "        3.65548767e-02, -1.36225261e-02, -3.68371084e-02,  3.96759622e-02,\n",
       "       -7.56043047e-02,  6.19350187e-02, -2.03065742e-02,  1.36683707e-03,\n",
       "        1.10376343e-01, -3.52849737e-02, -2.16800608e-02, -6.76287264e-02,\n",
       "       -4.43975702e-02, -5.50352670e-02,  3.85433026e-02, -3.27817188e-03,\n",
       "        1.24752410e-02, -2.73274966e-02,  6.06485084e-02, -3.20205949e-02,\n",
       "        8.68981481e-02,  5.24307191e-02,  6.98179938e-03, -1.43205347e-02,\n",
       "        2.09773593e-02, -2.23325659e-02, -8.83859023e-03, -5.72893173e-02,\n",
       "        4.98229600e-02, -3.86953503e-02,  2.99547222e-02, -1.35326870e-02,\n",
       "       -4.13755737e-02,  6.57960996e-02, -2.18175817e-03,  6.78563863e-03,\n",
       "       -9.45874453e-02, -8.67071003e-02, -5.35133742e-02, -6.05945699e-02,\n",
       "        2.40915082e-02, -3.01319137e-02, -3.93458903e-02,  1.35511886e-02,\n",
       "       -8.22223574e-02, -1.93500277e-02,  5.16408905e-02,  2.68021878e-02,\n",
       "        5.70873693e-02,  1.73739363e-02,  8.85433331e-03,  2.17997469e-03,\n",
       "        3.94672006e-02,  1.04888314e-02, -5.94112687e-02, -8.18796363e-03,\n",
       "        1.20110996e-02, -5.24716079e-02,  1.38051677e-02,  9.06123221e-02,\n",
       "       -4.37638983e-02,  4.97639552e-02,  1.10537730e-01,  6.59127673e-03,\n",
       "        3.97039615e-02, -3.83450575e-02,  7.91769475e-03,  3.27927098e-02,\n",
       "       -8.07670504e-02, -5.07311933e-02,  6.53695986e-02, -5.01002781e-02,\n",
       "        1.77456867e-02, -5.40278219e-02, -4.93602902e-02,  1.72788706e-02,\n",
       "       -2.90434901e-03,  4.99964207e-02,  2.16039200e-03,  1.48500828e-02,\n",
       "        1.86020900e-02,  3.19157876e-02,  7.22171832e-03,  3.11687030e-02,\n",
       "       -2.08324119e-02, -3.06082871e-02,  6.78702816e-02, -3.21939550e-02,\n",
       "       -2.97103003e-02, -7.95603916e-03, -4.77365479e-02,  5.56265563e-03,\n",
       "        3.18339318e-02,  2.33168900e-02,  1.63020380e-02, -3.40752602e-02,\n",
       "       -4.43955287e-02, -3.56622413e-02,  6.03602156e-02, -6.42718608e-03,\n",
       "        7.96694234e-02, -8.69340152e-02, -3.87799703e-02,  5.91255724e-04,\n",
       "        3.53267826e-02,  1.85777396e-02,  6.79696631e-03, -4.81034815e-02,\n",
       "       -5.55545539e-02, -3.40509415e-03, -3.86909246e-02,  7.79629918e-04,\n",
       "       -1.72999520e-02, -2.29742657e-03, -3.63116413e-02, -3.81376147e-02,\n",
       "       -7.20189605e-03, -7.51635758e-03,  2.28242669e-02, -9.67862159e-02,\n",
       "        3.37628126e-02, -2.64134035e-02, -2.43350212e-02,  4.29847166e-02,\n",
       "       -6.79649273e-03,  7.71396270e-04, -1.47431577e-02, -4.98989336e-02,\n",
       "        5.09113483e-02,  3.71847637e-02,  5.96579798e-02,  2.51198951e-02,\n",
       "        2.13730428e-03,  4.40049432e-02, -9.24644934e-04, -5.20192087e-02,\n",
       "       -4.69005220e-02, -5.00465324e-03, -1.00201473e-01, -2.11632177e-02,\n",
       "       -1.32540707e-02,  6.49564192e-02, -6.91301376e-02, -3.97307947e-02,\n",
       "       -3.98911834e-02,  4.61047739e-02,  3.36843506e-02, -8.17745645e-03,\n",
       "        9.30880848e-03, -7.27290809e-02, -5.39293746e-03, -6.98851305e-04,\n",
       "       -9.78596788e-03, -9.57348198e-02,  4.43066383e-04,  8.48849653e-04,\n",
       "        2.65175328e-02, -9.14902315e-02,  1.55659327e-02,  6.95579080e-03,\n",
       "       -1.01926968e-01, -4.70769703e-02,  5.27426193e-04, -3.53428014e-02,\n",
       "       -1.67555790e-02, -3.67383361e-02, -6.89762607e-02, -4.31839675e-02,\n",
       "       -4.74480167e-03,  4.04994702e-03,  2.29709558e-02, -6.06929585e-02,\n",
       "        2.45021004e-02, -8.14903155e-02,  5.99414445e-02,  5.03184982e-02,\n",
       "        1.77371018e-02, -1.58736855e-02, -6.77003115e-02,  5.36470152e-02,\n",
       "        1.98724177e-02, -6.25385940e-02,  5.59037104e-02,  1.08903885e-01,\n",
       "       -1.74650119e-03, -1.76509656e-02, -5.37040830e-03, -2.31632553e-02,\n",
       "        9.90163684e-02, -4.36708257e-02,  1.67910326e-02,  6.14385754e-02,\n",
       "        3.20595253e-04,  2.79214196e-02, -3.21369357e-02,  6.86700735e-03,\n",
       "       -2.42812112e-02, -2.44885515e-02, -5.88715300e-02,  1.39965899e-02,\n",
       "        4.92040487e-03, -4.53575142e-03, -2.76392355e-04, -6.33121207e-02,\n",
       "        2.95101758e-02,  7.54049495e-02,  6.52487949e-02,  3.17652896e-02,\n",
       "        2.18470097e-02,  2.60653291e-02, -4.11407556e-03,  1.50850629e-02,\n",
       "        7.05097103e-04,  1.02292560e-02,  6.55829087e-02, -7.59496633e-03,\n",
       "        5.47413193e-02, -2.85088271e-02, -2.01474875e-02, -1.58941988e-02,\n",
       "       -4.62718047e-02,  1.35656381e-02, -1.04911476e-02, -1.27019966e-02,\n",
       "        3.07883937e-02,  4.25972678e-02,  1.54217193e-02, -9.74706188e-03,\n",
       "       -4.37291563e-02, -5.77692352e-02, -8.83699767e-03,  3.89745161e-02,\n",
       "       -4.62084357e-03,  2.38919333e-02, -1.12964049e-01,  4.13310640e-02,\n",
       "        5.09750545e-02, -4.02926728e-02, -1.53783076e-02, -6.60229176e-02,\n",
       "       -2.66931374e-02,  3.20014097e-02, -5.76453730e-02,  2.95194667e-02,\n",
       "       -4.42929193e-02, -2.57734656e-02,  5.03215455e-02, -3.69952694e-02,\n",
       "       -1.25730373e-02,  8.83966684e-02,  4.24326807e-02,  6.31818036e-03,\n",
       "        2.12567262e-02, -8.04635976e-03,  6.28468990e-02, -2.71431524e-02,\n",
       "       -7.62630105e-02, -9.70754656e-04,  7.49664977e-02,  1.84963066e-02,\n",
       "       -2.17388310e-02, -1.27050309e-02, -7.69199133e-02,  4.74551506e-02,\n",
       "        3.51814590e-02,  1.23426682e-04,  5.70266061e-02,  2.53851200e-03,\n",
       "       -8.16930383e-02, -1.43115982e-01,  5.42268902e-02, -1.03075160e-02,\n",
       "       -7.08099734e-03, -1.21963946e-02, -3.95721197e-02, -4.61260825e-02,\n",
       "        5.42121055e-03, -2.65769046e-02,  8.42993185e-02,  3.89901772e-02,\n",
       "       -6.76263720e-02,  3.08937337e-02,  6.87502138e-03,  1.43945857e-03,\n",
       "       -5.85489497e-02,  7.23146200e-02, -1.75450172e-03,  2.89866049e-02,\n",
       "       -5.39287739e-02, -1.33820809e-02,  8.91180634e-02,  1.48909679e-02,\n",
       "       -5.77254780e-03,  2.61291005e-02,  7.75704160e-04,  3.36163938e-02,\n",
       "        6.17313245e-03,  2.29113027e-02, -4.57569323e-02,  4.50599333e-03,\n",
       "        2.18654377e-03, -1.83312874e-02, -3.06522362e-02,  7.55627006e-02,\n",
       "       -1.50433779e-02, -4.77889255e-02, -5.48050320e-03, -9.38970037e-03,\n",
       "       -5.79789877e-02,  5.33992015e-02,  1.02695981e-02, -6.30804822e-02,\n",
       "       -6.55419230e-02, -5.50130345e-02,  3.26206237e-02, -3.51401828e-02,\n",
       "        3.21691968e-02,  2.97537837e-02,  3.61076333e-02, -4.83023748e-03,\n",
       "        2.03590672e-02,  8.33277628e-02, -2.52121110e-02, -7.51654617e-03,\n",
       "        2.97353379e-02,  1.18476460e-02, -4.48752828e-02, -2.69882306e-02,\n",
       "       -1.28277601e-03, -2.48608291e-02,  1.69480126e-02,  1.19363889e-02,\n",
       "        5.08495048e-03,  6.24009967e-02,  6.22360595e-02, -1.06738888e-01,\n",
       "       -1.90936420e-02, -4.98571107e-03, -6.22953512e-02,  4.05212268e-02,\n",
       "        9.93539542e-02,  7.99473524e-02,  2.28700582e-02,  3.31433043e-02,\n",
       "        6.12186454e-02,  9.25007090e-03,  5.50773144e-02,  5.47233149e-02,\n",
       "       -1.18614472e-02,  3.54957357e-02,  1.55308526e-02,  7.41359266e-03,\n",
       "        2.95164417e-02,  6.04383759e-02,  2.03705188e-02, -4.55375295e-04,\n",
       "        3.68639007e-02,  5.87827573e-03,  4.33621705e-02,  5.70572689e-02,\n",
       "       -5.12599014e-03, -3.31721045e-02, -8.27773958e-02, -2.15628613e-02,\n",
       "        3.03171831e-03, -4.59433161e-02,  2.00597588e-02, -1.02012232e-02,\n",
       "        6.48132712e-02,  6.94291294e-02, -1.42635116e-02, -1.04778253e-01,\n",
       "        5.40120192e-02, -4.94473875e-02,  1.13144834e-02,  4.78767939e-02,\n",
       "       -1.34704515e-01, -2.52618510e-02, -6.96710870e-03,  2.83811912e-02,\n",
       "       -1.10182608e-03, -5.15281260e-02, -2.99239159e-02,  5.74269965e-02,\n",
       "        3.29969265e-02, -8.08648393e-03,  7.94178247e-02, -5.80748022e-02,\n",
       "        3.41400802e-02, -1.99624337e-03, -6.90268353e-02, -5.64390309e-02,\n",
       "       -2.40409356e-02, -2.68588942e-02,  4.63531017e-02, -5.88692501e-02,\n",
       "       -1.08599938e-01, -2.25061877e-03,  8.57349206e-03, -1.37010356e-02,\n",
       "       -3.87656549e-03, -1.58875249e-02,  5.20671997e-03, -5.89618348e-02,\n",
       "        4.81386343e-03, -1.52280685e-02,  2.34580897e-02, -1.40724387e-02,\n",
       "       -1.87702645e-02, -3.63013744e-02, -1.49644520e-02, -4.39089313e-02,\n",
       "       -1.75478291e-02,  1.84785724e-02,  7.26650935e-03, -4.91552539e-02,\n",
       "       -6.88103288e-02,  5.13186641e-02,  5.98690994e-02, -8.04898813e-02,\n",
       "       -7.21306948e-04, -7.20480755e-02, -1.12164319e-01, -9.18843821e-02,\n",
       "        2.27941461e-02, -7.04248473e-02,  2.25252677e-02,  1.42511949e-02,\n",
       "        8.92813969e-03, -1.27457678e-02,  1.22466160e-03,  9.58248600e-02,\n",
       "        2.26811711e-02, -1.55551347e-03,  8.82460922e-03, -3.86252515e-02,\n",
       "       -1.61296129e-02, -6.75209016e-02,  1.17637124e-02, -1.20307747e-02,\n",
       "       -6.60899356e-02, -6.11515529e-02,  8.82853381e-03, -1.09655494e-02,\n",
       "        8.72762799e-02, -3.07970159e-02, -6.64779395e-02,  8.25998336e-02,\n",
       "       -5.70973605e-02, -3.24132368e-02,  1.71749052e-02,  5.51824532e-02,\n",
       "        3.11861727e-02,  5.17633837e-03,  1.79786291e-02,  3.81707288e-02,\n",
       "        6.16933256e-02,  7.18998089e-02, -2.09297836e-02, -6.14467822e-02,\n",
       "       -9.48584229e-02,  3.09715327e-02,  3.92491892e-02, -2.06171405e-02,\n",
       "        2.83273738e-02,  2.81816684e-02, -4.14243946e-03,  7.42319226e-02,\n",
       "       -1.78193251e-04, -5.41364029e-02, -5.37540438e-03,  1.05961720e-02,\n",
       "        6.61811903e-02, -4.14324030e-02, -3.13327461e-02,  2.79624611e-02,\n",
       "        1.46277770e-02, -3.45190354e-02,  3.95435542e-02, -2.08061263e-02,\n",
       "       -3.77613641e-02,  3.30263004e-02, -4.85527143e-02,  3.45462840e-03,\n",
       "       -1.91671923e-02,  5.66136502e-02, -5.79904318e-02, -1.12311676e-01,\n",
       "       -5.50207980e-02,  1.87376235e-02,  3.15861404e-03, -1.99885704e-02,\n",
       "        5.26379533e-02, -5.31850234e-02,  1.02428580e-03, -3.22377309e-02],\n",
       "      dtype=float32)"
      ]
     },
     "execution_count": 32,
     "metadata": {},
     "output_type": "execute_result"
    }
   ],
   "source": [
    "w2vs[\"привет\"]"
   ]
  },
  {
   "cell_type": "code",
   "execution_count": null,
   "metadata": {
    "collapsed": true
   },
   "outputs": [],
   "source": []
  }
 ],
 "metadata": {
  "kernelspec": {
   "display_name": "Python 3",
   "language": "python",
   "name": "python3"
  },
  "language_info": {
   "codemirror_mode": {
    "name": "ipython",
    "version": 3
   },
   "file_extension": ".py",
   "mimetype": "text/x-python",
   "name": "python",
   "nbconvert_exporter": "python",
   "pygments_lexer": "ipython3",
   "version": "3.6.3"
  }
 },
 "nbformat": 4,
 "nbformat_minor": 2
}
