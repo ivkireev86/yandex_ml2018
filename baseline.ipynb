{
 "cells": [
  {
   "cell_type": "code",
   "execution_count": 1,
   "metadata": {
    "collapsed": true
   },
   "outputs": [],
   "source": [
    "from zipfile import ZipFile\n",
    "import pandas as pd\n",
    "import numpy as np"
   ]
  },
  {
   "cell_type": "markdown",
   "metadata": {},
   "source": [
    "# Загрузка данных"
   ]
  },
  {
   "cell_type": "code",
   "execution_count": 2,
   "metadata": {
    "collapsed": true
   },
   "outputs": [],
   "source": [
    "def gen_parcer(f):\n",
    "    for line in f.readlines():\n",
    "        yield line.decode().strip().split(\"\\t\")"
   ]
  },
  {
   "cell_type": "code",
   "execution_count": 8,
   "metadata": {
    "collapsed": true
   },
   "outputs": [],
   "source": [
    "with ZipFile('data2.zip') as datazip:\n",
    "    with datazip.open('train.tsv') as f:\n",
    "        pd_train = pd.DataFrame(gen_parcer(f),\n",
    "                                columns=[\"context_id\", \"context_2\", \"context_1\", \"context_0\", \"reply_id\", \"reply\",\n",
    "                                         \"label\", \"confidence\"])\n",
    "    with datazip.open('final.tsv') as f:\n",
    "         pd_public = pd.DataFrame(gen_parcer(f),\n",
    "                                  columns=[\"context_id\", \"context_2\", \"context_1\", \"context_0\", \"reply_id\", \"reply\"])"
   ]
  },
  {
   "cell_type": "code",
   "execution_count": 9,
   "metadata": {},
   "outputs": [
    {
     "data": {
      "text/html": [
       "<div>\n",
       "<style scoped>\n",
       "    .dataframe tbody tr th:only-of-type {\n",
       "        vertical-align: middle;\n",
       "    }\n",
       "\n",
       "    .dataframe tbody tr th {\n",
       "        vertical-align: top;\n",
       "    }\n",
       "\n",
       "    .dataframe thead th {\n",
       "        text-align: right;\n",
       "    }\n",
       "</style>\n",
       "<table border=\"1\" class=\"dataframe\">\n",
       "  <thead>\n",
       "    <tr style=\"text-align: right;\">\n",
       "      <th></th>\n",
       "      <th>context_id</th>\n",
       "      <th>context_2</th>\n",
       "      <th>context_1</th>\n",
       "      <th>context_0</th>\n",
       "      <th>reply_id</th>\n",
       "      <th>reply</th>\n",
       "      <th>label</th>\n",
       "      <th>confidence</th>\n",
       "    </tr>\n",
       "  </thead>\n",
       "  <tbody>\n",
       "    <tr>\n",
       "      <th>0</th>\n",
       "      <td>22579918886</td>\n",
       "      <td>кликни на меня а потом на надпись \" видео - зв...</td>\n",
       "      <td>о , я тебя вижу .</td>\n",
       "      <td>ладно , повесь трубку .</td>\n",
       "      <td>0</td>\n",
       "      <td>не могу .</td>\n",
       "      <td>good</td>\n",
       "      <td>0.8753516175</td>\n",
       "    </tr>\n",
       "    <tr>\n",
       "      <th>1</th>\n",
       "      <td>22579918886</td>\n",
       "      <td>кликни на меня а потом на надпись \" видео - зв...</td>\n",
       "      <td>о , я тебя вижу .</td>\n",
       "      <td>ладно , повесь трубку .</td>\n",
       "      <td>1</td>\n",
       "      <td>нет , звонить буду я .</td>\n",
       "      <td>neutral</td>\n",
       "      <td>0.9009682113</td>\n",
       "    </tr>\n",
       "    <tr>\n",
       "      <th>2</th>\n",
       "      <td>22579918886</td>\n",
       "      <td>кликни на меня а потом на надпись \" видео - зв...</td>\n",
       "      <td>о , я тебя вижу .</td>\n",
       "      <td>ладно , повесь трубку .</td>\n",
       "      <td>2</td>\n",
       "      <td>слушай , я не мог уйти .</td>\n",
       "      <td>bad</td>\n",
       "      <td>0.8843202145</td>\n",
       "    </tr>\n",
       "    <tr>\n",
       "      <th>3</th>\n",
       "      <td>22579918886</td>\n",
       "      <td>кликни на меня а потом на надпись \" видео - зв...</td>\n",
       "      <td>о , я тебя вижу .</td>\n",
       "      <td>ладно , повесь трубку .</td>\n",
       "      <td>3</td>\n",
       "      <td>я не прекращу звонить .</td>\n",
       "      <td>good</td>\n",
       "      <td>0.9825304673</td>\n",
       "    </tr>\n",
       "    <tr>\n",
       "      <th>4</th>\n",
       "      <td>22579918886</td>\n",
       "      <td>кликни на меня а потом на надпись \" видео - зв...</td>\n",
       "      <td>о , я тебя вижу .</td>\n",
       "      <td>ладно , повесь трубку .</td>\n",
       "      <td>4</td>\n",
       "      <td>я звоню им .</td>\n",
       "      <td>good</td>\n",
       "      <td>0.8380535096</td>\n",
       "    </tr>\n",
       "  </tbody>\n",
       "</table>\n",
       "</div>"
      ],
      "text/plain": [
       "    context_id                                          context_2  \\\n",
       "0  22579918886  кликни на меня а потом на надпись \" видео - зв...   \n",
       "1  22579918886  кликни на меня а потом на надпись \" видео - зв...   \n",
       "2  22579918886  кликни на меня а потом на надпись \" видео - зв...   \n",
       "3  22579918886  кликни на меня а потом на надпись \" видео - зв...   \n",
       "4  22579918886  кликни на меня а потом на надпись \" видео - зв...   \n",
       "\n",
       "           context_1                context_0 reply_id  \\\n",
       "0  о , я тебя вижу .  ладно , повесь трубку .        0   \n",
       "1  о , я тебя вижу .  ладно , повесь трубку .        1   \n",
       "2  о , я тебя вижу .  ладно , повесь трубку .        2   \n",
       "3  о , я тебя вижу .  ладно , повесь трубку .        3   \n",
       "4  о , я тебя вижу .  ладно , повесь трубку .        4   \n",
       "\n",
       "                      reply    label    confidence  \n",
       "0                 не могу .     good  0.8753516175  \n",
       "1    нет , звонить буду я .  neutral  0.9009682113  \n",
       "2  слушай , я не мог уйти .      bad  0.8843202145  \n",
       "3   я не прекращу звонить .     good  0.9825304673  \n",
       "4              я звоню им .     good  0.8380535096  "
      ]
     },
     "execution_count": 9,
     "metadata": {},
     "output_type": "execute_result"
    }
   ],
   "source": [
    "pd_train.head()"
   ]
  },
  {
   "cell_type": "code",
   "execution_count": 10,
   "metadata": {},
   "outputs": [
    {
     "data": {
      "text/html": [
       "<div>\n",
       "<style scoped>\n",
       "    .dataframe tbody tr th:only-of-type {\n",
       "        vertical-align: middle;\n",
       "    }\n",
       "\n",
       "    .dataframe tbody tr th {\n",
       "        vertical-align: top;\n",
       "    }\n",
       "\n",
       "    .dataframe thead th {\n",
       "        text-align: right;\n",
       "    }\n",
       "</style>\n",
       "<table border=\"1\" class=\"dataframe\">\n",
       "  <thead>\n",
       "    <tr style=\"text-align: right;\">\n",
       "      <th></th>\n",
       "      <th>context_id</th>\n",
       "      <th>context_2</th>\n",
       "      <th>context_1</th>\n",
       "      <th>context_0</th>\n",
       "      <th>reply_id</th>\n",
       "      <th>reply</th>\n",
       "    </tr>\n",
       "  </thead>\n",
       "  <tbody>\n",
       "    <tr>\n",
       "      <th>0</th>\n",
       "      <td>4909294510</td>\n",
       "      <td></td>\n",
       "      <td></td>\n",
       "      <td>нет . . . у тебя на лице написано - нет .</td>\n",
       "      <td>0</td>\n",
       "      <td>тогда я попытался с двумя другими женщинами и ...</td>\n",
       "    </tr>\n",
       "    <tr>\n",
       "      <th>1</th>\n",
       "      <td>4909294510</td>\n",
       "      <td></td>\n",
       "      <td></td>\n",
       "      <td>нет . . . у тебя на лице написано - нет .</td>\n",
       "      <td>1</td>\n",
       "      <td>я улыбаюсь потому . . . потому что , описывая ...</td>\n",
       "    </tr>\n",
       "    <tr>\n",
       "      <th>2</th>\n",
       "      <td>4909294510</td>\n",
       "      <td></td>\n",
       "      <td></td>\n",
       "      <td>нет . . . у тебя на лице написано - нет .</td>\n",
       "      <td>2</td>\n",
       "      <td>это , так сказать , соответствует уровню моей ...</td>\n",
       "    </tr>\n",
       "    <tr>\n",
       "      <th>3</th>\n",
       "      <td>4909294510</td>\n",
       "      <td></td>\n",
       "      <td></td>\n",
       "      <td>нет . . . у тебя на лице написано - нет .</td>\n",
       "      <td>3</td>\n",
       "      <td>я врач .</td>\n",
       "    </tr>\n",
       "    <tr>\n",
       "      <th>4</th>\n",
       "      <td>4909294510</td>\n",
       "      <td></td>\n",
       "      <td></td>\n",
       "      <td>нет . . . у тебя на лице написано - нет .</td>\n",
       "      <td>4</td>\n",
       "      <td>не обращайте на меня внимания !</td>\n",
       "    </tr>\n",
       "  </tbody>\n",
       "</table>\n",
       "</div>"
      ],
      "text/plain": [
       "   context_id context_2 context_1                                  context_0  \\\n",
       "0  4909294510                      нет . . . у тебя на лице написано - нет .   \n",
       "1  4909294510                      нет . . . у тебя на лице написано - нет .   \n",
       "2  4909294510                      нет . . . у тебя на лице написано - нет .   \n",
       "3  4909294510                      нет . . . у тебя на лице написано - нет .   \n",
       "4  4909294510                      нет . . . у тебя на лице написано - нет .   \n",
       "\n",
       "  reply_id                                              reply  \n",
       "0        0  тогда я попытался с двумя другими женщинами и ...  \n",
       "1        1  я улыбаюсь потому . . . потому что , описывая ...  \n",
       "2        2  это , так сказать , соответствует уровню моей ...  \n",
       "3        3                                           я врач .  \n",
       "4        4                    не обращайте на меня внимания !  "
      ]
     },
     "execution_count": 10,
     "metadata": {},
     "output_type": "execute_result"
    }
   ],
   "source": [
    "pd_public.head()"
   ]
  },
  {
   "cell_type": "code",
   "execution_count": 11,
   "metadata": {},
   "outputs": [
    {
     "data": {
      "text/plain": [
       "context_id    97533\n",
       "context_2     97533\n",
       "context_1     97533\n",
       "context_0     97533\n",
       "reply_id      97533\n",
       "reply         97533\n",
       "label         97533\n",
       "confidence    97533\n",
       "dtype: int64"
      ]
     },
     "execution_count": 11,
     "metadata": {},
     "output_type": "execute_result"
    }
   ],
   "source": [
    "pd_train.count()"
   ]
  },
  {
   "cell_type": "code",
   "execution_count": 12,
   "metadata": {},
   "outputs": [
    {
     "data": {
      "text/plain": [
       "context_id    104834\n",
       "context_2     104834\n",
       "context_1     104834\n",
       "context_0     104834\n",
       "reply_id      104834\n",
       "reply         104834\n",
       "dtype: int64"
      ]
     },
     "execution_count": 12,
     "metadata": {},
     "output_type": "execute_result"
    }
   ],
   "source": [
    "pd_public.count()"
   ]
  },
  {
   "cell_type": "code",
   "execution_count": 8,
   "metadata": {
    "collapsed": true
   },
   "outputs": [],
   "source": [
    "target_encoder = {'bad': 0, 'good': 2, 'neutral': 1}  \n",
    "pd_train.label = pd_train.label.map(target_encoder)"
   ]
  },
  {
   "cell_type": "code",
   "execution_count": 9,
   "metadata": {
    "collapsed": true
   },
   "outputs": [],
   "source": [
    "pd_data = pd.concat([pd_train, pd_public], axis=0).reset_index(drop=True)\n",
    "pd_data.label.fillna(-1, inplace=True)\n",
    "pd_data.confidence.fillna(0.0, inplace=True)"
   ]
  },
  {
   "cell_type": "markdown",
   "metadata": {},
   "source": [
    "# Что за данные"
   ]
  },
  {
   "cell_type": "code",
   "execution_count": 10,
   "metadata": {},
   "outputs": [
    {
     "data": {
      "text/plain": [
       "((97533, 8), (9968, 6), (107501, 8))"
      ]
     },
     "execution_count": 10,
     "metadata": {},
     "output_type": "execute_result"
    }
   ],
   "source": [
    "pd_train.shape, pd_public.shape, pd_data.shape"
   ]
  },
  {
   "cell_type": "code",
   "execution_count": 11,
   "metadata": {
    "scrolled": false
   },
   "outputs": [
    {
     "data": {
      "text/plain": [
       "label\n",
       "-1.0    0.092725\n",
       " 0.0    0.323439\n",
       " 1.0    0.104687\n",
       " 2.0    0.479149\n",
       "Name: context_id, dtype: float64"
      ]
     },
     "execution_count": 11,
     "metadata": {},
     "output_type": "execute_result"
    }
   ],
   "source": [
    "pd_data.groupby(\"label\")[\"context_id\"].count() / len(pd_data)"
   ]
  },
  {
   "cell_type": "markdown",
   "metadata": {},
   "source": [
    "# Простой бейзлайн"
   ]
  },
  {
   "cell_type": "markdown",
   "metadata": {},
   "source": [
    "## features"
   ]
  },
  {
   "cell_type": "code",
   "execution_count": 12,
   "metadata": {
    "collapsed": true
   },
   "outputs": [],
   "source": [
    "from scipy import sparse"
   ]
  },
  {
   "cell_type": "code",
   "execution_count": 13,
   "metadata": {
    "collapsed": true
   },
   "outputs": [],
   "source": [
    "from sklearn.feature_extraction.text import CountVectorizer"
   ]
  },
  {
   "cell_type": "code",
   "execution_count": 14,
   "metadata": {},
   "outputs": [
    {
     "data": {
      "text/plain": [
       "CountVectorizer(analyzer='word', binary=False, decode_error='strict',\n",
       "        dtype=<class 'numpy.int64'>, encoding='utf-8', input='content',\n",
       "        lowercase=True, max_df=1.0, max_features=None, min_df=1,\n",
       "        ngram_range=(1, 1), preprocessor=None, stop_words=None,\n",
       "        strip_accents=None, token_pattern='(?u)\\\\b\\\\w\\\\w+\\\\b',\n",
       "        tokenizer=None, vocabulary=None)"
      ]
     },
     "execution_count": 14,
     "metadata": {},
     "output_type": "execute_result"
    }
   ],
   "source": [
    "cv_all = CountVectorizer()\n",
    "s_words = pd_data[[\"context_2\", \"context_1\", \"context_0\", \"reply\"]].apply(lambda x: \" \".join(x), axis=1)\n",
    "cv_all.fit(s_words)"
   ]
  },
  {
   "cell_type": "code",
   "execution_count": 35,
   "metadata": {
    "collapsed": true
   },
   "outputs": [],
   "source": [
    "def to_features(df):\n",
    "    context = cv_all.transform(df[[\"context_2\", \"context_1\", \"context_0\"]].apply(lambda x: \" \".join(x), axis=1))\n",
    "    reply = cv_all.transform(df[\"reply\"])\n",
    "    features = sparse.hstack([context, reply])\n",
    "    return features"
   ]
  },
  {
   "cell_type": "markdown",
   "metadata": {},
   "source": [
    "## crossval"
   ]
  },
  {
   "cell_type": "code",
   "execution_count": 16,
   "metadata": {
    "collapsed": true
   },
   "outputs": [],
   "source": [
    "from tqdm import tqdm_notebook"
   ]
  },
  {
   "cell_type": "code",
   "execution_count": 17,
   "metadata": {
    "collapsed": true
   },
   "outputs": [],
   "source": [
    "from sklearn.model_selection import StratifiedKFold"
   ]
  },
  {
   "cell_type": "code",
   "execution_count": 18,
   "metadata": {
    "collapsed": true
   },
   "outputs": [],
   "source": [
    "skf = StratifiedKFold(n_splits=3)"
   ]
  },
  {
   "cell_type": "code",
   "execution_count": 19,
   "metadata": {
    "collapsed": true
   },
   "outputs": [],
   "source": [
    "from sklearn.linear_model import LinearRegression"
   ]
  },
  {
   "cell_type": "code",
   "execution_count": 32,
   "metadata": {
    "collapsed": true
   },
   "outputs": [],
   "source": [
    "class RandomMinMaxRegressor(object):\n",
    "    def __init__(self):\n",
    "        self.min_y = None\n",
    "        self.max_y = None\n",
    "    \n",
    "    def fit(self, x, y):\n",
    "        self.min_y = y.min()\n",
    "        self.max_y = y.max()\n",
    "    \n",
    "    def predict(self, x):\n",
    "        return np.random.random(x.shape[0]) * (self.max_y - self.min_y) + self.min_y        "
   ]
  },
  {
   "cell_type": "code",
   "execution_count": null,
   "metadata": {
    "collapsed": true
   },
   "outputs": [],
   "source": [
    "model_reg = LinearRegression()"
   ]
  },
  {
   "cell_type": "code",
   "execution_count": 33,
   "metadata": {
    "collapsed": true
   },
   "outputs": [],
   "source": [
    "model_reg = RandomMinMaxRegressor()"
   ]
  },
  {
   "cell_type": "code",
   "execution_count": 20,
   "metadata": {
    "collapsed": true
   },
   "outputs": [],
   "source": [
    "from sklearn.metrics import mean_absolute_error"
   ]
  },
  {
   "cell_type": "code",
   "execution_count": 21,
   "metadata": {
    "collapsed": true
   },
   "outputs": [],
   "source": [
    "def calc_ndcg_score(df, y_predict):\n",
    "    df = df.copy()\n",
    "    df[\"predict\"] = y_predict\n",
    "    #dcg\n",
    "    df.sort_values([\"context_id\", \"predict\"], ascending=[True, False], inplace=True)\n",
    "    df[\"row_count\"] = df.groupby(\"context_id\").cumcount()+1\n",
    "    df[\"dcg\"] = df[\"label\"] / np.log2(df[\"row_count\"] + 1)\n",
    "    #idcg\n",
    "    df.sort_values([\"context_id\", \"label\"], ascending=[True, False], inplace=True)\n",
    "    df[\"row_count\"] = df.groupby(\"context_id\").cumcount()+1\n",
    "    df[\"idcg\"] = df[\"label\"] / np.log2(df[\"row_count\"] + 1)\n",
    "    \n",
    "    df_context = df.groupby(\"context_id\").sum()\n",
    "    return (df_context[\"dcg\"] / df_context[\"idcg\"]).mean() * 100000"
   ]
  },
  {
   "cell_type": "code",
   "execution_count": 36,
   "metadata": {
    "collapsed": true
   },
   "outputs": [],
   "source": [
    "def do_cross_val(model_reg):\n",
    "    mae_errors = []\n",
    "    ndcg_scores = []\n",
    "\n",
    "    for _train, _test in tqdm_notebook(skf.split(pd_train.index, pd_train.label), total=3):\n",
    "        i_train = pd_train.iloc[_train]\n",
    "        i_test = pd_train.iloc[_test]\n",
    "\n",
    "        X_train = to_features(i_train)\n",
    "        X_test = to_features(i_test)\n",
    "        Y_train = i_train.label.values\n",
    "        Y_test = i_test.label.values\n",
    "\n",
    "        model_reg.fit(X_train, Y_train)\n",
    "        Y_predict = model_reg.predict(X_test)\n",
    "        mae_errors.append(mean_absolute_error(Y_test, Y_predict))\n",
    "        ndcg_scores.append(calc_ndcg_score(i_test, Y_predict))\n",
    "\n",
    "    print(mae_errors)\n",
    "    print(ndcg_scores)"
   ]
  },
  {
   "cell_type": "code",
   "execution_count": 39,
   "metadata": {},
   "outputs": [
    {
     "data": {
      "application/vnd.jupyter.widget-view+json": {
       "model_id": "fc17db8cf09b4746913077ea1172f81d",
       "version_major": 2,
       "version_minor": 0
      },
      "text/plain": [
       "A Jupyter Widget"
      ]
     },
     "metadata": {},
     "output_type": "display_data"
    },
    {
     "name": "stdout",
     "output_type": "stream",
     "text": [
      "\n",
      "[1.4865290758926417, 1.4505487927986205, 1.5525054989445051]\n",
      "[84992.04634993454, 85093.63778087734, 85223.37180947387]\n"
     ]
    }
   ],
   "source": [
    "do_cross_val(LinearRegression())"
   ]
  },
  {
   "cell_type": "code",
   "execution_count": 38,
   "metadata": {},
   "outputs": [
    {
     "data": {
      "application/vnd.jupyter.widget-view+json": {
       "model_id": "869afcb5ecba4e90bd16753ca7adea2a",
       "version_major": 2,
       "version_minor": 0
      },
      "text/plain": [
       "A Jupyter Widget"
      ]
     },
     "metadata": {},
     "output_type": "display_data"
    },
    {
     "name": "stdout",
     "output_type": "stream",
     "text": [
      "\n",
      "[0.94215100562127641, 0.94450351137377053, 0.94044066978111984]\n",
      "[82635.87988159526, 82487.80155424896, 82826.7969582632]\n"
     ]
    }
   ],
   "source": [
    "do_cross_val(RandomMinMaxRegressor())"
   ]
  },
  {
   "cell_type": "code",
   "execution_count": 49,
   "metadata": {},
   "outputs": [
    {
     "data": {
      "application/vnd.jupyter.widget-view+json": {
       "model_id": "50b474e15d3a46a394e98b602eb96f58",
       "version_major": 2,
       "version_minor": 0
      },
      "text/plain": [
       "A Jupyter Widget"
      ]
     },
     "metadata": {},
     "output_type": "display_data"
    },
    {
     "name": "stdout",
     "output_type": "stream",
     "text": [
      "\n",
      "[1.1195250984251968, 1.1126695579957553, 1.1291294986158105]\n",
      "[77475.71260547417, 77562.26032466823, 77472.45724727474]\n"
     ]
    }
   ],
   "source": [
    "def do_worst_ndcg():\n",
    "    mae_errors = []\n",
    "    ndcg_scores = []\n",
    "\n",
    "    for _train, _test in tqdm_notebook(skf.split(pd_train.index, pd_train.label), total=3):\n",
    "        i_test = pd_train.iloc[_test].copy().sort_values([\"context_id\", \"label\"], ascending=[True, False])\n",
    "        \n",
    "        Y_test = i_test.sort_values([\"context_id\", \"label\"], ascending=[True, False]).label.values\n",
    "        Y_predict = i_test.sort_values([\"context_id\", \"label\"], ascending=[True, True]).label.values\n",
    "        \n",
    "        mae_errors.append(mean_absolute_error(Y_test, Y_predict))\n",
    "        ndcg_scores.append(calc_ndcg_score(i_test, Y_predict))\n",
    "\n",
    "    print(mae_errors)\n",
    "    print(ndcg_scores)\n",
    "do_worst_ndcg()"
   ]
  },
  {
   "cell_type": "code",
   "execution_count": 48,
   "metadata": {},
   "outputs": [
    {
     "data": {
      "application/vnd.jupyter.widget-view+json": {
       "model_id": "e939d14288484d49aa29c3119cca8ec1",
       "version_major": 2,
       "version_minor": 0
      },
      "text/plain": [
       "A Jupyter Widget"
      ]
     },
     "metadata": {},
     "output_type": "display_data"
    },
    {
     "name": "stdout",
     "output_type": "stream",
     "text": [
      "\n",
      "[0.0, 0.0, 0.0]\n",
      "[100000.0, 100000.0, 100000.0]\n"
     ]
    }
   ],
   "source": [
    "def do_best_ndcg():\n",
    "    mae_errors = []\n",
    "    ndcg_scores = []\n",
    "\n",
    "    for _train, _test in tqdm_notebook(skf.split(pd_train.index, pd_train.label), total=3):\n",
    "        i_test = pd_train.iloc[_test].copy().sort_values([\"context_id\", \"label\"], ascending=[True, False])\n",
    "        \n",
    "        Y_test = i_test.sort_values([\"context_id\", \"label\"], ascending=[True, False]).label.values\n",
    "        Y_predict = i_test.sort_values([\"context_id\", \"label\"], ascending=[True, False]).label.values\n",
    "        \n",
    "        mae_errors.append(mean_absolute_error(Y_test, Y_predict))\n",
    "        ndcg_scores.append(calc_ndcg_score(i_test, Y_predict))\n",
    "\n",
    "    print(mae_errors)\n",
    "    print(ndcg_scores)\n",
    "do_best_ndcg()"
   ]
  },
  {
   "cell_type": "markdown",
   "metadata": {},
   "source": [
    "# Submit"
   ]
  },
  {
   "cell_type": "code",
   "execution_count": null,
   "metadata": {
    "collapsed": true
   },
   "outputs": [],
   "source": [
    "model_reg = None"
   ]
  },
  {
   "cell_type": "code",
   "execution_count": 117,
   "metadata": {},
   "outputs": [
    {
     "name": "stdout",
     "output_type": "stream",
     "text": [
      "features.shape = (97533, 86012)\n",
      "features.shape = (9968, 86012)\n"
     ]
    }
   ],
   "source": [
    "i_train = pd_train\n",
    "i_test = pd_public.copy()\n",
    "\n",
    "X_train = to_features(i_train)\n",
    "X_test = to_features(i_test)\n",
    "Y_train = i_train.label.values\n",
    "\n",
    "model_reg.fit(X_train, Y_train)\n",
    "Y_predict = model_reg.predict(X_test)"
   ]
  },
  {
   "cell_type": "code",
   "execution_count": 118,
   "metadata": {
    "collapsed": true
   },
   "outputs": [],
   "source": [
    "i_test[\"predict\"] = Y_predict\n",
    "i_test.sort_values([\"context_id\", \"predict\"], ascending=[True, False], inplace=True)"
   ]
  },
  {
   "cell_type": "code",
   "execution_count": 121,
   "metadata": {},
   "outputs": [
    {
     "data": {
      "text/html": [
       "<div>\n",
       "<style scoped>\n",
       "    .dataframe tbody tr th:only-of-type {\n",
       "        vertical-align: middle;\n",
       "    }\n",
       "\n",
       "    .dataframe tbody tr th {\n",
       "        vertical-align: top;\n",
       "    }\n",
       "\n",
       "    .dataframe thead th {\n",
       "        text-align: right;\n",
       "    }\n",
       "</style>\n",
       "<table border=\"1\" class=\"dataframe\">\n",
       "  <thead>\n",
       "    <tr style=\"text-align: right;\">\n",
       "      <th></th>\n",
       "      <th>context_id</th>\n",
       "      <th>context_2</th>\n",
       "      <th>context_1</th>\n",
       "      <th>context_0</th>\n",
       "      <th>reply_id</th>\n",
       "      <th>reply</th>\n",
       "      <th>predict</th>\n",
       "    </tr>\n",
       "  </thead>\n",
       "  <tbody>\n",
       "    <tr>\n",
       "      <th>3477</th>\n",
       "      <td>100097508986637</td>\n",
       "      <td></td>\n",
       "      <td></td>\n",
       "      <td>выключай их</td>\n",
       "      <td>2</td>\n",
       "      <td>выключить ?</td>\n",
       "      <td>2.370890</td>\n",
       "    </tr>\n",
       "    <tr>\n",
       "      <th>3475</th>\n",
       "      <td>100097508986637</td>\n",
       "      <td></td>\n",
       "      <td></td>\n",
       "      <td>выключай их</td>\n",
       "      <td>0</td>\n",
       "      <td>выключить что ?</td>\n",
       "      <td>2.365175</td>\n",
       "    </tr>\n",
       "    <tr>\n",
       "      <th>3479</th>\n",
       "      <td>100097508986637</td>\n",
       "      <td></td>\n",
       "      <td></td>\n",
       "      <td>выключай их</td>\n",
       "      <td>4</td>\n",
       "      <td>пытаюсь , сэр .</td>\n",
       "      <td>2.003706</td>\n",
       "    </tr>\n",
       "    <tr>\n",
       "      <th>3478</th>\n",
       "      <td>100097508986637</td>\n",
       "      <td></td>\n",
       "      <td></td>\n",
       "      <td>выключай их</td>\n",
       "      <td>3</td>\n",
       "      <td>я пытаюсь !</td>\n",
       "      <td>1.684137</td>\n",
       "    </tr>\n",
       "    <tr>\n",
       "      <th>3480</th>\n",
       "      <td>100097508986637</td>\n",
       "      <td></td>\n",
       "      <td></td>\n",
       "      <td>выключай их</td>\n",
       "      <td>5</td>\n",
       "      <td>выключите</td>\n",
       "      <td>1.299290</td>\n",
       "    </tr>\n",
       "    <tr>\n",
       "      <th>3476</th>\n",
       "      <td>100097508986637</td>\n",
       "      <td></td>\n",
       "      <td></td>\n",
       "      <td>выключай их</td>\n",
       "      <td>1</td>\n",
       "      <td>ты не выключишь , тогда € сам выключу</td>\n",
       "      <td>-0.009512</td>\n",
       "    </tr>\n",
       "    <tr>\n",
       "      <th>3483</th>\n",
       "      <td>100149747456986</td>\n",
       "      <td></td>\n",
       "      <td>как вы здесь оказались ?</td>\n",
       "      <td>не надо меня тянуть !</td>\n",
       "      <td>2</td>\n",
       "      <td>я не могу позволить вам уйти .</td>\n",
       "      <td>2.107446</td>\n",
       "    </tr>\n",
       "    <tr>\n",
       "      <th>3486</th>\n",
       "      <td>100149747456986</td>\n",
       "      <td></td>\n",
       "      <td>как вы здесь оказались ?</td>\n",
       "      <td>не надо меня тянуть !</td>\n",
       "      <td>5</td>\n",
       "      <td>что \" не надо \" ? не надо меня .</td>\n",
       "      <td>1.827438</td>\n",
       "    </tr>\n",
       "    <tr>\n",
       "      <th>3484</th>\n",
       "      <td>100149747456986</td>\n",
       "      <td></td>\n",
       "      <td>как вы здесь оказались ?</td>\n",
       "      <td>не надо меня тянуть !</td>\n",
       "      <td>3</td>\n",
       "      <td>мне уже легче .</td>\n",
       "      <td>1.726226</td>\n",
       "    </tr>\n",
       "    <tr>\n",
       "      <th>3482</th>\n",
       "      <td>100149747456986</td>\n",
       "      <td></td>\n",
       "      <td>как вы здесь оказались ?</td>\n",
       "      <td>не надо меня тянуть !</td>\n",
       "      <td>1</td>\n",
       "      <td>мне показалось , вы меня зовете .</td>\n",
       "      <td>1.698664</td>\n",
       "    </tr>\n",
       "    <tr>\n",
       "      <th>3481</th>\n",
       "      <td>100149747456986</td>\n",
       "      <td></td>\n",
       "      <td>как вы здесь оказались ?</td>\n",
       "      <td>не надо меня тянуть !</td>\n",
       "      <td>0</td>\n",
       "      <td>ладно .</td>\n",
       "      <td>1.594486</td>\n",
       "    </tr>\n",
       "    <tr>\n",
       "      <th>3485</th>\n",
       "      <td>100149747456986</td>\n",
       "      <td></td>\n",
       "      <td>как вы здесь оказались ?</td>\n",
       "      <td>не надо меня тянуть !</td>\n",
       "      <td>4</td>\n",
       "      <td>извините .</td>\n",
       "      <td>1.422720</td>\n",
       "    </tr>\n",
       "    <tr>\n",
       "      <th>3487</th>\n",
       "      <td>100441828256276</td>\n",
       "      <td>я чувствую !</td>\n",
       "      <td>по этой причине я здесь .</td>\n",
       "      <td>мой духовный путь !</td>\n",
       "      <td>0</td>\n",
       "      <td>нет никакого бога .</td>\n",
       "      <td>1.811108</td>\n",
       "    </tr>\n",
       "    <tr>\n",
       "      <th>3488</th>\n",
       "      <td>100441828256276</td>\n",
       "      <td>я чувствую !</td>\n",
       "      <td>по этой причине я здесь .</td>\n",
       "      <td>мой духовный путь !</td>\n",
       "      <td>1</td>\n",
       "      <td>мой .</td>\n",
       "      <td>1.554901</td>\n",
       "    </tr>\n",
       "    <tr>\n",
       "      <th>3490</th>\n",
       "      <td>100441828256276</td>\n",
       "      <td>я чувствую !</td>\n",
       "      <td>по этой причине я здесь .</td>\n",
       "      <td>мой духовный путь !</td>\n",
       "      <td>3</td>\n",
       "      <td>и мой .</td>\n",
       "      <td>1.554901</td>\n",
       "    </tr>\n",
       "  </tbody>\n",
       "</table>\n",
       "</div>"
      ],
      "text/plain": [
       "           context_id     context_2                  context_1  \\\n",
       "3477  100097508986637                                            \n",
       "3475  100097508986637                                            \n",
       "3479  100097508986637                                            \n",
       "3478  100097508986637                                            \n",
       "3480  100097508986637                                            \n",
       "3476  100097508986637                                            \n",
       "3483  100149747456986                 как вы здесь оказались ?   \n",
       "3486  100149747456986                 как вы здесь оказались ?   \n",
       "3484  100149747456986                 как вы здесь оказались ?   \n",
       "3482  100149747456986                 как вы здесь оказались ?   \n",
       "3481  100149747456986                 как вы здесь оказались ?   \n",
       "3485  100149747456986                 как вы здесь оказались ?   \n",
       "3487  100441828256276  я чувствую !  по этой причине я здесь .   \n",
       "3488  100441828256276  я чувствую !  по этой причине я здесь .   \n",
       "3490  100441828256276  я чувствую !  по этой причине я здесь .   \n",
       "\n",
       "                  context_0 reply_id                                  reply  \\\n",
       "3477            выключай их        2                            выключить ?   \n",
       "3475            выключай их        0                        выключить что ?   \n",
       "3479            выключай их        4                        пытаюсь , сэр .   \n",
       "3478            выключай их        3                            я пытаюсь !   \n",
       "3480            выключай их        5                              выключите   \n",
       "3476            выключай их        1  ты не выключишь , тогда € сам выключу   \n",
       "3483  не надо меня тянуть !        2         я не могу позволить вам уйти .   \n",
       "3486  не надо меня тянуть !        5       что \" не надо \" ? не надо меня .   \n",
       "3484  не надо меня тянуть !        3                        мне уже легче .   \n",
       "3482  не надо меня тянуть !        1      мне показалось , вы меня зовете .   \n",
       "3481  не надо меня тянуть !        0                                ладно .   \n",
       "3485  не надо меня тянуть !        4                             извините .   \n",
       "3487    мой духовный путь !        0                    нет никакого бога .   \n",
       "3488    мой духовный путь !        1                                  мой .   \n",
       "3490    мой духовный путь !        3                                и мой .   \n",
       "\n",
       "       predict  \n",
       "3477  2.370890  \n",
       "3475  2.365175  \n",
       "3479  2.003706  \n",
       "3478  1.684137  \n",
       "3480  1.299290  \n",
       "3476 -0.009512  \n",
       "3483  2.107446  \n",
       "3486  1.827438  \n",
       "3484  1.726226  \n",
       "3482  1.698664  \n",
       "3481  1.594486  \n",
       "3485  1.422720  \n",
       "3487  1.811108  \n",
       "3488  1.554901  \n",
       "3490  1.554901  "
      ]
     },
     "execution_count": 121,
     "metadata": {},
     "output_type": "execute_result"
    }
   ],
   "source": [
    "i_test.head(15)"
   ]
  },
  {
   "cell_type": "code",
   "execution_count": 120,
   "metadata": {
    "collapsed": true
   },
   "outputs": [],
   "source": [
    "submission_name = \"linear2_baseline.tsv\""
   ]
  },
  {
   "cell_type": "code",
   "execution_count": 122,
   "metadata": {
    "collapsed": true
   },
   "outputs": [],
   "source": [
    "i_test[[\"context_id\", \"reply_id\"]].to_csv(submission_name, index=False, header=False, sep=\"\\t\")"
   ]
  },
  {
   "cell_type": "markdown",
   "metadata": {
    "collapsed": true
   },
   "source": [
    "# tmp"
   ]
  },
  {
   "cell_type": "code",
   "execution_count": 13,
   "metadata": {},
   "outputs": [
    {
     "ename": "NameError",
     "evalue": "name 'pd_valid' is not defined",
     "output_type": "error",
     "traceback": [
      "\u001b[1;31m---------------------------------------------------------------------------\u001b[0m",
      "\u001b[1;31mNameError\u001b[0m                                 Traceback (most recent call last)",
      "\u001b[1;32m<ipython-input-13-1c59397f2a55>\u001b[0m in \u001b[0;36m<module>\u001b[1;34m()\u001b[0m\n\u001b[1;32m----> 1\u001b[1;33m \u001b[0mpd_valid\u001b[0m\u001b[1;33m\u001b[0m\u001b[0m\n\u001b[0m",
      "\u001b[1;31mNameError\u001b[0m: name 'pd_valid' is not defined"
     ]
    }
   ],
   "source": [
    "pd_valid"
   ]
  },
  {
   "cell_type": "code",
   "execution_count": null,
   "metadata": {
    "collapsed": true
   },
   "outputs": [],
   "source": []
  }
 ],
 "metadata": {
  "kernelspec": {
   "display_name": "Python 3",
   "language": "python",
   "name": "python3"
  },
  "language_info": {
   "codemirror_mode": {
    "name": "ipython",
    "version": 3
   },
   "file_extension": ".py",
   "mimetype": "text/x-python",
   "name": "python",
   "nbconvert_exporter": "python",
   "pygments_lexer": "ipython3",
   "version": "3.6.3"
  }
 },
 "nbformat": 4,
 "nbformat_minor": 2
}
